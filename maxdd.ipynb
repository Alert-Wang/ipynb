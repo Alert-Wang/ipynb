{
 "cells": [
  {
   "cell_type": "code",
   "execution_count": 1,
   "metadata": {
    "collapsed": false
   },
   "outputs": [],
   "source": [
    "import pandas as pd\n",
    "import numpy as np\n",
    "import matplotlib.pyplot as plt\n",
    "import setuptools\n",
    "%matplotlib inline\n",
    "%load_ext cython"
   ]
  },
  {
   "cell_type": "code",
   "execution_count": 2,
   "metadata": {
    "collapsed": true
   },
   "outputs": [],
   "source": [
    "def rolling_max_drawdown(sr):\n",
    "    for i in sr:\n",
    "        j = np.argmax(sr)\n",
    "        val = (sr[-1] - sr[j])\n",
    "        if  val >= 0 :\n",
    "            return 0\n",
    "        else:\n",
    "            return val"
   ]
  },
  {
   "cell_type": "code",
   "execution_count": 3,
   "metadata": {
    "collapsed": true
   },
   "outputs": [],
   "source": [
    "def max_drawdown_old(sr):\n",
    "    '''\n",
    "    复杂度 O(N^2)\n",
    "    INPUT:\n",
    "        iterable obj: (1dim)\n",
    "    OUTPUT:\n",
    "        maxdd: 最大回撤，为[-inf,0]\n",
    "        start: 最大回撤起始点下标\n",
    "        end:   最大回撤终止点下标\n",
    "    '''\n",
    "    if None in sr:\n",
    "        raise TypeError(\"Input has None:(Python type none).\")\n",
    "    if type(sr).__name__ == 'DataFrame':\n",
    "        raise TypeError(\"Input Type must in [python.list/pandas.Series/numpy.1darray]\")\n",
    "    if len(sr) <= 1:\n",
    "        return 0,0,0\n",
    "    if type(sr).__name__ == 'Series':\n",
    "        sr = sr.values\n",
    "    if any(np.isinf(sr)):\n",
    "        return np.inf,0,0\n",
    "        \n",
    "    if any(np.isnan(sr)):\n",
    "        mean = np.nanmean(sr)# use mean fill nan\n",
    "        sr[np.isnan(sr)] = mean\n",
    "    maxdds = []\n",
    "    starts = []\n",
    "    ends = []\n",
    "    for i in range(1,len(sr)):\n",
    "        j = np.argmax(sr[:i])#  little list maybe slow \n",
    "        \n",
    "        val = (sr[i] - sr[j])/sr[j]\n",
    "        if  val >= 0 :\n",
    "            maxdds.append(0)\n",
    "            starts.append(j)\n",
    "            ends.append(i)\n",
    "        else:\n",
    "            maxdds.append(val)\n",
    "            starts.append(j)\n",
    "            ends.append(i)\n",
    "    maxdd = min(maxdds)\n",
    "    maxddidx = maxdds.index(maxdd)\n",
    "    if maxdd == 0:\n",
    "        return 0,0,0\n",
    "    return maxdd,starts[maxddidx],ends[maxddidx]\n",
    "\n"
   ]
  },
  {
   "cell_type": "code",
   "execution_count": 8,
   "metadata": {
    "collapsed": true
   },
   "outputs": [],
   "source": [
    "# %%cython \n",
    "# import numpy as np\n",
    "# cimport numpy as np\n",
    "# cimport cython\n",
    "\n",
    "def max_drawdown(sr):\n",
    "    '''\n",
    "    复杂度 O(N^2)\n",
    "    INPUT:\n",
    "        iterable obj: (1dim)\n",
    "    OUTPUT:\n",
    "        maxdd: 最大回撤，为[-inf,0]\n",
    "        start: 最大回撤起始点下标\n",
    "        end:   最大回撤终止点下标\n",
    "    '''\n",
    "    if None in sr:\n",
    "        raise TypeError(\"Input has None:(Python type none).\")\n",
    "    if type(sr).__name__ == 'DataFrame':\n",
    "        raise TypeError(\"Input Type must in [python.list/pandas.Series/numpy.1darray]\")\n",
    "    if len(sr) <= 1:\n",
    "        return 0,0,0\n",
    "    if type(sr).__name__ == 'Series':\n",
    "        sr = sr.values\n",
    "    if any(np.isinf(sr)):\n",
    "        return np.inf,0,0\n",
    "        \n",
    "    if any(np.isnan(sr)):\n",
    "        mean = np.nanmean(sr)# use mean fill nan\n",
    "        sr[np.isnan(sr)] = mean\n",
    "        \n",
    "#     cdef int maxdd_cur = 0\n",
    "#     cdef int start_cur = 0\n",
    "#     cdef int end_cur = 0\n",
    "#     cdef int i = 0\n",
    "#     cdef int j = 0\n",
    "    \n",
    "    for i in range(1,len(sr)):\n",
    "        j = np.argmax(sr[:i])#  little list maybe slow \n",
    "        val = (sr[i] - sr[j])/sr[j]\n",
    "        if  val >= 0 :\n",
    "            pass\n",
    "        else:\n",
    "            if val < maxdd_cur:\n",
    "                maxdd_cur = val\n",
    "                start_cur = j\n",
    "                end_cur = i\n",
    "                \n",
    "    maxdd = maxdd_cur\n",
    "    istart = start_cur\n",
    "    iend = end_cur\n",
    "    if maxdd == 0:\n",
    "        return 0,0,0\n",
    "    return maxdd,istart,iend\n",
    "\n"
   ]
  },
  {
   "cell_type": "code",
   "execution_count": 9,
   "metadata": {
    "collapsed": false
   },
   "outputs": [
    {
     "name": "stdout",
     "output_type": "stream",
     "text": [
      "0.933333333333 33 34\n",
      "746 ms ± 56.7 ms per loop (mean ± std. dev. of 7 runs, 1 loop each)\n"
     ]
    }
   ],
   "source": [
    "sr  = pd.Series(np.array(1000*[1,2,3,4,5,4,5,6,7,8,9,10,8.5,8,7.5,8,9,8.5,8,7,6,5.5,6,7,8,9,6,6,7,8,9,12,8,15]))\n",
    "maxdd,start,end = max_drawdown_old(sr)\n",
    "print (maxdd,start,end)\n",
    "%timeit  max_drawdown(sr) # too slow"
   ]
  },
  {
   "cell_type": "code",
   "execution_count": 12,
   "metadata": {
    "collapsed": false
   },
   "outputs": [
    {
     "name": "stdout",
     "output_type": "stream",
     "text": [
      "-0.933333333333 33 34\n",
      "704 ms ± 21.3 ms per loop (mean ± std. dev. of 7 runs, 1 loop each)\n"
     ]
    }
   ],
   "source": [
    "sr  = pd.Series(np.array(1000*[1,2,3,4,5,4,5,6,7,8,9,10,8.5,8,7.5,8,9,8.5,8,7,6,5.5,6,7,8,9,6,6,7,8,9,12,8,15]))\n",
    "maxdd,start,end = max_drawdown(sr)\n",
    "print (maxdd,start,end)\n",
    "%timeit  max_drawdown(sr) # too slow"
   ]
  },
  {
   "cell_type": "code",
   "execution_count": 14,
   "metadata": {
    "collapsed": false
   },
   "outputs": [
    {
     "name": "stderr",
     "output_type": "stream",
     "text": [
      "/opt/anaconda/envs/py3/lib/python3.6/site-packages/numpy/core/fromnumeric.py:57: FutureWarning: 'argmax' is deprecated. Use 'idxmax' instead. The behavior of 'argmax' will be corrected to return the positional maximum in the future. Use 'series.values.argmax' to get the position of the maximum now.\n",
      "  return getattr(obj, method)(*args, **kwds)\n",
      "/opt/anaconda/envs/py3/lib/python3.6/site-packages/numpy/core/fromnumeric.py:57: FutureWarning: 'argmax' is deprecated. Use 'idxmax' instead. The behavior of 'argmax' will be corrected to return the positional maximum in the future. Use 'series.values.argmax' to get the position of the maximum now.\n",
      "  return getattr(obj, method)(*args, **kwds)\n"
     ]
    },
    {
     "name": "stdout",
     "output_type": "stream",
     "text": [
      "0.933333333333 33 34\n",
      "1.45 ms ± 47 µs per loop (mean ± std. dev. of 7 runs, 1000 loops each)\n"
     ]
    }
   ],
   "source": [
    "def max_drawdown(sr):\n",
    "    if np.isnan(sr).all() or np.isinf(sr).all():\n",
    "        return np.nan\n",
    "    i = np.argmax(np.maximum.accumulate(sr) - sr) # end of the period\n",
    "    j = np.argmax(sr[:i]) # start of period\n",
    "    return abs(sr[i] - sr[j] )/abs(sr[j]),j,i\n",
    "sr  = pd.Series(np.array(1000*[1,2,3,4,5,4,5,6,7,8,9,10,8.5,8,7.5,8,9,8.5,8,7,6,5.5,6,7,8,9,6,6,7,8,9,12,8,15]))\n",
    "maxdd,start,end = max_drawdown(sr)\n",
    "print (maxdd,start,end)\n",
    "# plt.plot(sr)\n",
    "# plt.plot(start,sr[start],'o')\n",
    "# plt.plot(end,sr[end],'o')\n",
    "%timeit  max_drawdown(sr) # too slow"
   ]
  },
  {
   "cell_type": "code",
   "execution_count": 63,
   "metadata": {
    "collapsed": false
   },
   "outputs": [
    {
     "name": "stderr",
     "output_type": "stream",
     "text": [
      "/opt/anaconda/envs/py3/lib/python3.6/site-packages/numpy/core/fromnumeric.py:57: FutureWarning: 'argmax' is deprecated. Use 'idxmax' instead. The behavior of 'argmax' will be corrected to return the positional maximum in the future. Use 'series.values.argmax' to get the position of the maximum now.\n",
      "  return getattr(obj, method)(*args, **kwds)\n"
     ]
    },
    {
     "name": "stdout",
     "output_type": "stream",
     "text": [
      "660 µs ± 19.3 µs per loop (mean ± std. dev. of 7 runs, 1000 loops each)\n"
     ]
    }
   ],
   "source": []
  },
  {
   "cell_type": "code",
   "execution_count": 57,
   "metadata": {
    "collapsed": false
   },
   "outputs": [
    {
     "name": "stdout",
     "output_type": "stream",
     "text": [
      "0.45 12.0 8.0\n"
     ]
    },
    {
     "data": {
      "text/plain": [
       "[<matplotlib.lines.Line2D at 0x7f6dae9f5780>]"
      ]
     },
     "execution_count": 57,
     "metadata": {},
     "output_type": "execute_result"
    },
    {
     "data": {
      "image/png": "[encoded data removed]",
      "text/plain": [
       "<matplotlib.figure.Figure at 0x7f6dae9c5be0>"
      ]
     },
     "metadata": {},
     "output_type": "display_data"
    }
   ],
   "source": [
    "def max_drawdown(sr): \n",
    "    start = 0\n",
    "    end = 0\n",
    "    max_dd = 0\n",
    "    is_down = False\n",
    "    for index in range(len(sr)-1):\n",
    "        try:\n",
    "            if sr[index] > start:\n",
    "                start = sr[index]\n",
    "            if sr[index+1] >= sr[index]:#下一天上涨\n",
    "                if not is_down:#之前没有下跌过\n",
    "                    continue\n",
    "                else:#之前下跌过\n",
    "                    dd = float(start - end) / start\n",
    "                    if dd > max_dd:\n",
    "                        max_dd = dd\n",
    "                    is_down = False\n",
    "            else:#下一天下跌\n",
    "                is_down = True\n",
    "                end = sr[index+1]\n",
    "        except:\n",
    "            continue\n",
    "    dd = float(start - end) / start\n",
    "    if dd > max_dd:\n",
    "        max_dd = dd\n",
    "\n",
    "    return max_dd, start, end\n",
    "\n",
    "sr  = pd.Series(np.array([1,2,3,4,5,4,5,6,7,8,9,10,8.5,8,7.5,8,9,8.5,8,7,6,5.5,6,7,8,9,6,6,7,8,9,12,8,15]))\n",
    "maxdd,start,end = max_drawdown(sr)\n",
    "print (maxdd,start,end)\n",
    "plt.plot(sr)\n",
    "plt.plot(start,sr[start],'o')\n",
    "plt.plot(end,sr[end],'o')"
   ]
  },
  {
   "cell_type": "code",
   "execution_count": 8,
   "metadata": {
    "collapsed": false
   },
   "outputs": [
    {
     "name": "stdout",
     "output_type": "stream",
     "text": [
      "-0.45 11 21\n"
     ]
    },
    {
     "data": {
      "text/plain": [
       "[<matplotlib.lines.Line2D at 0x7f6daeb15f60>]"
      ]
     },
     "execution_count": 8,
     "metadata": {},
     "output_type": "execute_result"
    },
    {
     "data": {
      "image/png": "[encoded data removed]",
      "text/plain": [
       "<matplotlib.figure.Figure at 0x7f6db0b9bb00>"
      ]
     },
     "metadata": {},
     "output_type": "display_data"
    }
   ],
   "source": [
    "sr  = pd.Series(np.array([1,2,3,4,5,4,5,6,7,8,9,10,8.5,8,7.5,8,9,8.5,8,7,6,5.5,6,7,8,9,6,6,7,8,9,12,8,15]))\n",
    "maxdd,start,end = max_drawdown(sr)\n",
    "print (maxdd,start,end)\n",
    "plt.plot(sr)\n",
    "plt.plot(start,sr[start],'o')\n",
    "plt.plot(end,sr[end],'o')"
   ]
  },
  {
   "cell_type": "code",
   "execution_count": 51,
   "metadata": {
    "collapsed": false
   },
   "outputs": [
    {
     "name": "stdout",
     "output_type": "stream",
     "text": [
      "0 0 0\n"
     ]
    },
    {
     "name": "stderr",
     "output_type": "stream",
     "text": [
      "/opt/anaconda/envs/py3/lib/python3.6/site-packages/numpy/core/fromnumeric.py:57: FutureWarning: 'argmax' is deprecated. Use 'idxmax' instead. The behavior of 'argmax' will be corrected to return the positional maximum in the future. Use 'series.values.argmax' to get the position of the maximum now.\n",
      "  return getattr(obj, method)(*args, **kwds)\n"
     ]
    },
    {
     "data": {
      "text/plain": [
       "[<matplotlib.lines.Line2D at 0x7f5d5406d400>]"
      ]
     },
     "execution_count": 51,
     "metadata": {},
     "output_type": "execute_result"
    },
    {
     "data": {
      "image/png": "[encoded data removed]",
      "text/plain": [
       "<matplotlib.figure.Figure at 0x7f5d541605c0>"
      ]
     },
     "metadata": {},
     "output_type": "display_data"
    }
   ],
   "source": [
    "sr  = pd.Series(np.array([1,2,3,4,5]))\n",
    "maxdd,start,end = max_drawdown(sr)\n",
    "print (maxdd,start,end)\n",
    "plt.plot(sr)\n",
    "plt.plot(start,sr[start],'o')\n",
    "plt.plot(end,sr[end],'o')"
   ]
  },
  {
   "cell_type": "code",
   "execution_count": 28,
   "metadata": {
    "collapsed": false
   },
   "outputs": [
    {
     "name": "stdout",
     "output_type": "stream",
     "text": [
      "-0.375 0 3\n"
     ]
    },
    {
     "name": "stderr",
     "output_type": "stream",
     "text": [
      "/opt/anaconda/envs/py3/lib/python3.6/site-packages/numpy/core/fromnumeric.py:57: FutureWarning: 'argmax' is deprecated. Use 'idxmax' instead. The behavior of 'argmax' will be corrected to return the positional maximum in the future. Use 'series.values.argmax' to get the position of the maximum now.\n",
      "  return getattr(obj, method)(*args, **kwds)\n"
     ]
    },
    {
     "data": {
      "image/png": "[encoded data removed]",
      "text/plain": [
       "<matplotlib.figure.Figure at 0x7f71a1b76048>"
      ]
     },
     "metadata": {},
     "output_type": "display_data"
    }
   ],
   "source": [
    "sr  = pd.Series(np.array([8,6,np.nan,5,7,8,9,6,7,8,9,10]))\n",
    "maxdd,start,end = max_drawdown(sr)\n",
    "plt.plot(sr)\n",
    "plt.plot(start,sr[start],'o')\n",
    "plt.plot(end,sr[end],'o')\n",
    "print (maxdd,start,end)"
   ]
  },
  {
   "cell_type": "code",
   "execution_count": 65,
   "metadata": {
    "collapsed": false
   },
   "outputs": [
    {
     "name": "stdout",
     "output_type": "stream",
     "text": [
      "-0.25 0 1\n"
     ]
    },
    {
     "name": "stderr",
     "output_type": "stream",
     "text": [
      "/opt/anaconda/envs/py3/lib/python3.6/site-packages/numpy/core/fromnumeric.py:57: FutureWarning: 'argmax' is deprecated. Use 'idxmax' instead. The behavior of 'argmax' will be corrected to return the positional maximum in the future. Use 'series.values.argmax' to get the position of the maximum now.\n",
      "  return getattr(obj, method)(*args, **kwds)\n",
      "/opt/anaconda/envs/py3/lib/python3.6/site-packages/ipykernel_launcher.py:11: RuntimeWarning: invalid value encountered in double_scalars\n",
      "  # This is added back by InteractiveShellApp.init_path()\n"
     ]
    },
    {
     "data": {
      "image/png": "[encoded data removed]",
      "text/plain": [
       "<matplotlib.figure.Figure at 0x7f5d4dd130b8>"
      ]
     },
     "metadata": {},
     "output_type": "display_data"
    }
   ],
   "source": [
    "sr  = pd.Series(np.array([8,6,np.inf,5,7,8,9,6,7,8,9,10]))\n",
    "maxdd,start,end = max_drawdown(sr)\n",
    "plt.plot(sr)\n",
    "plt.plot(start,sr[start],'o')\n",
    "plt.plot(end,sr[end],'o')\n",
    "print (maxdd,start,end)"
   ]
  },
  {
   "cell_type": "code",
   "execution_count": 73,
   "metadata": {
    "collapsed": false
   },
   "outputs": [
    {
     "name": "stdout",
     "output_type": "stream",
     "text": [
      "True\n",
      "-0.25 0 1\n"
     ]
    },
    {
     "name": "stderr",
     "output_type": "stream",
     "text": [
      "/opt/anaconda/envs/py3/lib/python3.6/site-packages/numpy/core/fromnumeric.py:57: FutureWarning: 'argmax' is deprecated. Use 'idxmax' instead. The behavior of 'argmax' will be corrected to return the positional maximum in the future. Use 'series.values.argmax' to get the position of the maximum now.\n",
      "  return getattr(obj, method)(*args, **kwds)\n",
      "/opt/anaconda/envs/py3/lib/python3.6/site-packages/ipykernel_launcher.py:12: RuntimeWarning: invalid value encountered in double_scalars\n",
      "  if sys.path[0] == '':\n"
     ]
    },
    {
     "data": {
      "image/png": "[encoded data removed]",
      "text/plain": [
       "<matplotlib.figure.Figure at 0x7f5d4db42898>"
      ]
     },
     "metadata": {},
     "output_type": "display_data"
    }
   ],
   "source": [
    "sr  = pd.Series(np.array([8,6,np.inf,5,-7,-8,9,6,7,8,9,10]))\n",
    "maxdd,start,end = max_drawdown(sr)\n",
    "plt.plot(sr)\n",
    "plt.plot(start,sr[start],'o')\n",
    "plt.plot(end,sr[end],'o')\n",
    "print (maxdd,start,end)"
   ]
  },
  {
   "cell_type": "code",
   "execution_count": 12,
   "metadata": {
    "collapsed": false
   },
   "outputs": [
    {
     "name": "stdout",
     "output_type": "stream",
     "text": [
      "(-15.0, 4, 5)\n"
     ]
    },
    {
     "data": {
      "text/plain": [
       "[<matplotlib.lines.Line2D at 0xac0c630>]"
      ]
     },
     "execution_count": 12,
     "metadata": {},
     "output_type": "execute_result"
    },
    {
     "data": {
      "image/png": "[encoded data removed]",
      "text/plain": [
       "<matplotlib.figure.Figure at 0xb00af60>"
      ]
     },
     "metadata": {},
     "output_type": "display_data"
    }
   ],
   "source": [
    "sr  = np.array([8,6,7,5,-7,-8,9,6,7,8,9,10],dtype=np.float32)\n",
    "maxdd,start,end = max_drawdown(sr)\n",
    "print (maxdd,start,end)\n",
    "plt.plot(sr)\n",
    "plt.plot(start,sr[start],'o')\n",
    "plt.plot(end,sr[end],'o')\n"
   ]
  },
  {
   "cell_type": "code",
   "execution_count": 13,
   "metadata": {
    "collapsed": false,
    "scrolled": true
   },
   "outputs": [
    {
     "name": "stdout",
     "output_type": "stream",
     "text": [
      "46.3 µs ± 3.64 µs per loop (mean ± std. dev. of 7 runs, 10000 loops each)\n"
     ]
    }
   ],
   "source": [
    "sr  = np.array([8,6,7,5,-7,-8,9,6,7,8,9,10])\n",
    "%timeit  max_drawdown(sr)\n"
   ]
  },
  {
   "cell_type": "code",
   "execution_count": 16,
   "metadata": {
    "collapsed": false,
    "scrolled": true
   },
   "outputs": [
    {
     "ename": "NameError",
     "evalue": "name 'xrange' is not defined",
     "output_type": "error",
     "traceback": [
      "\u001b[0;31m---------------------------------------------------------------------------\u001b[0m",
      "\u001b[0;31mNameError\u001b[0m                                 Traceback (most recent call last)",
      "\u001b[0;32m<ipython-input-16-a56a01d27bfc>\u001b[0m in \u001b[0;36m<module>\u001b[0;34m()\u001b[0m\n\u001b[1;32m      1\u001b[0m \u001b[0msr\u001b[0m  \u001b[0;34m=\u001b[0m \u001b[0mnp\u001b[0m\u001b[0;34m.\u001b[0m\u001b[0marray\u001b[0m\u001b[0;34m(\u001b[0m\u001b[0;34m[\u001b[0m\u001b[0;36m8\u001b[0m\u001b[0;34m,\u001b[0m\u001b[0;36m6\u001b[0m\u001b[0;34m,\u001b[0m\u001b[0;36m7\u001b[0m\u001b[0;34m,\u001b[0m\u001b[0;36m5\u001b[0m\u001b[0;34m,\u001b[0m\u001b[0;34m-\u001b[0m\u001b[0;36m7\u001b[0m\u001b[0;34m,\u001b[0m\u001b[0;34m-\u001b[0m\u001b[0;36m8\u001b[0m\u001b[0;34m,\u001b[0m\u001b[0;36m9\u001b[0m\u001b[0;34m,\u001b[0m\u001b[0;36m6\u001b[0m\u001b[0;34m,\u001b[0m\u001b[0;36m7\u001b[0m\u001b[0;34m,\u001b[0m\u001b[0;36m8\u001b[0m\u001b[0;34m,\u001b[0m\u001b[0;36m9\u001b[0m\u001b[0;34m,\u001b[0m\u001b[0;36m10\u001b[0m\u001b[0;34m]\u001b[0m\u001b[0;34m)\u001b[0m\u001b[0;34m\u001b[0m\u001b[0m\n\u001b[0;32m----> 2\u001b[0;31m \u001b[0mget_ipython\u001b[0m\u001b[0;34m(\u001b[0m\u001b[0;34m)\u001b[0m\u001b[0;34m.\u001b[0m\u001b[0mrun_line_magic\u001b[0m\u001b[0;34m(\u001b[0m\u001b[0;34m'timeit'\u001b[0m\u001b[0;34m,\u001b[0m \u001b[0;34m'max_drawdown(sr)'\u001b[0m\u001b[0;34m)\u001b[0m\u001b[0;34m\u001b[0m\u001b[0m\n\u001b[0m",
      "\u001b[0;32m/opt/anaconda/envs/py3/lib/python3.6/site-packages/IPython/core/interactiveshell.py\u001b[0m in \u001b[0;36mrun_line_magic\u001b[0;34m(self, magic_name, line, _stack_depth)\u001b[0m\n\u001b[1;32m   2093\u001b[0m                 \u001b[0mkwargs\u001b[0m\u001b[0;34m[\u001b[0m\u001b[0;34m'local_ns'\u001b[0m\u001b[0;34m]\u001b[0m \u001b[0;34m=\u001b[0m \u001b[0msys\u001b[0m\u001b[0;34m.\u001b[0m\u001b[0m_getframe\u001b[0m\u001b[0;34m(\u001b[0m\u001b[0mstack_depth\u001b[0m\u001b[0;34m)\u001b[0m\u001b[0;34m.\u001b[0m\u001b[0mf_locals\u001b[0m\u001b[0;34m\u001b[0m\u001b[0m\n\u001b[1;32m   2094\u001b[0m             \u001b[0;32mwith\u001b[0m \u001b[0mself\u001b[0m\u001b[0;34m.\u001b[0m\u001b[0mbuiltin_trap\u001b[0m\u001b[0;34m:\u001b[0m\u001b[0;34m\u001b[0m\u001b[0m\n\u001b[0;32m-> 2095\u001b[0;31m                 \u001b[0mresult\u001b[0m \u001b[0;34m=\u001b[0m \u001b[0mfn\u001b[0m\u001b[0;34m(\u001b[0m\u001b[0;34m*\u001b[0m\u001b[0margs\u001b[0m\u001b[0;34m,\u001b[0m\u001b[0;34m**\u001b[0m\u001b[0mkwargs\u001b[0m\u001b[0;34m)\u001b[0m\u001b[0;34m\u001b[0m\u001b[0m\n\u001b[0m\u001b[1;32m   2096\u001b[0m             \u001b[0;32mreturn\u001b[0m \u001b[0mresult\u001b[0m\u001b[0;34m\u001b[0m\u001b[0m\n\u001b[1;32m   2097\u001b[0m \u001b[0;34m\u001b[0m\u001b[0m\n",
      "\u001b[0;32m<decorator-gen-61>\u001b[0m in \u001b[0;36mtimeit\u001b[0;34m(self, line, cell, local_ns)\u001b[0m\n",
      "\u001b[0;32m/opt/anaconda/envs/py3/lib/python3.6/site-packages/IPython/core/magic.py\u001b[0m in \u001b[0;36m<lambda>\u001b[0;34m(f, *a, **k)\u001b[0m\n\u001b[1;32m    185\u001b[0m     \u001b[0;31m# but it's overkill for just that one bit of state.\u001b[0m\u001b[0;34m\u001b[0m\u001b[0;34m\u001b[0m\u001b[0m\n\u001b[1;32m    186\u001b[0m     \u001b[0;32mdef\u001b[0m \u001b[0mmagic_deco\u001b[0m\u001b[0;34m(\u001b[0m\u001b[0marg\u001b[0m\u001b[0;34m)\u001b[0m\u001b[0;34m:\u001b[0m\u001b[0;34m\u001b[0m\u001b[0m\n\u001b[0;32m--> 187\u001b[0;31m         \u001b[0mcall\u001b[0m \u001b[0;34m=\u001b[0m \u001b[0;32mlambda\u001b[0m \u001b[0mf\u001b[0m\u001b[0;34m,\u001b[0m \u001b[0;34m*\u001b[0m\u001b[0ma\u001b[0m\u001b[0;34m,\u001b[0m \u001b[0;34m**\u001b[0m\u001b[0mk\u001b[0m\u001b[0;34m:\u001b[0m \u001b[0mf\u001b[0m\u001b[0;34m(\u001b[0m\u001b[0;34m*\u001b[0m\u001b[0ma\u001b[0m\u001b[0;34m,\u001b[0m \u001b[0;34m**\u001b[0m\u001b[0mk\u001b[0m\u001b[0;34m)\u001b[0m\u001b[0;34m\u001b[0m\u001b[0m\n\u001b[0m\u001b[1;32m    188\u001b[0m \u001b[0;34m\u001b[0m\u001b[0m\n\u001b[1;32m    189\u001b[0m         \u001b[0;32mif\u001b[0m \u001b[0mcallable\u001b[0m\u001b[0;34m(\u001b[0m\u001b[0marg\u001b[0m\u001b[0;34m)\u001b[0m\u001b[0;34m:\u001b[0m\u001b[0;34m\u001b[0m\u001b[0m\n",
      "\u001b[0;32m/opt/anaconda/envs/py3/lib/python3.6/site-packages/IPython/core/magics/execution.py\u001b[0m in \u001b[0;36mtimeit\u001b[0;34m(self, line, cell, local_ns)\u001b[0m\n\u001b[1;32m   1096\u001b[0m             \u001b[0;32mfor\u001b[0m \u001b[0mindex\u001b[0m \u001b[0;32min\u001b[0m \u001b[0mrange\u001b[0m\u001b[0;34m(\u001b[0m\u001b[0;36m0\u001b[0m\u001b[0;34m,\u001b[0m \u001b[0;36m10\u001b[0m\u001b[0;34m)\u001b[0m\u001b[0;34m:\u001b[0m\u001b[0;34m\u001b[0m\u001b[0m\n\u001b[1;32m   1097\u001b[0m                 \u001b[0mnumber\u001b[0m \u001b[0;34m=\u001b[0m \u001b[0;36m10\u001b[0m \u001b[0;34m**\u001b[0m \u001b[0mindex\u001b[0m\u001b[0;34m\u001b[0m\u001b[0m\n\u001b[0;32m-> 1098\u001b[0;31m                 \u001b[0mtime_number\u001b[0m \u001b[0;34m=\u001b[0m \u001b[0mtimer\u001b[0m\u001b[0;34m.\u001b[0m\u001b[0mtimeit\u001b[0m\u001b[0;34m(\u001b[0m\u001b[0mnumber\u001b[0m\u001b[0;34m)\u001b[0m\u001b[0;34m\u001b[0m\u001b[0m\n\u001b[0m\u001b[1;32m   1099\u001b[0m                 \u001b[0;32mif\u001b[0m \u001b[0mtime_number\u001b[0m \u001b[0;34m>=\u001b[0m \u001b[0;36m0.2\u001b[0m\u001b[0;34m:\u001b[0m\u001b[0;34m\u001b[0m\u001b[0m\n\u001b[1;32m   1100\u001b[0m                     \u001b[0;32mbreak\u001b[0m\u001b[0;34m\u001b[0m\u001b[0m\n",
      "\u001b[0;32m/opt/anaconda/envs/py3/lib/python3.6/site-packages/IPython/core/magics/execution.py\u001b[0m in \u001b[0;36mtimeit\u001b[0;34m(self, number)\u001b[0m\n\u001b[1;32m    158\u001b[0m         \u001b[0mgc\u001b[0m\u001b[0;34m.\u001b[0m\u001b[0mdisable\u001b[0m\u001b[0;34m(\u001b[0m\u001b[0;34m)\u001b[0m\u001b[0;34m\u001b[0m\u001b[0m\n\u001b[1;32m    159\u001b[0m         \u001b[0;32mtry\u001b[0m\u001b[0;34m:\u001b[0m\u001b[0;34m\u001b[0m\u001b[0m\n\u001b[0;32m--> 160\u001b[0;31m             \u001b[0mtiming\u001b[0m \u001b[0;34m=\u001b[0m \u001b[0mself\u001b[0m\u001b[0;34m.\u001b[0m\u001b[0minner\u001b[0m\u001b[0;34m(\u001b[0m\u001b[0mit\u001b[0m\u001b[0;34m,\u001b[0m \u001b[0mself\u001b[0m\u001b[0;34m.\u001b[0m\u001b[0mtimer\u001b[0m\u001b[0;34m)\u001b[0m\u001b[0;34m\u001b[0m\u001b[0m\n\u001b[0m\u001b[1;32m    161\u001b[0m         \u001b[0;32mfinally\u001b[0m\u001b[0;34m:\u001b[0m\u001b[0;34m\u001b[0m\u001b[0m\n\u001b[1;32m    162\u001b[0m             \u001b[0;32mif\u001b[0m \u001b[0mgcold\u001b[0m\u001b[0;34m:\u001b[0m\u001b[0;34m\u001b[0m\u001b[0m\n",
      "\u001b[0;32m<magic-timeit>\u001b[0m in \u001b[0;36minner\u001b[0;34m(_it, _timer)\u001b[0m\n",
      "\u001b[0;32m<ipython-input-15-a79920a7004e>\u001b[0m in \u001b[0;36mmax_drawdown\u001b[0;34m(sr)\u001b[0m\n\u001b[1;32m     19\u001b[0m     \u001b[0mstarts\u001b[0m \u001b[0;34m=\u001b[0m \u001b[0;34m[\u001b[0m\u001b[0;34m]\u001b[0m\u001b[0;34m\u001b[0m\u001b[0m\n\u001b[1;32m     20\u001b[0m     \u001b[0mends\u001b[0m \u001b[0;34m=\u001b[0m \u001b[0;34m[\u001b[0m\u001b[0;34m]\u001b[0m\u001b[0;34m\u001b[0m\u001b[0m\n\u001b[0;32m---> 21\u001b[0;31m     \u001b[0;32mfor\u001b[0m \u001b[0mi\u001b[0m \u001b[0;32min\u001b[0m \u001b[0mxrange\u001b[0m\u001b[0;34m(\u001b[0m\u001b[0;36m1\u001b[0m\u001b[0;34m,\u001b[0m\u001b[0mlen\u001b[0m\u001b[0;34m(\u001b[0m\u001b[0msr\u001b[0m\u001b[0;34m)\u001b[0m\u001b[0;34m)\u001b[0m\u001b[0;34m:\u001b[0m\u001b[0;34m\u001b[0m\u001b[0m\n\u001b[0m\u001b[1;32m     22\u001b[0m         \u001b[0mj\u001b[0m \u001b[0;34m=\u001b[0m \u001b[0mnp\u001b[0m\u001b[0;34m.\u001b[0m\u001b[0margmax\u001b[0m\u001b[0;34m(\u001b[0m\u001b[0msr\u001b[0m\u001b[0;34m[\u001b[0m\u001b[0;34m:\u001b[0m\u001b[0mi\u001b[0m\u001b[0;34m]\u001b[0m\u001b[0;34m)\u001b[0m\u001b[0;31m# numpy array nan maybe skip front\u001b[0m\u001b[0;34m\u001b[0m\u001b[0m\n\u001b[1;32m     23\u001b[0m         \u001b[0mval\u001b[0m \u001b[0;34m=\u001b[0m \u001b[0;34m(\u001b[0m\u001b[0msr\u001b[0m\u001b[0;34m[\u001b[0m\u001b[0mi\u001b[0m\u001b[0;34m]\u001b[0m \u001b[0;34m-\u001b[0m \u001b[0msr\u001b[0m\u001b[0;34m[\u001b[0m\u001b[0mj\u001b[0m\u001b[0;34m]\u001b[0m\u001b[0;34m)\u001b[0m\u001b[0;34m/\u001b[0m\u001b[0msr\u001b[0m\u001b[0;34m[\u001b[0m\u001b[0mj\u001b[0m\u001b[0;34m]\u001b[0m\u001b[0;34m\u001b[0m\u001b[0m\n",
      "\u001b[0;31mNameError\u001b[0m: name 'xrange' is not defined"
     ]
    }
   ],
   "source": [
    "sr  = np.array([8,6,7,5,-7,-8,9,6,7,8,9,10])\n",
    "%timeit  max_drawdown(sr)\n"
   ]
  },
  {
   "cell_type": "code",
   "execution_count": 14,
   "metadata": {
    "collapsed": false,
    "scrolled": true
   },
   "outputs": [
    {
     "name": "stdout",
     "output_type": "stream",
     "text": [
      "116 µs ± 5 µs per loop (mean ± std. dev. of 7 runs, 10000 loops each)\n"
     ]
    }
   ],
   "source": [
    "sr  = pd.Series(np.array([8,6,7,5,-7,-8,9,6,7,8,9,10]))\n",
    "%timeit  max_drawdown(sr)\n"
   ]
  },
  {
   "cell_type": "code",
   "execution_count": 10,
   "metadata": {
    "collapsed": false
   },
   "outputs": [
    {
     "name": "stderr",
     "output_type": "stream",
     "text": [
      "c:\\users\\administrator\\anaconda2\\lib\\site-packages\\Cython\\Compiler\\Main.py:367: FutureWarning: Cython directive 'language_level' not set, using 2 for now (Py2). This will change in a later release! File: C:\\Users\\Administrator\\.ipython\\cython\\_cython_magic_38db863bbe475db37abdce4ce3f65655.pyx\n",
      "  tree = Parsing.p_module(s, pxd, full_module_name)\n"
     ]
    }
   ],
   "source": [
    "%%cython\n",
    "import setuptools\n",
    "import numpy as np\n",
    "cimport numpy as np\n",
    "cimport cython \n",
    "# cdef extern from \"math.h\":\n",
    "#     int isnan(double x)\n",
    "\n",
    "FLOAT = np.float32\n",
    "ctypedef np.float32_t FLOAT_T \n",
    "INT = np.int32\n",
    "ctypedef np.int32_t INT_T \n",
    "\n",
    "# @cython.cdivision(True)\n",
    "# @cython.boundscheck(False)\n",
    "# @cython.wraparound(False)\n",
    "# @cython.profile(False)\n",
    "def get_maxdd(\n",
    "        np.ndarray[FLOAT_T , ndim=1] pnl,\n",
    "        ):\n",
    "\n",
    "    cdef int ii, jj, sta, end\n",
    "    cdef int num_days\n",
    "    cdef FLOAT_T maxdd, sum_pnl\n",
    "    num_days = pnl.shape[0]\n",
    "\n",
    "    sta = 0 \n",
    "    end = 0 \n",
    "    maxdd = 0 \n",
    "    for ii in range(0, num_days):\n",
    "        sum_pnl = 0 \n",
    "        for jj in range(ii, num_days):\n",
    "            if np.isnan(pnl[jj]):\n",
    "                continue\n",
    "            else:\n",
    "                sum_pnl += pnl[jj] \n",
    "            if sum_pnl<maxdd:\n",
    "                maxdd = sum_pnl\n",
    "                sta = ii\n",
    "                end = jj\n",
    "\n",
    "    return maxdd,sta, end "
   ]
  },
  {
   "cell_type": "code",
   "execution_count": 11,
   "metadata": {
    "collapsed": true
   },
   "outputs": [],
   "source": [
    "max_drawdown = get_maxdd"
   ]
  },
  {
   "cell_type": "code",
   "execution_count": 6,
   "metadata": {
    "collapsed": false
   },
   "outputs": [
    {
     "ename": "LinkError",
     "evalue": "command 'C:\\\\Users\\\\Administrator\\\\AppData\\\\Local\\\\Programs\\\\Common\\\\Microsoft\\\\Visual C++ for Python\\\\9.0\\\\VC\\\\Bin\\\\amd64\\\\link.exe' failed with exit status 1120",
     "output_type": "error",
     "traceback": [
      "\u001b[1;31m---------------------------------------------------------------------------\u001b[0m",
      "\u001b[1;31mLinkError\u001b[0m                                 Traceback (most recent call last)",
      "\u001b[1;32m<ipython-input-2-25162cf02c7a>\u001b[0m in \u001b[0;36m<module>\u001b[1;34m()\u001b[0m\n\u001b[1;32m----> 1\u001b[1;33m \u001b[0mget_ipython\u001b[0m\u001b[1;33m(\u001b[0m\u001b[1;33m)\u001b[0m\u001b[1;33m.\u001b[0m\u001b[0mrun_cell_magic\u001b[0m\u001b[1;33m(\u001b[0m\u001b[1;34mu'cython'\u001b[0m\u001b[1;33m,\u001b[0m \u001b[1;34mu''\u001b[0m\u001b[1;33m,\u001b[0m \u001b[1;34mu'import setuptools\\nimport numpy as np\\ncimport numpy as np\\ncimport cython \\ncdef extern from \"math.h\":\\n    int isnan(double x)\\n\\nFLOAT = np.float32\\nctypedef np.float32_t FLOAT_T \\nINT = np.int32\\nctypedef np.int32_t INT_T \\n\\n@cython.cdivision(True)\\n@cython.boundscheck(False)\\n@cython.wraparound(False)\\n@cython.profile(False)\\ndef get_maxdd(\\n        np.ndarray[FLOAT_T , ndim=1] pnl,\\n        ):\\n\\n    cdef int ii, jj, sta, end\\n    cdef int num_days\\n    cdef FLOAT_T maxdd, sum_pnl\\n    num_days = pnl.shape[0]\\n\\n    sta = 0 \\n    end = 0 \\n    maxdd = 0 \\n    for ii in range(0, num_days):\\n        sum_pnl = 0 \\n        for jj in range(ii, num_days):\\n            if isnan(pnl[jj]):\\n                continue\\n            else:\\n                sum_pnl += pnl[jj] \\n            if sum_pnl<maxdd:\\n                maxdd = sum_pnl\\n                sta = ii\\n                end = jj\\n\\n    return sta, end, maxdd '\u001b[0m\u001b[1;33m)\u001b[0m\u001b[1;33m\u001b[0m\u001b[0m\n\u001b[0m",
      "\u001b[1;32mc:\\users\\administrator\\anaconda2\\lib\\site-packages\\IPython\\core\\interactiveshell.pyc\u001b[0m in \u001b[0;36mrun_cell_magic\u001b[1;34m(self, magic_name, line, cell)\u001b[0m\n\u001b[0;32m   2113\u001b[0m             \u001b[0mmagic_arg_s\u001b[0m \u001b[1;33m=\u001b[0m \u001b[0mself\u001b[0m\u001b[1;33m.\u001b[0m\u001b[0mvar_expand\u001b[0m\u001b[1;33m(\u001b[0m\u001b[0mline\u001b[0m\u001b[1;33m,\u001b[0m \u001b[0mstack_depth\u001b[0m\u001b[1;33m)\u001b[0m\u001b[1;33m\u001b[0m\u001b[0m\n\u001b[0;32m   2114\u001b[0m             \u001b[1;32mwith\u001b[0m \u001b[0mself\u001b[0m\u001b[1;33m.\u001b[0m\u001b[0mbuiltin_trap\u001b[0m\u001b[1;33m:\u001b[0m\u001b[1;33m\u001b[0m\u001b[0m\n\u001b[1;32m-> 2115\u001b[1;33m                 \u001b[0mresult\u001b[0m \u001b[1;33m=\u001b[0m \u001b[0mfn\u001b[0m\u001b[1;33m(\u001b[0m\u001b[0mmagic_arg_s\u001b[0m\u001b[1;33m,\u001b[0m \u001b[0mcell\u001b[0m\u001b[1;33m)\u001b[0m\u001b[1;33m\u001b[0m\u001b[0m\n\u001b[0m\u001b[0;32m   2116\u001b[0m             \u001b[1;32mreturn\u001b[0m \u001b[0mresult\u001b[0m\u001b[1;33m\u001b[0m\u001b[0m\n\u001b[0;32m   2117\u001b[0m \u001b[1;33m\u001b[0m\u001b[0m\n",
      "\u001b[1;32m<decorator-gen-125>\u001b[0m in \u001b[0;36mcython\u001b[1;34m(self, line, cell)\u001b[0m\n",
      "\u001b[1;32mc:\\users\\administrator\\anaconda2\\lib\\site-packages\\IPython\\core\\magic.pyc\u001b[0m in \u001b[0;36m<lambda>\u001b[1;34m(f, *a, **k)\u001b[0m\n\u001b[0;32m    186\u001b[0m     \u001b[1;31m# but it's overkill for just that one bit of state.\u001b[0m\u001b[1;33m\u001b[0m\u001b[1;33m\u001b[0m\u001b[0m\n\u001b[0;32m    187\u001b[0m     \u001b[1;32mdef\u001b[0m \u001b[0mmagic_deco\u001b[0m\u001b[1;33m(\u001b[0m\u001b[0marg\u001b[0m\u001b[1;33m)\u001b[0m\u001b[1;33m:\u001b[0m\u001b[1;33m\u001b[0m\u001b[0m\n\u001b[1;32m--> 188\u001b[1;33m         \u001b[0mcall\u001b[0m \u001b[1;33m=\u001b[0m \u001b[1;32mlambda\u001b[0m \u001b[0mf\u001b[0m\u001b[1;33m,\u001b[0m \u001b[1;33m*\u001b[0m\u001b[0ma\u001b[0m\u001b[1;33m,\u001b[0m \u001b[1;33m**\u001b[0m\u001b[0mk\u001b[0m\u001b[1;33m:\u001b[0m \u001b[0mf\u001b[0m\u001b[1;33m(\u001b[0m\u001b[1;33m*\u001b[0m\u001b[0ma\u001b[0m\u001b[1;33m,\u001b[0m \u001b[1;33m**\u001b[0m\u001b[0mk\u001b[0m\u001b[1;33m)\u001b[0m\u001b[1;33m\u001b[0m\u001b[0m\n\u001b[0m\u001b[0;32m    189\u001b[0m \u001b[1;33m\u001b[0m\u001b[0m\n\u001b[0;32m    190\u001b[0m         \u001b[1;32mif\u001b[0m \u001b[0mcallable\u001b[0m\u001b[1;33m(\u001b[0m\u001b[0marg\u001b[0m\u001b[1;33m)\u001b[0m\u001b[1;33m:\u001b[0m\u001b[1;33m\u001b[0m\u001b[0m\n",
      "\u001b[1;32mc:\\users\\administrator\\anaconda2\\lib\\site-packages\\Cython\\Build\\IpythonMagic.pyc\u001b[0m in \u001b[0;36mcython\u001b[1;34m(self, line, cell)\u001b[0m\n\u001b[0;32m    331\u001b[0m \u001b[1;33m\u001b[0m\u001b[0m\n\u001b[0;32m    332\u001b[0m         self._build_extension(extension, lib_dir, pgo_step_name='use' if args.pgo else None,\n\u001b[1;32m--> 333\u001b[1;33m                               quiet=args.quiet)\n\u001b[0m\u001b[0;32m    334\u001b[0m \u001b[1;33m\u001b[0m\u001b[0m\n\u001b[0;32m    335\u001b[0m         \u001b[0mmodule\u001b[0m \u001b[1;33m=\u001b[0m \u001b[0mimp\u001b[0m\u001b[1;33m.\u001b[0m\u001b[0mload_dynamic\u001b[0m\u001b[1;33m(\u001b[0m\u001b[0mmodule_name\u001b[0m\u001b[1;33m,\u001b[0m \u001b[0mmodule_path\u001b[0m\u001b[1;33m)\u001b[0m\u001b[1;33m\u001b[0m\u001b[0m\n",
      "\u001b[1;32mc:\\users\\administrator\\anaconda2\\lib\\site-packages\\Cython\\Build\\IpythonMagic.pyc\u001b[0m in \u001b[0;36m_build_extension\u001b[1;34m(self, extension, lib_dir, temp_dir, pgo_step_name, quiet)\u001b[0m\n\u001b[0;32m    441\u001b[0m             \u001b[1;32mif\u001b[0m \u001b[1;32mnot\u001b[0m \u001b[0mquiet\u001b[0m\u001b[1;33m:\u001b[0m\u001b[1;33m\u001b[0m\u001b[0m\n\u001b[0;32m    442\u001b[0m                 \u001b[0mold_threshold\u001b[0m \u001b[1;33m=\u001b[0m \u001b[0mdistutils\u001b[0m\u001b[1;33m.\u001b[0m\u001b[0mlog\u001b[0m\u001b[1;33m.\u001b[0m\u001b[0mset_threshold\u001b[0m\u001b[1;33m(\u001b[0m\u001b[0mdistutils\u001b[0m\u001b[1;33m.\u001b[0m\u001b[0mlog\u001b[0m\u001b[1;33m.\u001b[0m\u001b[0mDEBUG\u001b[0m\u001b[1;33m)\u001b[0m\u001b[1;33m\u001b[0m\u001b[0m\n\u001b[1;32m--> 443\u001b[1;33m             \u001b[0mbuild_extension\u001b[0m\u001b[1;33m.\u001b[0m\u001b[0mrun\u001b[0m\u001b[1;33m(\u001b[0m\u001b[1;33m)\u001b[0m\u001b[1;33m\u001b[0m\u001b[0m\n\u001b[0m\u001b[0;32m    444\u001b[0m         \u001b[1;32mfinally\u001b[0m\u001b[1;33m:\u001b[0m\u001b[1;33m\u001b[0m\u001b[0m\n\u001b[0;32m    445\u001b[0m             \u001b[1;32mif\u001b[0m \u001b[1;32mnot\u001b[0m \u001b[0mquiet\u001b[0m \u001b[1;32mand\u001b[0m \u001b[0mold_threshold\u001b[0m \u001b[1;32mis\u001b[0m \u001b[1;32mnot\u001b[0m \u001b[0mNone\u001b[0m\u001b[1;33m:\u001b[0m\u001b[1;33m\u001b[0m\u001b[0m\n",
      "\u001b[1;32mc:\\users\\administrator\\anaconda2\\lib\\distutils\\command\\build_ext.pyc\u001b[0m in \u001b[0;36mrun\u001b[1;34m(self)\u001b[0m\n\u001b[0;32m    338\u001b[0m \u001b[1;33m\u001b[0m\u001b[0m\n\u001b[0;32m    339\u001b[0m         \u001b[1;31m# Now actually compile and link everything.\u001b[0m\u001b[1;33m\u001b[0m\u001b[1;33m\u001b[0m\u001b[0m\n\u001b[1;32m--> 340\u001b[1;33m         \u001b[0mself\u001b[0m\u001b[1;33m.\u001b[0m\u001b[0mbuild_extensions\u001b[0m\u001b[1;33m(\u001b[0m\u001b[1;33m)\u001b[0m\u001b[1;33m\u001b[0m\u001b[0m\n\u001b[0m\u001b[0;32m    341\u001b[0m \u001b[1;33m\u001b[0m\u001b[0m\n\u001b[0;32m    342\u001b[0m     \u001b[1;32mdef\u001b[0m \u001b[0mcheck_extensions_list\u001b[0m\u001b[1;33m(\u001b[0m\u001b[0mself\u001b[0m\u001b[1;33m,\u001b[0m \u001b[0mextensions\u001b[0m\u001b[1;33m)\u001b[0m\u001b[1;33m:\u001b[0m\u001b[1;33m\u001b[0m\u001b[0m\n",
      "\u001b[1;32mc:\\users\\administrator\\anaconda2\\lib\\distutils\\command\\build_ext.pyc\u001b[0m in \u001b[0;36mbuild_extensions\u001b[1;34m(self)\u001b[0m\n\u001b[0;32m    447\u001b[0m \u001b[1;33m\u001b[0m\u001b[0m\n\u001b[0;32m    448\u001b[0m         \u001b[1;32mfor\u001b[0m \u001b[0mext\u001b[0m \u001b[1;32min\u001b[0m \u001b[0mself\u001b[0m\u001b[1;33m.\u001b[0m\u001b[0mextensions\u001b[0m\u001b[1;33m:\u001b[0m\u001b[1;33m\u001b[0m\u001b[0m\n\u001b[1;32m--> 449\u001b[1;33m             \u001b[0mself\u001b[0m\u001b[1;33m.\u001b[0m\u001b[0mbuild_extension\u001b[0m\u001b[1;33m(\u001b[0m\u001b[0mext\u001b[0m\u001b[1;33m)\u001b[0m\u001b[1;33m\u001b[0m\u001b[0m\n\u001b[0m\u001b[0;32m    450\u001b[0m \u001b[1;33m\u001b[0m\u001b[0m\n\u001b[0;32m    451\u001b[0m     \u001b[1;32mdef\u001b[0m \u001b[0mbuild_extension\u001b[0m\u001b[1;33m(\u001b[0m\u001b[0mself\u001b[0m\u001b[1;33m,\u001b[0m \u001b[0mext\u001b[0m\u001b[1;33m)\u001b[0m\u001b[1;33m:\u001b[0m\u001b[1;33m\u001b[0m\u001b[0m\n",
      "\u001b[1;32mc:\\users\\administrator\\anaconda2\\lib\\distutils\\command\\build_ext.pyc\u001b[0m in \u001b[0;36mbuild_extension\u001b[1;34m(self, ext)\u001b[0m\n\u001b[0;32m    529\u001b[0m             \u001b[0mdebug\u001b[0m\u001b[1;33m=\u001b[0m\u001b[0mself\u001b[0m\u001b[1;33m.\u001b[0m\u001b[0mdebug\u001b[0m\u001b[1;33m,\u001b[0m\u001b[1;33m\u001b[0m\u001b[0m\n\u001b[0;32m    530\u001b[0m             \u001b[0mbuild_temp\u001b[0m\u001b[1;33m=\u001b[0m\u001b[0mself\u001b[0m\u001b[1;33m.\u001b[0m\u001b[0mbuild_temp\u001b[0m\u001b[1;33m,\u001b[0m\u001b[1;33m\u001b[0m\u001b[0m\n\u001b[1;32m--> 531\u001b[1;33m             target_lang=language)\n\u001b[0m\u001b[0;32m    532\u001b[0m \u001b[1;33m\u001b[0m\u001b[0m\n\u001b[0;32m    533\u001b[0m \u001b[1;33m\u001b[0m\u001b[0m\n",
      "\u001b[1;32mc:\\users\\administrator\\anaconda2\\lib\\distutils\\ccompiler.pyc\u001b[0m in \u001b[0;36mlink_shared_object\u001b[1;34m(self, objects, output_filename, output_dir, libraries, library_dirs, runtime_library_dirs, export_symbols, debug, extra_preargs, extra_postargs, build_temp, target_lang)\u001b[0m\n\u001b[0;32m    689\u001b[0m                   \u001b[0mlibraries\u001b[0m\u001b[1;33m,\u001b[0m \u001b[0mlibrary_dirs\u001b[0m\u001b[1;33m,\u001b[0m \u001b[0mruntime_library_dirs\u001b[0m\u001b[1;33m,\u001b[0m\u001b[1;33m\u001b[0m\u001b[0m\n\u001b[0;32m    690\u001b[0m                   \u001b[0mexport_symbols\u001b[0m\u001b[1;33m,\u001b[0m \u001b[0mdebug\u001b[0m\u001b[1;33m,\u001b[0m\u001b[1;33m\u001b[0m\u001b[0m\n\u001b[1;32m--> 691\u001b[1;33m                   extra_preargs, extra_postargs, build_temp, target_lang)\n\u001b[0m\u001b[0;32m    692\u001b[0m \u001b[1;33m\u001b[0m\u001b[0m\n\u001b[0;32m    693\u001b[0m     def link_executable(self, objects, output_progname, output_dir=None,\n",
      "\u001b[1;32mc:\\users\\administrator\\anaconda2\\lib\\distutils\\msvc9compiler.pyc\u001b[0m in \u001b[0;36mlink\u001b[1;34m(self, target_desc, objects, output_filename, output_dir, libraries, library_dirs, runtime_library_dirs, export_symbols, debug, extra_preargs, extra_postargs, build_temp, target_lang)\u001b[0m\n\u001b[0;32m    652\u001b[0m                 \u001b[0mself\u001b[0m\u001b[1;33m.\u001b[0m\u001b[0mspawn\u001b[0m\u001b[1;33m(\u001b[0m\u001b[1;33m[\u001b[0m\u001b[0mself\u001b[0m\u001b[1;33m.\u001b[0m\u001b[0mlinker\u001b[0m\u001b[1;33m]\u001b[0m \u001b[1;33m+\u001b[0m \u001b[0mld_args\u001b[0m\u001b[1;33m)\u001b[0m\u001b[1;33m\u001b[0m\u001b[0m\n\u001b[0;32m    653\u001b[0m             \u001b[1;32mexcept\u001b[0m \u001b[0mDistutilsExecError\u001b[0m\u001b[1;33m,\u001b[0m \u001b[0mmsg\u001b[0m\u001b[1;33m:\u001b[0m\u001b[1;33m\u001b[0m\u001b[0m\n\u001b[1;32m--> 654\u001b[1;33m                 \u001b[1;32mraise\u001b[0m \u001b[0mLinkError\u001b[0m\u001b[1;33m(\u001b[0m\u001b[0mmsg\u001b[0m\u001b[1;33m)\u001b[0m\u001b[1;33m\u001b[0m\u001b[0m\n\u001b[0m\u001b[0;32m    655\u001b[0m \u001b[1;33m\u001b[0m\u001b[0m\n\u001b[0;32m    656\u001b[0m             \u001b[1;31m# embed the manifest\u001b[0m\u001b[1;33m\u001b[0m\u001b[1;33m\u001b[0m\u001b[0m\n",
      "\u001b[1;31mLinkError\u001b[0m: command 'C:\\\\Users\\\\Administrator\\\\AppData\\\\Local\\\\Programs\\\\Common\\\\Microsoft\\\\Visual C++ for Python\\\\9.0\\\\VC\\\\Bin\\\\amd64\\\\link.exe' failed with exit status 1120"
     ]
    },
    {
     "name": "stderr",
     "output_type": "stream",
     "text": [
      "test_array_inf (__main__.TestMaxDD) ... ERROR\n",
      "test_array_nan (__main__.TestMaxDD) ... ERROR\n",
      "test_array_normal (__main__.TestMaxDD) ... ERROR\n",
      "test_array_positive (__main__.TestMaxDD) ... ERROR\n",
      "test_list_none (__main__.TestMaxDD) ... ok\n",
      "test_list_normal (__main__.TestMaxDD) ... ERROR\n",
      "test_series_nan (__main__.TestMaxDD) ... ERROR\n",
      "test_series_normal (__main__.TestMaxDD) ... ERROR\n",
      "\n",
      "======================================================================\n",
      "ERROR: test_array_inf (__main__.TestMaxDD)\n",
      "----------------------------------------------------------------------\n",
      "Traceback (most recent call last):\n",
      "  File \"<ipython-input-6-a4fee2c98c01>\", line 60, in test_array_inf\n",
      "    maxdd,start,end = max_drawdown(sr)\n",
      "  File \"_cython_magic_ad7057ee2734463fbcea10aef628468f.pyx\", line 17, in _cython_magic_ad7057ee2734463fbcea10aef628468f.get_maxdd\n",
      "ValueError: Buffer dtype mismatch, expected 'FLOAT_T' but got 'double'\n",
      "\n",
      "======================================================================\n",
      "ERROR: test_array_nan (__main__.TestMaxDD)\n",
      "----------------------------------------------------------------------\n",
      "Traceback (most recent call last):\n",
      "  File \"<ipython-input-6-a4fee2c98c01>\", line 41, in test_array_nan\n",
      "    maxdd,start,end = max_drawdown(sr)\n",
      "  File \"_cython_magic_ad7057ee2734463fbcea10aef628468f.pyx\", line 17, in _cython_magic_ad7057ee2734463fbcea10aef628468f.get_maxdd\n",
      "ValueError: Buffer dtype mismatch, expected 'FLOAT_T' but got 'double'\n",
      "\n",
      "======================================================================\n",
      "ERROR: test_array_normal (__main__.TestMaxDD)\n",
      "----------------------------------------------------------------------\n",
      "Traceback (most recent call last):\n",
      "  File \"<ipython-input-6-a4fee2c98c01>\", line 13, in test_array_normal\n",
      "    maxdd,start,end = max_drawdown(sr)\n",
      "  File \"_cython_magic_ad7057ee2734463fbcea10aef628468f.pyx\", line 17, in _cython_magic_ad7057ee2734463fbcea10aef628468f.get_maxdd\n",
      "ValueError: Buffer dtype mismatch, expected 'FLOAT_T' but got 'long'\n",
      "\n",
      "======================================================================\n",
      "ERROR: test_array_positive (__main__.TestMaxDD)\n",
      "----------------------------------------------------------------------\n",
      "Traceback (most recent call last):\n",
      "  File \"<ipython-input-6-a4fee2c98c01>\", line 20, in test_array_positive\n",
      "    maxdd,start,end = max_drawdown(sr)\n",
      "  File \"_cython_magic_ad7057ee2734463fbcea10aef628468f.pyx\", line 17, in _cython_magic_ad7057ee2734463fbcea10aef628468f.get_maxdd\n",
      "ValueError: Buffer dtype mismatch, expected 'FLOAT_T' but got 'long'\n",
      "\n",
      "======================================================================\n",
      "ERROR: test_list_normal (__main__.TestMaxDD)\n",
      "----------------------------------------------------------------------\n",
      "Traceback (most recent call last):\n",
      "  File \"<ipython-input-6-a4fee2c98c01>\", line 27, in test_list_normal\n",
      "    maxdd,start,end = max_drawdown(sr)\n",
      "TypeError: Argument 'pnl' has incorrect type (expected numpy.ndarray, got list)\n",
      "\n",
      "======================================================================\n",
      "ERROR: test_series_nan (__main__.TestMaxDD)\n",
      "----------------------------------------------------------------------\n",
      "Traceback (most recent call last):\n",
      "  File \"<ipython-input-6-a4fee2c98c01>\", line 48, in test_series_nan\n",
      "    maxdd,start,end = max_drawdown(sr)\n",
      "TypeError: Argument 'pnl' has incorrect type (expected numpy.ndarray, got Series)\n",
      "\n",
      "======================================================================\n",
      "ERROR: test_series_normal (__main__.TestMaxDD)\n",
      "----------------------------------------------------------------------\n",
      "Traceback (most recent call last):\n",
      "  File \"<ipython-input-6-a4fee2c98c01>\", line 34, in test_series_normal\n",
      "    maxdd,start,end = max_drawdown(sr)\n",
      "TypeError: Argument 'pnl' has incorrect type (expected numpy.ndarray, got Series)\n",
      "\n",
      "----------------------------------------------------------------------\n",
      "Ran 8 tests in 0.028s\n",
      "\n",
      "FAILED (errors=7)\n"
     ]
    }
   ],
   "source": [
    "%tb\n",
    "import unittest\n",
    "\n",
    "class TestMaxDD(unittest.TestCase):\n",
    "    def setUp(self):\n",
    "        pass\n",
    "\n",
    "    def tearDown(self):\n",
    "        pass\n",
    "\n",
    "    def test_array_normal(self):\n",
    "        sr  = np.array([8,6,7,5,-7,-8,9,6,7,8,9,10])\n",
    "        maxdd,start,end = max_drawdown(sr)\n",
    "        self.assertEqual (maxdd, -2.)\n",
    "        self.assertEqual (start, 0)\n",
    "        self.assertEqual (end, 5)\n",
    "    \n",
    "    def test_array_positive(self):\n",
    "        sr  = np.array([1,2,3,4,5,6])\n",
    "        maxdd,start,end = max_drawdown(sr)\n",
    "        self.assertEqual (maxdd, 0)\n",
    "        self.assertEqual (start, 0)\n",
    "        self.assertEqual (end, 0)\n",
    "\n",
    "    def test_list_normal(self):\n",
    "        sr  = [8,6,7,5,-7,-8,9,6,7,8,9,10]\n",
    "        maxdd,start,end = max_drawdown(sr)\n",
    "        self.assertEqual (maxdd, -2.)\n",
    "        self.assertEqual (start, 0)\n",
    "        self.assertEqual (end, 5)\n",
    "        \n",
    "    def test_series_normal(self):\n",
    "        sr  = pd.Series(np.array([1,2,3,4,5,4,5,6,7,8,9,10,8.5,8,7.5,8,9,8.5,8,7,6,5.5,6,7,8,9,6,6,7,8,9,12,8,15]))\n",
    "        maxdd,start,end = max_drawdown(sr)\n",
    "        self.assertEqual (maxdd, -0.45  )\n",
    "        self.assertEqual (start, 11)\n",
    "        self.assertEqual (end, 21)\n",
    "        \n",
    "    def test_array_nan(self):\n",
    "        sr  =  np.array([8,6,np.nan,5,7,8,9,6,7,8,9,10]) \n",
    "        maxdd,start,end = max_drawdown(sr)\n",
    "        self.assertEqual (maxdd, -0.375   )\n",
    "        self.assertEqual (start, 0)\n",
    "        self.assertEqual (end, 3)\n",
    "    \n",
    "    def test_series_nan(self):\n",
    "        sr  =  pd.Series(np.array([8,6,np.nan,5,7,8,9,6,7,8,9,10]) )\n",
    "        maxdd,start,end = max_drawdown(sr)\n",
    "        self.assertEqual (maxdd, -0.375   )\n",
    "        self.assertEqual (start, 0)\n",
    "        self.assertEqual (end, 3)\n",
    "    \n",
    "    def test_list_none(self):\n",
    "        sr  = [8,6,None,5,7,8,9,6,7,8,9,10]\n",
    "        with self.assertRaises(TypeError):\n",
    "            maxdd,start,end = max_drawdown(sr)\n",
    "        \n",
    "    def test_array_inf(self):\n",
    "        sr  =  np.array([8,6,np.inf,5,-7,-8,9,6,7,8,9,10]) \n",
    "        maxdd,start,end = max_drawdown(sr)\n",
    "        self.assertEqual (maxdd, np.inf )\n",
    "        self.assertEqual (start, 0)\n",
    "        self.assertEqual (end, 0)\n",
    "\n",
    "obj = unittest.main(argv=['ignored', '-v'], exit=False)\n",
    "        \n",
    "        \n",
    "#     def test_attr(self):\n",
    "#         d = Dict()\n",
    "#         d.key = 'value'\n",
    "#         self.assertTrue('key' in d)\n",
    "#         self.assertEquals(d['key'], 'value')\n",
    "\n",
    "#     def test_keyerror(self):\n",
    "#         d = Dict()\n",
    "#         with self.assertRaises(KeyError):\n",
    "#             value = d['empty']\n",
    "\n",
    "#     def test_attrerror(self):\n",
    "#         d = Dict()\n",
    "#         with self.assertRaises(AttributeError):\n",
    "#             value = d.empty\n"
   ]
  },
  {
   "cell_type": "code",
   "execution_count": 5,
   "metadata": {
    "collapsed": false
   },
   "outputs": [
    {
     "name": "stderr",
     "output_type": "stream",
     "text": [
      "test_array_inf (__main__.TestMaxDD) ... ok\n",
      "test_array_nan (__main__.TestMaxDD) ... ok\n",
      "test_array_normal (__main__.TestMaxDD) ... ok\n",
      "test_list_none (__main__.TestMaxDD) ... ERROR\n",
      "test_list_normal (__main__.TestMaxDD) ... ok\n",
      "test_series_nan (__main__.TestMaxDD) ... ok\n",
      "test_series_normal (__main__.TestMaxDD) ... ok\n",
      "\n",
      "======================================================================\n",
      "ERROR: test_list_none (__main__.TestMaxDD)\n",
      "----------------------------------------------------------------------\n",
      "Traceback (most recent call last):\n",
      "  File \"<ipython-input-4-427981de7590>\", line 28, in test_list_none\n",
      "    maxdd,start,end = max_drawdown(sr)\n",
      "  File \"<ipython-input-3-68221c389961>\", line 4, in max_drawdown\n",
      "    if any(np.isinf(sr)):\n",
      "TypeError: ufunc 'isinf' not supported for the input types, and the inputs could not be safely coerced to any supported types according to the casting rule ''safe''\n",
      "\n",
      "----------------------------------------------------------------------\n",
      "Ran 7 tests in 0.014s\n",
      "\n",
      "FAILED (errors=1)\n"
     ]
    }
   ],
   "source": [
    "obj = unittest.main(argv=['ignored', '-v'], exit=False)"
   ]
  },
  {
   "cell_type": "code",
   "execution_count": 16,
   "metadata": {
    "collapsed": false
   },
   "outputs": [
    {
     "data": {
      "text/plain": [
       "<unittest.main.TestProgram at 0x7f71a1b508d0>"
      ]
     },
     "metadata": {},
     "output_type": "display_data"
    }
   ],
   "source": [
    "display(obj)"
   ]
  },
  {
   "cell_type": "code",
   "execution_count": 39,
   "metadata": {
    "collapsed": false
   },
   "outputs": [
    {
     "name": "stdout",
     "output_type": "stream",
     "text": [
      "(-0.375, 0, 3)\n"
     ]
    }
   ],
   "source": [
    "sr  =  np.array([8,6,np.nan,5,7,8,9,6,7,8,9,10]) \n",
    "print(max_drawdown(sr))"
   ]
  },
  {
   "cell_type": "code",
   "execution_count": 40,
   "metadata": {
    "collapsed": false
   },
   "outputs": [
    {
     "name": "stdout",
     "output_type": "stream",
     "text": [
      "(-0.375, 0, 3)\n"
     ]
    }
   ],
   "source": [
    "sr  =  pd.Series(np.array([8,6,np.nan,5,7,8,9,6,7,8,9,10]) )\n",
    "print(max_drawdown(sr))"
   ]
  },
  {
   "cell_type": "code",
   "execution_count": 10,
   "metadata": {
    "collapsed": false
   },
   "outputs": [
    {
     "data": {
      "text/plain": [
       "2"
      ]
     },
     "execution_count": 10,
     "metadata": {},
     "output_type": "execute_result"
    }
   ],
   "source": [
    "np.argmax(np.array([8,6,np.nan,5,7,8,9,6,7,8,9,10]))"
   ]
  },
  {
   "cell_type": "code",
   "execution_count": 11,
   "metadata": {
    "collapsed": false
   },
   "outputs": [
    {
     "data": {
      "text/plain": [
       "11"
      ]
     },
     "execution_count": 11,
     "metadata": {},
     "output_type": "execute_result"
    }
   ],
   "source": [
    "np.argmax(np.array([8,6,6,5,7,8,9,6,7,8,9,10]))"
   ]
  },
  {
   "cell_type": "code",
   "execution_count": 35,
   "metadata": {
    "collapsed": false
   },
   "outputs": [
    {
     "name": "stdout",
     "output_type": "stream",
     "text": [
      "13.1 µs ± 334 ns per loop (mean ± std. dev. of 7 runs, 100000 loops each)\n"
     ]
    }
   ],
   "source": [
    "%timeit np.nanmean(sr)"
   ]
  },
  {
   "cell_type": "code",
   "execution_count": 34,
   "metadata": {
    "collapsed": false
   },
   "outputs": [
    {
     "name": "stdout",
     "output_type": "stream",
     "text": [
      "33.6 µs ± 2.06 µs per loop (mean ± std. dev. of 7 runs, 10000 loops each)\n"
     ]
    }
   ],
   "source": [
    "%timeit np.nanmedian(sr)"
   ]
  },
  {
   "cell_type": "code",
   "execution_count": 41,
   "metadata": {
    "collapsed": true
   },
   "outputs": [],
   "source": [
    "sr = np.array([8,6,6,5,7,8,9,6,7,8,9,10])\n",
    "mean = np.nanmean(sr)# use mean fill nan\n"
   ]
  },
  {
   "cell_type": "code",
   "execution_count": 32,
   "metadata": {
    "collapsed": true
   },
   "outputs": [],
   "source": [
    "mean = np.nanmean(sr)# use mean fill nan\n",
    "sr[np.isnan(sr)] = mean"
   ]
  },
  {
   "cell_type": "code",
   "execution_count": 55,
   "metadata": {
    "collapsed": false
   },
   "outputs": [
    {
     "name": "stdout",
     "output_type": "stream",
     "text": [
      "3\n",
      "155 µs ± 14.7 µs per loop (mean ± std. dev. of 7 runs, 10000 loops each)\n"
     ]
    }
   ],
   "source": [
    "sr = np.array(1000*[1,2,np.nan,5,2,5,1]).tolist()\n",
    "print (sr.index(max(sr)))\n",
    "%timeit sr.index(max(sr))"
   ]
  },
  {
   "cell_type": "code",
   "execution_count": 56,
   "metadata": {
    "collapsed": false
   },
   "outputs": [
    {
     "name": "stdout",
     "output_type": "stream",
     "text": [
      "2\n",
      "1.37 µs ± 36.2 ns per loop (mean ± std. dev. of 7 runs, 1000000 loops each)\n"
     ]
    }
   ],
   "source": [
    "sr = np.array(1000*[1,2,np.nan,5,2,5,1]) \n",
    "print (np.argmax(sr))\n",
    "%timeit np.argmax(sr)"
   ]
  },
  {
   "cell_type": "code",
   "execution_count": 46,
   "metadata": {
    "collapsed": false
   },
   "outputs": [
    {
     "data": {
      "text/plain": [
       "[1, 2, 3, 2, 5, 1, 4, 1]"
      ]
     },
     "execution_count": 46,
     "metadata": {},
     "output_type": "execute_result"
    }
   ],
   "source": [
    "sr"
   ]
  },
  {
   "cell_type": "code",
   "execution_count": 47,
   "metadata": {
    "collapsed": false
   },
   "outputs": [
    {
     "data": {
      "text/plain": [
       "False"
      ]
     },
     "execution_count": 47,
     "metadata": {},
     "output_type": "execute_result"
    }
   ],
   "source": [
    "sr==max(sr)"
   ]
  },
  {
   "cell_type": "code",
   "execution_count": 49,
   "metadata": {
    "collapsed": false
   },
   "outputs": [
    {
     "data": {
      "text/plain": [
       "3"
      ]
     },
     "execution_count": 49,
     "metadata": {},
     "output_type": "execute_result"
    }
   ],
   "source": [
    "sr = np.array([1,2,np.nan,5,2,5,1]).tolist()\n",
    "sr.index(max(sr))"
   ]
  },
  {
   "cell_type": "code",
   "execution_count": 31,
   "metadata": {
    "collapsed": false
   },
   "outputs": [
    {
     "name": "stdout",
     "output_type": "stream",
     "text": [
      "6.16 µs ± 282 ns per loop (mean ± std. dev. of 7 runs, 100000 loops each)\n"
     ]
    }
   ],
   "source": [
    "sr = [1,2,3,2,5,1,5,1]\n",
    "%timeit np.argmax(sr)"
   ]
  },
  {
   "cell_type": "code",
   "execution_count": 32,
   "metadata": {
    "collapsed": false
   },
   "outputs": [
    {
     "data": {
      "text/plain": [
       "4"
      ]
     },
     "execution_count": 32,
     "metadata": {},
     "output_type": "execute_result"
    }
   ],
   "source": [
    "np.argmax(sr)"
   ]
  },
  {
   "cell_type": "code",
   "execution_count": 6,
   "metadata": {
    "collapsed": false
   },
   "outputs": [
    {
     "data": {
      "text/plain": [
       "True"
      ]
     },
     "execution_count": 6,
     "metadata": {},
     "output_type": "execute_result"
    }
   ],
   "source": [
    "sr = [1,2,None]\n",
    "None in sr"
   ]
  }
 ],
 "metadata": {
  "kernelspec": {
   "display_name": "Python 2",
   "language": "python",
   "name": "python2"
  },
  "language_info": {
   "codemirror_mode": {
    "name": "ipython",
    "version": 2
   },
   "file_extension": ".py",
   "mimetype": "text/x-python",
   "name": "python",
   "nbconvert_exporter": "python",
   "pygments_lexer": "ipython2",
   "version": "2.7.13"
  }
 },
 "nbformat": 4,
 "nbformat_minor": 2
}
