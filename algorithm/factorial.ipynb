{
 "cells": [
  {
   "cell_type": "code",
   "execution_count": 1,
   "metadata": {
    "collapsed": true
   },
   "outputs": [],
   "source": [
    "try:\n",
    "\tfrom sys import _getframe\n",
    "\n",
    "except ImportError:\n",
    "\timport sys\n",
    "\t\n",
    "\ttry:\n",
    "\t\traise Exception\n",
    "\t\n",
    "\texcept:\n",
    "\t\tif (\n",
    "\t\t\tnot hasattr(sys.exc_info()[2], 'tb_frame') or\n",
    "\t\t\tnot hasattr(sys.exc_info()[2].tb_frame, 'f_back')\n",
    "\t\t):\n",
    "\t\t\traise ImportError(\n",
    "\t\t\t\t\"Unable to capture frames. sys._getframe() is not supported \"\n",
    "\t\t\t\t\"in this Python implementation, and the traceback object does \"\n",
    "\t\t\t\t\"not conform to CPython specifications.\"\n",
    "\t\t\t)\n",
    "\t\t\n",
    "\t\telse:\n",
    "\t\t\tdef _getframe(level=0):\n",
    "\t\t\t\t\"\"\"\n",
    "\t\t\t\tA reimplementation of `sys._getframe()`. `level` is the number\n",
    "\t\t\t\tof levels deep into the stack to grab the frame from\n",
    "\t\t\t\t(default: 0).\n",
    "\t\t\t\t\n",
    "\t\t\t\t`_getframe()` is a private function, and isn't guaranteed to\n",
    "\t\t\t\texist in all versions and implementations of Python. This\n",
    "\t\t\t\tfunction is about 2x slower.\n",
    "\t\t\t\t\n",
    "\t\t\t\t`sys.exc_info()` only returns helpful information if an\n",
    "\t\t\t\texception has been raised.\n",
    "\t\t\t\t\n",
    "\t\t\t\t\"\"\"\n",
    "\t\t\t\t\n",
    "\t\t\t\ttry:\n",
    "\t\t\t\t\traise Exception\n",
    "\t\t\t\t\n",
    "\t\t\t\texcept:\n",
    "\t\t\t\t\t# sys.exc_info() returns (type, value, traceback).\n",
    "\t\t\t\t\tframe = sys.exc_info()[2].tb_frame\n",
    "\t\t\t\t\t\n",
    "\t\t\t\t\t# + 1 to account for our exception.\n",
    "\t\t\t\t\tfor i in xrange(0, level + 1):\n",
    "\t\t\t\t\t\tframe = frame.f_back\n",
    "\t\t\t\t\n",
    "\t\t\t\tfinally:\n",
    "\t\t\t\t\tsys.exc_clear()\n",
    "\t\t\t\t\n",
    "\t\t\t\treturn frame\n",
    "\t\n",
    "\tfinally:\n",
    "\t\tsys.exc_clear()\n",
    "\n",
    "\n",
    "class TailCallSigil(Exception):\n",
    "\tdef __init__(self, args, kwargs):\n",
    "\t\tself.args = args\n",
    "\t\tself.kwargs = kwargs\n",
    "\n",
    "\n",
    "def tailcall(function):\n",
    "\t\"\"\"\n",
    "\tA decorator for functions set up for tail call optimization. If your\n",
    "\tfunction *isn't* set up for tail call optimization, this won't work\n",
    "\tas intended.\n",
    "\t\n",
    "\tYou should probably never use this.\n",
    "\t\n",
    "\t(Mutually recursive functions work, so long as all functions have the\n",
    "\t`@tail_call` decorator.)\n",
    "\t\n",
    "\t\"\"\"\n",
    "\t\n",
    "\tdef wrapper(*args, **kwargs):\n",
    "\t\t\"\"\"\n",
    "\t\tWraps a function optimized for tail calls, allowing them to reuse the\n",
    "\t\tstack.\n",
    "\t\t\n",
    "\t\t\"\"\"\n",
    "\t\t\n",
    "\t\ttry:\n",
    "\t\t\t# Check to make sure we aren't our own grandparent.\n",
    "\t\t\tframe_0, frame_2 = _getframe(0), _getframe(2)\n",
    "\t\t\t\n",
    "\t\t\tif frame_2 and frame_0.f_code == frame_2.f_code:\n",
    "\t\t\t\traise TailCallSigil(args, kwargs)\n",
    "\t\t\n",
    "\t\texcept ValueError:\n",
    "\t\t\tpass\n",
    "\t\t\n",
    "\t\twhile True:\n",
    "\t\t\ttry:\n",
    "\t\t\t\t# Will be called decorated, hence the grandparents above.\n",
    "\t\t\t\tresult = function(*args, **kwargs)\n",
    "\t\t\t\n",
    "\t\t\texcept TailCallSigil as sigil:\n",
    "\t\t\t\targs, kwargs = sigil.args, sigil.kwargs\n",
    "\t\t\t\n",
    "\t\t\telse:\n",
    "\t\t\t\treturn result\n",
    "\t\n",
    "\treturn wrapper"
   ]
  },
  {
   "cell_type": "code",
   "execution_count": 19,
   "metadata": {
    "collapsed": true
   },
   "outputs": [],
   "source": [
    "def factor1(x):  \n",
    "    if x == 0:  \n",
    "        return 1 \n",
    "    else:  \n",
    "        return x * factor1(x - 1) "
   ]
  },
  {
   "cell_type": "code",
   "execution_count": 20,
   "metadata": {
    "collapsed": true
   },
   "outputs": [],
   "source": [
    "def factor2(x):  \n",
    "    result = 1 \n",
    "    i = 2 \n",
    "    while i <= x:  \n",
    "        result = result * i  \n",
    "        i = i + 1 \n",
    "    return result"
   ]
  },
  {
   "cell_type": "code",
   "execution_count": 21,
   "metadata": {
    "collapsed": true
   },
   "outputs": [],
   "source": [
    "def factor3(x):  \n",
    "    res = 1 \n",
    "    for i in xrange(2, x + 1):  \n",
    "        res *= i  \n",
    "    return res"
   ]
  },
  {
   "cell_type": "code",
   "execution_count": 22,
   "metadata": {
    "collapsed": true
   },
   "outputs": [],
   "source": [
    "factor4 = lambda x: x and x * factor4(x - 1) or 1"
   ]
  },
  {
   "cell_type": "code",
   "execution_count": 34,
   "metadata": {
    "collapsed": true
   },
   "outputs": [],
   "source": [
    "factor5 = lambda x: reduce(int.__mul__, xrange(2, x + 1), 1)"
   ]
  },
  {
   "cell_type": "code",
   "execution_count": 52,
   "metadata": {
    "collapsed": false
   },
   "outputs": [],
   "source": [
    "import sys  \n",
    "# @tailcall \n",
    "def factor6(x, acc=1):  \n",
    "    if x: return factor6(x.__sub__(1), acc.__mul__(x))  \n",
    "    return acc"
   ]
  },
  {
   "cell_type": "code",
   "execution_count": 25,
   "metadata": {
    "collapsed": true
   },
   "outputs": [],
   "source": [
    "import os  \n",
    "def factor8(x):  \n",
    "    return os.system('factorial ' + str(x))  "
   ]
  },
  {
   "cell_type": "code",
   "execution_count": 44,
   "metadata": {
    "collapsed": false
   },
   "outputs": [
    {
     "name": "stdout",
     "output_type": "stream",
     "text": [
      "479001600\n",
      "479001600\n",
      "479001600\n",
      "479001600\n",
      "479001600\n",
      "479001600\n",
      "1\n"
     ]
    }
   ],
   "source": [
    "print factor1(12)\n",
    "print factor2(12)\n",
    "print factor3(12)\n",
    "print factor4(12)\n",
    "print factor5(12)\n",
    "print factor6(12)\n",
    "print factor8(12)"
   ]
  },
  {
   "cell_type": "code",
   "execution_count": 45,
   "metadata": {
    "collapsed": false
   },
   "outputs": [
    {
     "name": "stdout",
     "output_type": "stream",
     "text": [
      "1000000 loops, best of 3: 1.66 µs per loop\n"
     ]
    }
   ],
   "source": [
    "%timeit factor1(12)"
   ]
  },
  {
   "cell_type": "code",
   "execution_count": 46,
   "metadata": {
    "collapsed": false
   },
   "outputs": [
    {
     "name": "stdout",
     "output_type": "stream",
     "text": [
      "1000000 loops, best of 3: 921 ns per loop\n"
     ]
    }
   ],
   "source": [
    "%timeit factor2(12)"
   ]
  },
  {
   "cell_type": "code",
   "execution_count": 47,
   "metadata": {
    "collapsed": false
   },
   "outputs": [
    {
     "name": "stdout",
     "output_type": "stream",
     "text": [
      "1000000 loops, best of 3: 852 ns per loop\n"
     ]
    }
   ],
   "source": [
    "%timeit factor3(12)"
   ]
  },
  {
   "cell_type": "code",
   "execution_count": 48,
   "metadata": {
    "collapsed": false
   },
   "outputs": [
    {
     "name": "stdout",
     "output_type": "stream",
     "text": [
      "1000000 loops, best of 3: 1.75 µs per loop\n"
     ]
    }
   ],
   "source": [
    "%timeit factor4(12)"
   ]
  },
  {
   "cell_type": "code",
   "execution_count": 49,
   "metadata": {
    "collapsed": false
   },
   "outputs": [
    {
     "name": "stdout",
     "output_type": "stream",
     "text": [
      "1000000 loops, best of 3: 1.81 µs per loop\n"
     ]
    }
   ],
   "source": [
    "%timeit factor5(12)"
   ]
  },
  {
   "cell_type": "code",
   "execution_count": 53,
   "metadata": {
    "collapsed": false
   },
   "outputs": [
    {
     "name": "stdout",
     "output_type": "stream",
     "text": [
      "100000 loops, best of 3: 5.08 µs per loop\n"
     ]
    }
   ],
   "source": [
    "%timeit factor6(12)"
   ]
  },
  {
   "cell_type": "code",
   "execution_count": 51,
   "metadata": {
    "collapsed": false
   },
   "outputs": [
    {
     "name": "stdout",
     "output_type": "stream",
     "text": [
      "10 loops, best of 3: 30 ms per loop\n"
     ]
    }
   ],
   "source": [
    "%timeit factor8(12)"
   ]
  },
  {
   "cell_type": "code",
   "execution_count": null,
   "metadata": {
    "collapsed": true
   },
   "outputs": [],
   "source": []
  }
 ],
 "metadata": {
  "kernelspec": {
   "display_name": "Python 2",
   "language": "python",
   "name": "python2"
  },
  "language_info": {
   "codemirror_mode": {
    "name": "ipython",
    "version": 2
   },
   "file_extension": ".py",
   "mimetype": "text/x-python",
   "name": "python",
   "nbconvert_exporter": "python",
   "pygments_lexer": "ipython2",
   "version": "2.7.13"
  }
 },
 "nbformat": 4,
 "nbformat_minor": 2
}
