{
 "cells": [
  {
   "cell_type": "markdown",
   "metadata": {},
   "source": [
    "各种不同的解法来自 https://stackoverflow.com/questions/3025162/statistics-combinations-in-python"
   ]
  },
  {
   "cell_type": "markdown",
   "metadata": {},
   "source": [
    "A quick search on google code gives (it uses formula from @Mark Byers's answer):"
   ]
  },
  {
   "cell_type": "code",
   "execution_count": null,
   "metadata": {
    "collapsed": true
   },
   "outputs": [],
   "source": [
    "def choose(n, k):\n",
    "    \"\"\"\n",
    "    A fast way to calculate binomial coefficients by Andrew Dalke (contrib).\n",
    "    \"\"\"\n",
    "    if 0 <= k <= n:\n",
    "        ntok = 1\n",
    "        ktok = 1\n",
    "        for t in xrange(1, min(k, n - k) + 1):\n",
    "            ntok *= n\n",
    "            ktok *= t\n",
    "            n -= 1\n",
    "        return ntok // ktok\n",
    "    else:\n",
    "        return 0"
   ]
  },
  {
   "cell_type": "code",
   "execution_count": null,
   "metadata": {
    "collapsed": true
   },
   "outputs": [],
   "source": [
    "from operator import mul    # or mul=lambda x,y:x*y\n",
    "from fractions import Fraction\n",
    "\n",
    "def nCk(n,k): \n",
    "    return int( reduce(mul, (Fraction(n-i, i+1) for i in range(k)), 1) )\n",
    "# 打印杨氏三角\n",
    "for n in range(17):\n",
    "    print ' '.join('%5d'%nCk(n,k) for k in range(n+1)).center(100)"
   ]
  },
  {
   "cell_type": "code",
   "execution_count": null,
   "metadata": {
    "collapsed": true
   },
   "outputs": [],
   "source": [
    "def comb(N,k): # from scipy.comb(), but MODIFIED!\n",
    "    if (k > N) or (N < 0) or (k < 0):\n",
    "        return 0L\n",
    "    N,k = map(long,(N,k))\n",
    "    top = N\n",
    "    val = 1L\n",
    "    while (top > (N-k)):\n",
    "        val *= top\n",
    "        top -= 1\n",
    "    n = 1L\n",
    "    while (n < k+1L):\n",
    "        val /= n\n",
    "        n += 1\n",
    "    return val"
   ]
  },
  {
   "cell_type": "code",
   "execution_count": null,
   "metadata": {
    "collapsed": true
   },
   "outputs": [],
   "source": [
    "#sympy.binomial 这个模块有所耳闻，据说是最快的\n",
    "\n",
    "x = 1000000\n",
    "y = 234050\n",
    "\n",
    "%timeit scipy.misc.comb(x, y, exact=True)\n",
    "1 loops, best of 3: 1min 27s per loop\n",
    "\n",
    "%timeit gmpy.comb(x, y)\n",
    "1 loops, best of 3: 1.97 s per loop\n",
    "\n",
    "%timeit int(sympy.binomial(x, y))\n",
    "100000 loops, best of 3: 5.06 µs per loop"
   ]
  },
  {
   "cell_type": "code",
   "execution_count": null,
   "metadata": {
    "collapsed": true
   },
   "outputs": [],
   "source": []
  }
 ],
 "metadata": {
  "kernelspec": {
   "display_name": "Python 2",
   "language": "python",
   "name": "python2"
  },
  "language_info": {
   "codemirror_mode": {
    "name": "ipython",
    "version": 2
   },
   "file_extension": ".py",
   "mimetype": "text/x-python",
   "name": "python",
   "nbconvert_exporter": "python",
   "pygments_lexer": "ipython2",
   "version": "2.7.13"
  }
 },
 "nbformat": 4,
 "nbformat_minor": 2
}
