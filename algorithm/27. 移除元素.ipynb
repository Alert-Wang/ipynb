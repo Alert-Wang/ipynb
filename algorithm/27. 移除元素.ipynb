{
 "cells": [
  {
   "cell_type": "markdown",
   "metadata": {},
   "source": [
    "## 27. 移除元素"
   ]
  },
  {
   "cell_type": "markdown",
   "metadata": {},
   "source": [
    "给定一个数组 nums 和一个值 val，你需要原地移除所有数值等于 val 的元素，返回移除后数组的新长度。\n",
    "\n",
    "不要使用额外的数组空间，你必须在原地修改输入数组并在使用 O(1) 额外空间的条件下完成。\n",
    "\n",
    "元素的顺序可以改变。你不需要考虑数组中超出新长度后面的元素。\n",
    "\n",
    "示例 1:\n",
    "\n",
    "给定 nums = [3,2,2,3], val = 3,\n",
    "\n",
    "函数应该返回新的长度 2, 并且 nums 中的前两个元素均为 2。\n",
    "\n",
    "你不需要考虑数组中超出新长度后面的元素。\n",
    "示例 2:\n",
    "\n",
    "给定 nums = [0,1,2,2,3,0,4,2], val = 2,\n",
    "\n",
    "函数应该返回新的长度 5, 并且 nums 中的前五个元素为 0, 1, 3, 0, 4。\n",
    "\n",
    "注意这五个元素可为任意顺序。\n",
    "\n",
    "你不需要考虑数组中超出新长度后面的元素。\n",
    "说明:\n",
    "\n",
    "为什么返回数值是整数，但输出的答案是数组呢?\n",
    "\n",
    "请注意，输入数组是以“引用”方式传递的，这意味着在函数里修改输入数组对于调用者是可见的。\n",
    "\n",
    "你可以想象内部操作如下:\n",
    "\n",
    "// nums 是以“引用”方式传递的。也就是说，不对实参作任何拷贝\n",
    "int len = removeElement(nums, val);\n",
    "\n",
    "// 在函数里修改输入数组对于调用者是可见的。\n",
    "// 根据你的函数返回的长度, 它会打印出数组中该长度范围内的所有元素。\n",
    "for (int i = 0; i < len; i++) {\n",
    "    print(nums[i]);\n",
    "}"
   ]
  },
  {
   "cell_type": "markdown",
   "metadata": {},
   "source": [
    "https://leetcode-cn.com/problems/remove-element/description/"
   ]
  },
  {
   "cell_type": "code",
   "execution_count": 18,
   "metadata": {
    "collapsed": true
   },
   "outputs": [],
   "source": [
    "nums1 = [0,1,2,2,3,0,4,2]\n",
    "nums2 = []\n",
    "nums3 = [1]\n",
    "nums4 = [6,8]"
   ]
  },
  {
   "cell_type": "code",
   "execution_count": 15,
   "metadata": {
    "collapsed": true
   },
   "outputs": [],
   "source": [
    "def drop(nums,val):\n",
    "    j = 1\n",
    "    i = 0\n",
    "    # flag = False\n",
    "    if len(nums)==0 :\n",
    "        return i\n",
    "    if len(nums)==1 :\n",
    "        if nums[0] == val:\n",
    "            return 0\n",
    "        else:\n",
    "            return 1\n",
    "    while 1:\n",
    "        if i+j == len(nums):\n",
    "\n",
    "            # if flag:# 这个\n",
    "            #     return i\n",
    "            # else:\n",
    "            if nums[i] == val:# 这个地方好坑，一般是len为2的数组会报错，一般==val的数都集中在最后，所以可以通过此种方法快速判断\n",
    "                return i\n",
    "            else:\n",
    "                return i+1\n",
    "        if nums[i] == val and nums[i+j] == val:\n",
    "            j += 1\n",
    "        elif nums[i] == val and nums[i+j] != val:\n",
    "            nums[i],nums[i+j] = nums[i+j],nums[i]\n",
    "            flag = True\n",
    "            j = 1\n",
    "            i += 1\n",
    "        elif nums[i] != val and nums[i+j] != val:\n",
    "            j = 1\n",
    "            i += 1\n",
    "        elif nums[i] != val and nums[i+j] == val:\n",
    "            #nums[i],nums[i+j] = nums[i+j],nums[i]\n",
    "            pass\n",
    "            j = 1\n",
    "            i += 1\n",
    "\n",
    "    return i"
   ]
  },
  {
   "cell_type": "code",
   "execution_count": 16,
   "metadata": {
    "collapsed": false
   },
   "outputs": [
    {
     "data": {
      "text/plain": [
       "[0, 1, 3, 0, 4]"
      ]
     },
     "execution_count": 16,
     "metadata": {},
     "output_type": "execute_result"
    }
   ],
   "source": [
    "nums1[:drop(nums1,2)]#[0, 1, 3, 0, 4]"
   ]
  },
  {
   "cell_type": "code",
   "execution_count": 19,
   "metadata": {
    "collapsed": false
   },
   "outputs": [
    {
     "data": {
      "text/plain": [
       "[]"
      ]
     },
     "execution_count": 19,
     "metadata": {},
     "output_type": "execute_result"
    }
   ],
   "source": [
    "nums2[:drop(nums2,2)]#[]"
   ]
  },
  {
   "cell_type": "code",
   "execution_count": 20,
   "metadata": {
    "collapsed": false
   },
   "outputs": [
    {
     "data": {
      "text/plain": [
       "[1]"
      ]
     },
     "execution_count": 20,
     "metadata": {},
     "output_type": "execute_result"
    }
   ],
   "source": [
    "nums3[:drop(nums3,2)]#[1]"
   ]
  },
  {
   "cell_type": "code",
   "execution_count": 21,
   "metadata": {
    "collapsed": false
   },
   "outputs": [
    {
     "data": {
      "text/plain": [
       "[]"
      ]
     },
     "execution_count": 21,
     "metadata": {},
     "output_type": "execute_result"
    }
   ],
   "source": [
    "nums3[:drop(nums3,1)]#[]"
   ]
  },
  {
   "cell_type": "code",
   "execution_count": 22,
   "metadata": {
    "collapsed": false
   },
   "outputs": [
    {
     "data": {
      "text/plain": [
       "[8]"
      ]
     },
     "execution_count": 22,
     "metadata": {},
     "output_type": "execute_result"
    }
   ],
   "source": [
    "nums4[:drop(nums4,6)]#[8]"
   ]
  },
  {
   "cell_type": "code",
   "execution_count": 23,
   "metadata": {
    "collapsed": false
   },
   "outputs": [
    {
     "data": {
      "text/plain": [
       "[8, 6]"
      ]
     },
     "execution_count": 23,
     "metadata": {},
     "output_type": "execute_result"
    }
   ],
   "source": [
    "nums4[:drop(nums4,7)]#[8, 6]"
   ]
  },
  {
   "cell_type": "code",
   "execution_count": null,
   "metadata": {
    "collapsed": true
   },
   "outputs": [],
   "source": []
  }
 ],
 "metadata": {
  "kernelspec": {
   "display_name": "Python 2",
   "language": "python",
   "name": "python2"
  },
  "language_info": {
   "codemirror_mode": {
    "name": "ipython",
    "version": 2
   },
   "file_extension": ".py",
   "mimetype": "text/x-python",
   "name": "python",
   "nbconvert_exporter": "python",
   "pygments_lexer": "ipython2",
   "version": "2.7.13"
  }
 },
 "nbformat": 4,
 "nbformat_minor": 2
}
