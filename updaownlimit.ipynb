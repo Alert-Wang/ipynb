{
 "cells": [
  {
   "cell_type": "code",
   "execution_count": 1,
   "metadata": {
    "collapsed": true
   },
   "outputs": [],
   "source": [
    "import pandas as pd\n",
    "import numpy as np\n",
    "from scipy.ndimage.interpolation import shift"
   ]
  },
  {
   "cell_type": "code",
   "execution_count": 2,
   "metadata": {
    "collapsed": true
   },
   "outputs": [],
   "source": [
    "def updownlimit_old(df_nowprice_pct,df_weight):\n",
    "    '''\n",
    "    INPUT:\n",
    "    df_nowprice_pct:为当前时间点的价格相较于昨日收盘价的涨跌幅，如现在为10:30，则为10:30_price - precloseprice\n",
    "    df_weight：当日交易的目标权重，如今日想要半仓买入某只股票，则当日的weight为0.5，做空反之\n",
    "    OUTPUT:\n",
    "    df_weight_final 考虑了当前时间点由于涨跌停限制买不进去情况下的最终权重，其中不能换仓的资产延续上一个交易日的权重\n",
    "    '''\n",
    "    # TODO 写成 numpy\n",
    "    # TODO 类型检验\n",
    "    if df_nowprice_pct.shape != df_weight.shape:\n",
    "        raise TypeError(\"input data must has same dims.\")\n",
    "    df_islimit = (~((abs(df_nowprice_pct) > 0.097))).astype(\"float32\").replace(0.,np.nan) # 当天涨跌停为nan，其它为1\n",
    "    df_isupdown = ((abs(df_nowprice_pct) > 0.097)).astype(\"float32\").replace(0.,np.nan) # 当天涨跌停为1，其它为nan\n",
    "    df_isupdown_weight = df_isupdown.shift(-1)*df_weight              # 涨跌停前一天的权值\n",
    "\n",
    "    df_weight_outlimit = (df_islimit*df_weight).fillna(0)                                  #原始权值抛去涨跌停的权值\n",
    "\n",
    "    df_weight_limitday = ((df_isupdown_weight*df_islimit).fillna(1)*df_islimit).ffill().replace(1.,np.nan) - (df_islimit*df_weight).fillna(0)# 涨跌停当天的权值,按照前一个交易日的权重进行填充\n",
    "\n",
    "    sr_weight_sum_perday = abs(df_weight_outlimit).sum(1)\n",
    "    df_weight_outlimit = df_weight_outlimit.div(sr_weight_sum_perday.values,axis=0)\n",
    "    df_weight_outlimit = df_weight_outlimit.mul(1-abs(df_weight_limitday).sum(1),axis=0)#重新核算抛弃涨跌停权重后的各只股票的权重\n",
    "\n",
    "    df_weight_final = df_weight_outlimit + df_weight_limitday.fillna(0)\n",
    "    return df_weight_final"
   ]
  },
  {
   "cell_type": "code",
   "execution_count": 3,
   "metadata": {
    "collapsed": true
   },
   "outputs": [],
   "source": [
    "def updownlimit(df_nowprice_pct,df_weight):\n",
    "    '''\n",
    "    INPUT:\n",
    "    df_nowprice_pct:为当前时间点的价格相较于昨日收盘价的涨跌幅，如现在为10:30，则为10:30_price - precloseprice\n",
    "    df_weight：当日交易的目标权重，如今日想要半仓买入某只股票，则当日的weight为0.5，做空反之\n",
    "    OUTPUT:\n",
    "    df_weight_final 考虑了当前时间点由于涨跌停限制买不进去情况下的最终权重，其中不能换仓的资产延续上一个交易日的权重\n",
    "    '''\n",
    "    # TODO 写成 numpy\n",
    "    # TODO 类型检验\n",
    "    df_islimit = (~((abs(df_nowprice_pct) > 0.097) ) ).astype(\"float32\").replace(0.,np.nan) # 当天涨跌停为nan，其它为1\n",
    "    df_isupdown = df_islimit.isnull().astype(\"float32\").replace(0.,np.nan) # 当天涨跌停为1，其它为nan\n",
    "\n",
    "    df_limitbefore_weight = (df_isupdown.shift(-1)*df_weight.fillna(0))            # 涨跌停前一天的权值\n",
    "    df_weight_outlimit = (df_islimit*df_weight).fillna(0)                                  #原始权值抛去涨跌停的权值\n",
    "    df_weight_limitday = ((df_limitbefore_weight*df_islimit).fillna(1)*df_islimit).ffill().replace(1.,np.nan) - (df_limitbefore_weight*df_islimit).fillna(0) # 涨跌停当天的权值,按照前一个交易日的权重进行填充\n",
    "    sr_weight_sum_perday = abs(df_weight_outlimit).sum(1)\n",
    "    df_weight_outlimit = df_weight_outlimit.div(sr_weight_sum_perday.values,axis=0)\n",
    "    df_weight_outlimit = df_weight_outlimit.mul(1-abs(df_weight_limitday).sum(1),axis=0)#重新核算抛弃涨跌停权重后的各只股票的权重\n",
    "    df_weight_final_temp = df_weight_outlimit + df_weight_limitday.fillna(0)\n",
    "\n",
    "    # 再来一遍\n",
    "    df_limitbefore_weight = (df_isupdown.shift(-1)*df_weight_final_temp.fillna(0))            # 涨跌停前一天的权值\n",
    "    df_weight_outlimit = (df_islimit*df_weight_final_temp).fillna(0) \n",
    "    df_weight_limitday = ((df_limitbefore_weight*df_islimit).fillna(1)*df_islimit).ffill().replace(1.,np.nan) - (df_limitbefore_weight*df_islimit).fillna(0) # 涨跌停当天的权值,按照前一个交易日的权重进行填充\n",
    "    sr_weight_sum_perday = abs(df_weight_outlimit).sum(1)\n",
    "    df_weight_outlimit = df_weight_outlimit.div(sr_weight_sum_perday.values,axis=0)\n",
    "    df_weight_outlimit = df_weight_outlimit.mul(1-abs(df_weight_limitday).sum(1),axis=0)#重新核算抛弃涨跌停权重后的各只股票的权重\n",
    "    df_weight_final_temp = df_weight_outlimit + df_weight_limitday.fillna(0)\n",
    "    \n",
    "    # 再来一遍\n",
    "    df_islimit = (~df_nowprice_pct.isnull()).astype(\"float32\").replace(0.,np.nan) #  \n",
    "    df_isupdown = df_islimit.isnull().astype(\"float32\").replace(0.,np.nan) #  \n",
    "    df_limitbefore_weight = (df_isupdown.shift(-1)*df_weight_final_temp.fillna(0))            # 涨跌停前一天的权值\n",
    "    df_weight_outlimit = (df_islimit*df_weight_final_temp).fillna(0) \n",
    "    df_weight_limitday = ((df_limitbefore_weight*df_islimit).fillna(1)*df_islimit).ffill().replace(1.,np.nan) - (df_limitbefore_weight*df_islimit).fillna(0) # 涨跌停当天的权值,按照前一个交易日的权重进行填充\n",
    "    sr_weight_sum_perday = abs(df_weight_outlimit).sum(1)\n",
    "    df_weight_outlimit = df_weight_outlimit.div(sr_weight_sum_perday.values,axis=0)\n",
    "    df_weight_outlimit = df_weight_outlimit.mul(1-abs(df_weight_limitday).sum(1),axis=0)#重新核算抛弃涨跌停权重后的各只股票的权重\n",
    "    df_weight_final = df_weight_outlimit + df_weight_limitday.fillna(0)\n",
    "    \n",
    "    \n",
    "    return df_weight_final"
   ]
  },
  {
   "cell_type": "code",
   "execution_count": 3,
   "metadata": {
    "collapsed": true
   },
   "outputs": [],
   "source": [
    "'''\n",
    "numpy version\n",
    "'''\n",
    "def updownlimit(df_nowprice_pct,df_weight):\n",
    "    '''\n",
    "    INPUT:\n",
    "    df_nowprice_pct:为当前时间点的价格相较于昨日收盘价的涨跌幅，如现在为10:30，则为10:30_price - precloseprice \n",
    "    df_weight：当日交易的目标权重，如今日想要半仓买入某只股票，则当日的weight为0.5，做空反之\n",
    "    OUTPUT:\n",
    "    df_weight_final 考虑了当前时间点由于涨跌停限制买不进去情况下的最终权重，其中不能换仓的资产延续上一个交易日的权重\n",
    "    '''\n",
    "    # TODO 写成 numpy\n",
    "    # TODO 类型检验\n",
    "    if isinstance(df_nowprice_pct,pd.DataFrame):\n",
    "#         print 'convert'\n",
    "        df_nowprice_pct = df_nowprice_pct.values    \n",
    "    if isinstance(df_weight,pd.DataFrame):\n",
    "#         print 'convert'\n",
    "        df_weight = df_weight.values\n",
    "    if not (df_nowprice_pct.dtype == np.float64 and df_weight.dtype == np.float64):\n",
    "        raise TypeError(\"input data must be numpy.float64\")\n",
    "    if df_nowprice_pct.shape != df_weight.shape:\n",
    "        raise TypeError(\"input data must has same dims.\")\n",
    "    \n",
    "    # inf check\n",
    "    if (np.isinf(df_weight)|np.isneginf(df_weight)).any():\n",
    "        raise ValueError(\"input data weight has inf or -inf.\")\n",
    "    if (np.isinf(df_nowprice_pct)|np.isneginf(df_nowprice_pct)).any():\n",
    "        raise ValueError(\"input data weight has inf or -inf.\")\n",
    "\n",
    "    \n",
    "    # small number check\n",
    "    # large num check\n",
    "    rownum = df_nowprice_pct.shape[0]\n",
    "    colnum = df_nowprice_pct.shape[1]\n",
    "\n",
    "    df_final = np.full(fill_value=0,dtype=np.float64, shape=(rownum,colnum))\n",
    "\n",
    "    for i in range(rownum):\n",
    "        if i == 0:\n",
    "            vec_pct = df_nowprice_pct[0]\n",
    "            vec_weight_today = df_weight[0]\n",
    "\n",
    "            vec_pct_bool = np.abs(vec_pct) > 0.097 # 当日涨跌停的股票\n",
    "            vec_price_isnan_bool = np.isnan(vec_pct) # 停牌的股票\n",
    "            vec_weight_isnull_bool = np.isnan(vec_weight_today)  # 权重为nan的股票\n",
    "            \n",
    "            vec_buy = (~vec_weight_isnull_bool) & (~vec_pct_bool) & (~vec_price_isnan_bool) # TRUE 为确定进行交易的，想买且能买的\n",
    "            vec_cannotbuy = (vec_pct_bool) | (vec_price_isnan_bool) # True 为 不能交易\n",
    "            \n",
    "            out_prev_weight_sum = 1 - np.nansum(np.abs(df_final[0,vec_cannotbuy]))# 抛去不能买卖的，现在还有多少总权重,此时df_final已经被就地修改过了\n",
    "            \n",
    "#             df_final[0,~vec_pct_bool] = vec_weight[~vec_pct_bool] # 第一天，直接买入可以买入的\n",
    "            df_final[0,vec_buy] = (vec_weight_today[vec_buy]/np.nansum(np.abs(vec_weight_today[vec_buy])) * out_prev_weight_sum) #\n",
    "        else:\n",
    "            vec_pct = df_nowprice_pct[i]\n",
    "            vec_weight_prev = df_final[i-1] # 上一个交易日的权重填充\n",
    "            vec_weight_today = df_weight[i] # 当天的权重\n",
    "\n",
    "            vec_pct_bool = np.abs(vec_pct) > 0.097 # 涨跌停的股票\n",
    "            vec_price_isnan_bool = np.isnan(vec_pct) # 停牌的股票\n",
    "            vec_weight_isnull_bool = np.isnan(vec_weight_today)  # 权重为nan的股票\n",
    "            # 不想交易的 vec_weight_isnull_bool、涨跌停vec_pct_bool，vec_price_isnan_bool 都视为不进行（不想、不能）买卖的股票\n",
    "            vec_buy = (~vec_weight_isnull_bool) & (~vec_pct_bool) & (~vec_price_isnan_bool) # TRUE 为确定进行交易的，想买且能买的\n",
    "            vec_cannotbuy = (vec_pct_bool) | (vec_price_isnan_bool) # True 为 不能交易\n",
    "            df_final[i,vec_cannotbuy] = vec_weight_prev[vec_cannotbuy] # 凡是今天不能交易的，统一使用上一个交易日填充，df_final第 次修改\n",
    "            out_prev_weight_sum = 1 - np.nansum(np.abs(df_final[i,:]))# 抛去不能买卖的，现在还有多少总权重,此时df_final已经被就地修改过了\n",
    "            df_final[i,vec_buy] = (vec_weight_today[vec_buy]/np.nansum(np.abs(vec_weight_today[vec_buy])) * out_prev_weight_sum) # 今天能交易的，延续上一个交易日的权重\n",
    "    \n",
    "    return df_final"
   ]
  },
  {
   "cell_type": "code",
   "execution_count": 4,
   "metadata": {
    "collapsed": false
   },
   "outputs": [
    {
     "name": "stdout",
     "output_type": "stream",
     "text": [
      "       A       B      C\n",
      "0   0.01  0.0100  0.010\n",
      "1   0.05  0.1000  0.010\n",
      "2   0.01  0.0100  0.010\n",
      "3   0.01  0.1000 -0.099\n",
      "4   0.00  0.1000  0.010\n",
      "5    NaN  0.1000  0.010\n",
      "6    NaN  0.0100  0.010\n",
      "7    NaN  0.0100  0.010\n",
      "8   0.01  0.0100  0.010\n",
      "9   0.01  0.0100  0.010\n",
      "10  0.01  0.0001  0.100\n",
      "       A    B     C\n",
      "0   0.10  0.2  0.70\n",
      "1   0.20 -0.1  0.70\n",
      "2   0.60  NaN  0.10\n",
      "3  -0.30  0.3 -0.40\n",
      "4   0.25  0.5 -0.25\n",
      "5   0.50  NaN -0.50\n",
      "6   0.50  NaN -0.50\n",
      "7   0.30  0.4 -0.30\n",
      "8   0.30  0.4 -0.30\n",
      "9   0.30  NaN -0.30\n",
      "10  0.30  0.4 -0.30\n"
     ]
    }
   ],
   "source": [
    "df_price_pct = pd.DataFrame([[0.01,0.01,0.01]\n",
    "                             ,[0.05,0.1,0.01]\n",
    "                             ,[0.01,0.01,0.01]\n",
    "                             ,[0.01,0.1,-0.099]\n",
    "                             ,[0,0.1,0.01]\n",
    "                            ,[np.nan,0.1,0.01]\n",
    "                            ,[np.nan,0.01,0.01]\n",
    "                            ,[np.nan,0.01,0.01]\n",
    "                            ,[0.01,0.01,0.01]\n",
    "                            ,[0.01,0.01,0.01]\n",
    "                            ,[0.01,0.0001,0.1]],columns=['A','B','C'])\n",
    "df_weight = pd.DataFrame([[0.1,0.2,0.7]\n",
    "                          ,[0.2,-0.1,0.7]\n",
    "                          ,[0.6,np.nan,0.1]\n",
    "                          ,[-0.3,0.3,-0.4]\n",
    "                          ,[0.25,0.5,-0.25]\n",
    "                         ,[0.5,np.nan,-0.5]\n",
    "                         ,[0.5,np.nan,-0.5]\n",
    "                         ,[0.3,0.4,-0.3]\n",
    "                         ,[0.3,0.4,-0.3]\n",
    "                         ,[0.3,np.nan,-0.3]\n",
    "                         ,[0.3,0.4,-0.3]],columns=['A','B','C'])\n",
    "print df_price_pct\n",
    "print df_weight"
   ]
  },
  {
   "cell_type": "code",
   "execution_count": 5,
   "metadata": {
    "collapsed": false
   },
   "outputs": [
    {
     "name": "stderr",
     "output_type": "stream",
     "text": [
      "c:\\users\\administrator\\anaconda2\\lib\\site-packages\\ipykernel_launcher.py:60: RuntimeWarning: invalid value encountered in absolute\n",
      "c:\\users\\administrator\\anaconda2\\lib\\site-packages\\ipykernel_launcher.py:60: RuntimeWarning: invalid value encountered in greater\n"
     ]
    },
    {
     "data": {
      "text/plain": [
       "array([[ 0.1       ,  0.2       ,  0.7       ],\n",
       "       [ 0.17777778,  0.2       ,  0.62222222],\n",
       "       [ 0.85714286,  0.        ,  0.14285714],\n",
       "       [-0.85714286,  0.        ,  0.14285714],\n",
       "       [ 0.5       ,  0.        , -0.5       ],\n",
       "       [ 0.5       ,  0.        , -0.5       ],\n",
       "       [ 0.5       ,  0.        , -0.5       ],\n",
       "       [ 0.5       ,  0.28571429, -0.21428571],\n",
       "       [ 0.3       ,  0.4       , -0.3       ],\n",
       "       [ 0.5       ,  0.        , -0.5       ],\n",
       "       [ 0.21428571,  0.28571429, -0.5       ]])"
      ]
     },
     "execution_count": 5,
     "metadata": {},
     "output_type": "execute_result"
    }
   ],
   "source": [
    "'''\n",
    "array([[ 0.1       ,  0.2       ,  0.7       ],\n",
    "       [ 0.17777778,  0.2       ,  0.62222222],\n",
    "       [ 0.85714286,  0.        ,  0.14285714],\n",
    "       [-0.85714286,  0.        ,  0.14285714],\n",
    "       [ 0.5       ,  0.        , -0.5       ],\n",
    "       [ 0.5       ,  0.        , -0.5       ],\n",
    "       [ 0.5       ,  0.        , -0.5       ],\n",
    "       [ 0.5       ,  0.28571429, -0.21428571],\n",
    "       [ 0.3       ,  0.4       , -0.3       ],\n",
    "       [ 0.5       ,  0.        , -0.5       ],\n",
    "       [ 0.21428571,  0.28571429, -0.5       ]])\n",
    "'''\n",
    "\n",
    "updownlimit(df_price_pct,df_weight)"
   ]
  },
  {
   "cell_type": "code",
   "execution_count": 12,
   "metadata": {
    "collapsed": false
   },
   "outputs": [
    {
     "name": "stderr",
     "output_type": "stream",
     "text": [
      "No traceback available to show.\n",
      "test_array (__main__.TestUplimitDown) ... ok\n",
      "test_firstday (__main__.TestUplimitDown) ... ok\n",
      "test_inf (__main__.TestUplimitDown) ... ok\n",
      "test_normal (__main__.TestUplimitDown) ... c:\\users\\administrator\\anaconda2\\lib\\site-packages\\ipykernel_launcher.py:60: RuntimeWarning: invalid value encountered in greater\n",
      "ok\n",
      "test_type (__main__.TestUplimitDown) ... ok\n",
      "\n",
      "----------------------------------------------------------------------\n",
      "Ran 5 tests in 0.016s\n",
      "\n",
      "OK\n"
     ]
    }
   ],
   "source": [
    "%tb\n",
    "import unittest\n",
    "\n",
    "class TestUplimitDown(unittest.TestCase):\n",
    "    def setUp(self):\n",
    "        pass\n",
    "\n",
    "    def tearDown(self):\n",
    "        pass\n",
    "\n",
    "    def test_normal(self):\n",
    "        df_price_pct = pd.DataFrame(np.array([[ 0.01  ,  0.01  ,  0.01  ],\n",
    "                                               [ 0.05  ,  0.1   ,  0.01  ],\n",
    "                                               [ 0.01  ,  0.01  ,  0.01  ],\n",
    "                                               [ 0.01  ,  0.1   , -0.099 ],\n",
    "                                               [ 0.    ,  0.1   ,  0.01  ],\n",
    "                                               [ np.nan,  0.1   ,  0.01  ],\n",
    "                                               [ np.nan,  0.01  ,  0.01  ],\n",
    "                                               [ np.nan,  0.01  ,  0.01  ],\n",
    "                                               [ 0.01  ,  0.01  ,  0.01  ],\n",
    "                                               [ 0.01  ,  0.01  ,  0.01  ],\n",
    "                                               [ 0.01  ,  0.0001,  0.1   ]]),columns=['A','B','C'])\n",
    "        df_weight = pd.DataFrame(np.array([[ 0.1 ,  0.2 ,  0.7 ],\n",
    "                                           [ 0.2 , -0.1 ,  0.7 ],\n",
    "                                           [ 0.6 ,np.nan,  0.1 ],\n",
    "                                           [-0.3 ,  0.3 , -0.4 ],\n",
    "                                           [ 0.25,  0.5 , -0.25],\n",
    "                                           [ 0.5 ,np.nan, -0.5 ],\n",
    "                                           [ 0.5 ,np.nan, -0.5 ],\n",
    "                                           [ 0.3 ,  0.4 , -0.3 ],\n",
    "                                           [ 0.3 ,  0.4 , -0.3 ],\n",
    "                                           [ 0.3 ,np.nan, -0.3 ],\n",
    "                                           [ 0.3 ,  0.4 , -0.3 ]]),columns=['A','B','C'])\n",
    "        \n",
    "        array_final = np.array([[ 0.1       ,  0.2       ,  0.7       ],\n",
    "                               [ 0.17777778,  0.2       ,  0.62222222],\n",
    "                               [ 0.85714286,  0.        ,  0.14285714],\n",
    "                               [-0.85714286,  0.        ,  0.14285714],\n",
    "                               [ 0.5       ,  0.        , -0.5       ],\n",
    "                               [ 0.5       ,  0.        , -0.5       ],\n",
    "                               [ 0.5       ,  0.        , -0.5       ],\n",
    "                               [ 0.5       ,  0.28571429, -0.21428571],\n",
    "                               [ 0.3       ,  0.4       , -0.3       ],\n",
    "                               [ 0.5       ,  0.        , -0.5       ],\n",
    "                               [ 0.21428571,  0.28571429, -0.5       ]])\n",
    "        \n",
    "        df_result = updownlimit(df_price_pct,df_weight)\n",
    "        self.assertTrue(np.isclose(df_result, array_final).all())\n",
    "        \n",
    "        \n",
    "    def test_inf(self):\n",
    "        df_price_pct = pd.DataFrame(np.array([[ np.inf  ,  0.01  ,  0.01  ]]),columns=['A','B','C'])\n",
    "        df_weight = pd.DataFrame(np.array([[ 0.1 ,  0.2 ,  0.7 ]]),columns=['A','B','C'])\n",
    "\n",
    "        self.assertRaises(ValueError,updownlimit,df_price_pct,df_weight)\n",
    "\n",
    "        df_price_pct = pd.DataFrame(np.array([[ np.inf  ,  0.01  ,  0.01  ]]),columns=['A','B','C'])\n",
    "        df_weight = pd.DataFrame(np.array([[ 0.1 ,  np.inf ,  0.7 ]]),columns=['A','B','C'])\n",
    "#             with self.assertRaises(ValueError):\n",
    "#                 updownlimit(df_price_pct,df_weight)\n",
    "        self.assertRaises(ValueError,updownlimit,df_price_pct,df_weight)\n",
    "\n",
    "    def test_firstday(self):\n",
    "        df_price_pct = pd.DataFrame(np.array([[ 0.01  ,  0.1  ,  0.01  ]\n",
    "                                             ,[ 0.01  ,  0.01  ,  0.01  ]]),columns=['A','B','C'])\n",
    "        df_weight = pd.DataFrame(np.array([[ 0.25 ,  0.25 ,  0.5 ]\n",
    "                                          ,[ 0.1 ,  0.1 ,  0.8 ]]),columns=['A','B','C'])\n",
    "        array_final = np.array([[ 0.33333333,  0.        ,  0.66666667],\n",
    "                                [ 0.1       ,  0.1       ,  0.8       ]])\n",
    "        result = updownlimit(df_price_pct,df_weight)\n",
    "        self.assertTrue(np.isclose(result, array_final).all())\n",
    "        \n",
    "    def test_type_equal(self):\n",
    "        df_price_pct1 = pd.DataFrame(np.array([[ 0.01  ,  0.1  ,  0.01  ]\n",
    "                                             ,[ 0.01  ,  0.01  ,  0.01  ]]),columns=['A','B','C'])\n",
    "        df_weight1 = pd.DataFrame(np.array([[ 0.25 ,  0.25 ,  0.5 ]\n",
    "                                          ,[ 0.1 ,  0.1 ,  0.8 ]]),columns=['A','B','C'])\n",
    "        result1 = updownlimit(df_price_pct1,df_weight1)\n",
    "        \n",
    "        df_price_pct2 =  np.array([[ 0.01  ,  0.1  ,  0.01  ]\n",
    "                                  ,[ 0.01  ,  0.01  ,  0.01  ]]) \n",
    "        df_weight2 =  np.array([[ 0.25 ,  0.25 ,  0.5 ]\n",
    "                               ,[ 0.1 ,  0.1 ,  0.8 ]]) \n",
    "        result2 = updownlimit(df_price_pct2,df_weight2)\n",
    "        \n",
    "        self.assertTrue(np.isclose(result1, result2).all())\n",
    "        \n",
    "    def test_array(self):\n",
    "        df_price_pct =  np.array([[ 0.01  ,  0.01  ,  0.01  ]\n",
    "                                  ,[ 0.01  ,  0.01  ,  0.01  ]]) \n",
    "        df_weight =  np.array([[ 0.25 ,  0.25 ,  0.5 ]\n",
    "                               ,[ 0.1 ,  0.1 ,  0.8 ]]) \n",
    "        result = updownlimit(df_price_pct,df_weight)\n",
    "        \n",
    "        array_final = np.array([[ 0.25      ,  0.25      ,  0.5       ],\n",
    "                                [ 0.1       ,  0.1       ,  0.8       ]])\n",
    "        \n",
    "        self.assertTrue(np.isclose(result, array_final).all())\n",
    "\n",
    "obj = unittest.main(argv=['ignored', '-v'], exit=False)"
   ]
  },
  {
   "cell_type": "code",
   "execution_count": 10,
   "metadata": {
    "collapsed": false
   },
   "outputs": [
    {
     "ename": "NameError",
     "evalue": "name 'array' is not defined",
     "output_type": "error",
     "traceback": [
      "\u001b[1;31m---------------------------------------------------------------------------\u001b[0m",
      "\u001b[1;31mNameError\u001b[0m                                 Traceback (most recent call last)",
      "\u001b[1;32m<ipython-input-10-54b481bfd015>\u001b[0m in \u001b[0;36m<module>\u001b[1;34m()\u001b[0m\n\u001b[0;32m      3\u001b[0m df_weight = pd.DataFrame(np.array([[ 0.25 ,  0.25 ,  0.5 ]\n\u001b[0;32m      4\u001b[0m                                   ,[ 0.1 ,  0.1 ,  0.8 ]]),columns=['A','B','C'])\n\u001b[1;32m----> 5\u001b[1;33m array_final = array([[ 0.33333333,  0.        ,  0.66666667],\n\u001b[0m\u001b[0;32m      6\u001b[0m                     [ 0.1       ,  0.1       ,  0.8       ]])\n\u001b[0;32m      7\u001b[0m \u001b[0mresult\u001b[0m \u001b[1;33m=\u001b[0m \u001b[0mupdownlimit\u001b[0m\u001b[1;33m(\u001b[0m\u001b[0mdf_price_pct\u001b[0m\u001b[1;33m,\u001b[0m\u001b[0mdf_weight\u001b[0m\u001b[1;33m)\u001b[0m\u001b[1;33m\u001b[0m\u001b[0m\n",
      "\u001b[1;31mNameError\u001b[0m: name 'array' is not defined"
     ]
    }
   ],
   "source": [
    "df_price_pct = pd.DataFrame(np.array([[ 0.01  ,  0.1  ,  0.01  ]\n",
    "                                             ,[ 0.01  ,  0.01  ,  0.01  ]]),columns=['A','B','C'])\n",
    "df_weight = pd.DataFrame(np.array([[ 0.25 ,  0.25 ,  0.5 ]\n",
    "                                  ,[ 0.1 ,  0.1 ,  0.8 ]]),columns=['A','B','C'])\n",
    "array_final = np.array([[ 0.33333333,  0.        ,  0.66666667],\n",
    "                    [ 0.1       ,  0.1       ,  0.8       ]])\n",
    "result = updownlimit(df_price_pct,df_weight)"
   ]
  },
  {
   "cell_type": "code",
   "execution_count": 11,
   "metadata": {
    "collapsed": false
   },
   "outputs": [
    {
     "data": {
      "text/html": [
       "<div>\n",
       "<table border=\"1\" class=\"dataframe\">\n",
       "  <thead>\n",
       "    <tr style=\"text-align: right;\">\n",
       "      <th></th>\n",
       "      <th>A</th>\n",
       "      <th>B</th>\n",
       "      <th>C</th>\n",
       "    </tr>\n",
       "  </thead>\n",
       "  <tbody>\n",
       "    <tr>\n",
       "      <th>0</th>\n",
       "      <td>0.01</td>\n",
       "      <td>0.10</td>\n",
       "      <td>0.01</td>\n",
       "    </tr>\n",
       "    <tr>\n",
       "      <th>1</th>\n",
       "      <td>0.01</td>\n",
       "      <td>0.01</td>\n",
       "      <td>0.01</td>\n",
       "    </tr>\n",
       "  </tbody>\n",
       "</table>\n",
       "</div>"
      ],
      "text/plain": [
       "      A     B     C\n",
       "0  0.01  0.10  0.01\n",
       "1  0.01  0.01  0.01"
      ]
     },
     "execution_count": 11,
     "metadata": {},
     "output_type": "execute_result"
    }
   ],
   "source": [
    "df_price_pct"
   ]
  },
  {
   "cell_type": "code",
   "execution_count": 12,
   "metadata": {
    "collapsed": false
   },
   "outputs": [
    {
     "data": {
      "text/html": [
       "<div>\n",
       "<table border=\"1\" class=\"dataframe\">\n",
       "  <thead>\n",
       "    <tr style=\"text-align: right;\">\n",
       "      <th></th>\n",
       "      <th>A</th>\n",
       "      <th>B</th>\n",
       "      <th>C</th>\n",
       "    </tr>\n",
       "  </thead>\n",
       "  <tbody>\n",
       "    <tr>\n",
       "      <th>0</th>\n",
       "      <td>0.25</td>\n",
       "      <td>0.25</td>\n",
       "      <td>0.5</td>\n",
       "    </tr>\n",
       "    <tr>\n",
       "      <th>1</th>\n",
       "      <td>0.10</td>\n",
       "      <td>0.10</td>\n",
       "      <td>0.8</td>\n",
       "    </tr>\n",
       "  </tbody>\n",
       "</table>\n",
       "</div>"
      ],
      "text/plain": [
       "      A     B    C\n",
       "0  0.25  0.25  0.5\n",
       "1  0.10  0.10  0.8"
      ]
     },
     "execution_count": 12,
     "metadata": {},
     "output_type": "execute_result"
    }
   ],
   "source": [
    "df_weight"
   ]
  },
  {
   "cell_type": "code",
   "execution_count": 9,
   "metadata": {
    "collapsed": false
   },
   "outputs": [
    {
     "data": {
      "text/plain": [
       "array([[ 0.33333333,  0.        ,  0.66666667],\n",
       "       [ 0.1       ,  0.1       ,  0.8       ]])"
      ]
     },
     "execution_count": 9,
     "metadata": {},
     "output_type": "execute_result"
    }
   ],
   "source": [
    "result"
   ]
  },
  {
   "cell_type": "code",
   "execution_count": 43,
   "metadata": {
    "collapsed": false,
    "scrolled": true
   },
   "outputs": [
    {
     "name": "stderr",
     "output_type": "stream",
     "text": [
      "c:\\users\\administrator\\anaconda2\\lib\\site-packages\\ipykernel_launcher.py:38: RuntimeWarning: invalid value encountered in absolute\n",
      "c:\\users\\administrator\\anaconda2\\lib\\site-packages\\ipykernel_launcher.py:38: RuntimeWarning: invalid value encountered in greater\n"
     ]
    }
   ],
   "source": [
    "import pdb\n",
    "df_nowprice_pct = df_price_pct\n",
    "\n",
    "if not (df_nowprice_pct.values.dtype == np.float64 and df_price_pct.values.dtype == np.float64):\n",
    "    raise TypeError(\"input data must be numpy.float64\")\n",
    "if df_nowprice_pct.shape != df_weight.shape:\n",
    "    raise TypeError(\"input data must has same dims.\")\n",
    "if isinstance(df_nowprice_pct,pd.DataFrame):\n",
    "        df_nowprice_pct = df_nowprice_pct.values    \n",
    "if isinstance(df_weight,pd.DataFrame):\n",
    "    df_weight = df_weight.values\n",
    "if (np.isinf(df_weight)|np.isneginf(df_weight)).any():\n",
    "    raise ValueError(\"input data weight has inf or -inf.\")\n",
    "if (np.isinf(df_nowprice_pct)|np.isneginf(df_nowprice_pct)).any():\n",
    "    raise ValueError(\"input data weight has inf or -inf.\")\n",
    "    \n",
    "# inf nan check\n",
    "# small number check\n",
    "# large num check\n",
    "rownum = df_nowprice_pct.shape[0]\n",
    "colnum = df_nowprice_pct.shape[1]\n",
    "\n",
    "df_final = np.full(fill_value=0,dtype=np.float64, shape=(rownum,colnum))\n",
    "\n",
    "for i in range(rownum):\n",
    "    if i == 0:\n",
    "        vec_pct = df_nowprice_pct[0]\n",
    "        vec_weight = df_weight[0]\n",
    "        \n",
    "        vec_pct_bool = np.abs(vec_pct) > 0.097 # 当日涨跌停的股票\n",
    "        df_final[0,:] = vec_weight[~vec_pct_bool] # 第一天，直接买入可以买入的\n",
    "        \n",
    "    else:\n",
    "        vec_pct = df_nowprice_pct[i]\n",
    "        vec_weight_prev = df_final[i-1] # 上一个交易日的权重填充\n",
    "        vec_weight_today = df_weight[i] # 当天的权重\n",
    "        \n",
    "        vec_pct_bool = np.abs(vec_pct) > 0.097 # 涨跌停的股票\n",
    "        vec_isnan_bool = np.isnan(vec_pct) # 停牌的股票\n",
    "        vec_isnull_bool = np.isnan(vec_weight_today)  # 权重为nan的股票\n",
    "        \n",
    "        vec_canbuy = (~vec_isnull_bool) & (~vec_pct_bool) & (~vec_isnan_bool) # 可继续添加 inf\n",
    "        \n",
    "        df_final[i,vec_pct_bool] = vec_weight_prev[vec_pct_bool] # 凡是今天不能交易的，统一使用上一个交易日填充，df_final第 次修改\n",
    "\n",
    "        out_prev_weight_sum = 1 - np.nansum(np.abs(df_final[i,:]))# 抛去不能买卖的，现在还有多少总权重,此时df_final已经被就地修改过了\n",
    "        \n",
    "        \n",
    "#         if i == 3:\n",
    "#             pdb.set_trace()\n",
    "\n",
    "        df_final[i,vec_canbuy] = (vec_weight_today[vec_canbuy]/np.nansum(np.abs(vec_weight_today[vec_canbuy])) * out_prev_weight_sum) # 今天能交易的，延续上一个交易日的权重"
   ]
  },
  {
   "cell_type": "code",
   "execution_count": 44,
   "metadata": {
    "collapsed": false
   },
   "outputs": [
    {
     "name": "stdout",
     "output_type": "stream",
     "text": [
      "[[ 0.1         0.2         0.7       ]\n",
      " [ 0.17777778  0.2         0.62222222]\n",
      " [ 0.85714286  0.          0.14285714]\n",
      " [-0.85714286  0.          0.14285714]\n",
      " [ 0.5         0.         -0.5       ]\n",
      " [ 0.          0.         -1.        ]\n",
      " [ 0.          0.         -1.        ]\n",
      " [ 0.          0.57142857 -0.42857143]\n",
      " [ 0.3         0.4        -0.3       ]\n",
      " [ 0.5         0.         -0.5       ]\n",
      " [ 0.21428571  0.28571429 -0.5       ]]\n"
     ]
    }
   ],
   "source": [
    "'''\n",
    "array([[ 0.1       ,  0.2       ,  0.7       ],\n",
    "       [ 0.17777778,  0.2       ,  0.62222222],\n",
    "       [ 0.85714286,  0.        ,  0.14285714],\n",
    "       [-0.85714286,  0.        ,  0.14285714],\n",
    "       [ 0.5       ,  0.        , -0.5       ],\n",
    "       [ 0.5       ,  0.        , -0.5       ],\n",
    "       [ 0.5       ,  0.        , -0.5       ],\n",
    "       [ 0.3       ,  0.4       , -0.3       ],\n",
    "       [ 0.3       ,  0.4       , -0.3       ]])\n",
    "'''\n",
    "print df_final\n"
   ]
  },
  {
   "cell_type": "code",
   "execution_count": 196,
   "metadata": {
    "collapsed": false
   },
   "outputs": [
    {
     "data": {
      "text/plain": [
       "array([ 0.22222222,  0.77777778])"
      ]
     },
     "execution_count": 196,
     "metadata": {},
     "output_type": "execute_result"
    }
   ],
   "source": [
    "vec_weight[~vec_pct_bool]/out_prev_weight_sum"
   ]
  },
  {
   "cell_type": "code",
   "execution_count": 164,
   "metadata": {
    "collapsed": false
   },
   "outputs": [
    {
     "data": {
      "text/html": [
       "<div>\n",
       "<table border=\"1\" class=\"dataframe\">\n",
       "  <thead>\n",
       "    <tr style=\"text-align: right;\">\n",
       "      <th></th>\n",
       "      <th>A</th>\n",
       "      <th>B</th>\n",
       "      <th>C</th>\n",
       "    </tr>\n",
       "  </thead>\n",
       "  <tbody>\n",
       "    <tr>\n",
       "      <th>0</th>\n",
       "      <td>0.01</td>\n",
       "      <td>0.01</td>\n",
       "      <td>0.010</td>\n",
       "    </tr>\n",
       "    <tr>\n",
       "      <th>1</th>\n",
       "      <td>0.05</td>\n",
       "      <td>0.10</td>\n",
       "      <td>0.010</td>\n",
       "    </tr>\n",
       "    <tr>\n",
       "      <th>2</th>\n",
       "      <td>0.01</td>\n",
       "      <td>0.01</td>\n",
       "      <td>0.010</td>\n",
       "    </tr>\n",
       "    <tr>\n",
       "      <th>3</th>\n",
       "      <td>0.01</td>\n",
       "      <td>0.10</td>\n",
       "      <td>-0.099</td>\n",
       "    </tr>\n",
       "    <tr>\n",
       "      <th>4</th>\n",
       "      <td>NaN</td>\n",
       "      <td>0.10</td>\n",
       "      <td>0.010</td>\n",
       "    </tr>\n",
       "    <tr>\n",
       "      <th>5</th>\n",
       "      <td>NaN</td>\n",
       "      <td>0.10</td>\n",
       "      <td>0.010</td>\n",
       "    </tr>\n",
       "    <tr>\n",
       "      <th>6</th>\n",
       "      <td>0.01</td>\n",
       "      <td>0.01</td>\n",
       "      <td>0.010</td>\n",
       "    </tr>\n",
       "    <tr>\n",
       "      <th>7</th>\n",
       "      <td>0.01</td>\n",
       "      <td>0.01</td>\n",
       "      <td>0.010</td>\n",
       "    </tr>\n",
       "  </tbody>\n",
       "</table>\n",
       "</div>"
      ],
      "text/plain": [
       "      A     B      C\n",
       "0  0.01  0.01  0.010\n",
       "1  0.05  0.10  0.010\n",
       "2  0.01  0.01  0.010\n",
       "3  0.01  0.10 -0.099\n",
       "4   NaN  0.10  0.010\n",
       "5   NaN  0.10  0.010\n",
       "6  0.01  0.01  0.010\n",
       "7  0.01  0.01  0.010"
      ]
     },
     "execution_count": 164,
     "metadata": {},
     "output_type": "execute_result"
    }
   ],
   "source": [
    "df_price_pct"
   ]
  },
  {
   "cell_type": "code",
   "execution_count": 173,
   "metadata": {
    "collapsed": false
   },
   "outputs": [
    {
     "data": {
      "text/html": [
       "<div>\n",
       "<table border=\"1\" class=\"dataframe\">\n",
       "  <thead>\n",
       "    <tr style=\"text-align: right;\">\n",
       "      <th></th>\n",
       "      <th>A</th>\n",
       "      <th>B</th>\n",
       "      <th>C</th>\n",
       "    </tr>\n",
       "  </thead>\n",
       "  <tbody>\n",
       "    <tr>\n",
       "      <th>0</th>\n",
       "      <td>0.10</td>\n",
       "      <td>0.2</td>\n",
       "      <td>0.70</td>\n",
       "    </tr>\n",
       "    <tr>\n",
       "      <th>1</th>\n",
       "      <td>0.20</td>\n",
       "      <td>-0.1</td>\n",
       "      <td>0.70</td>\n",
       "    </tr>\n",
       "    <tr>\n",
       "      <th>2</th>\n",
       "      <td>0.60</td>\n",
       "      <td>NaN</td>\n",
       "      <td>0.10</td>\n",
       "    </tr>\n",
       "    <tr>\n",
       "      <th>3</th>\n",
       "      <td>-0.30</td>\n",
       "      <td>0.3</td>\n",
       "      <td>-0.40</td>\n",
       "    </tr>\n",
       "    <tr>\n",
       "      <th>4</th>\n",
       "      <td>0.25</td>\n",
       "      <td>0.5</td>\n",
       "      <td>-0.25</td>\n",
       "    </tr>\n",
       "    <tr>\n",
       "      <th>5</th>\n",
       "      <td>0.50</td>\n",
       "      <td>NaN</td>\n",
       "      <td>-0.50</td>\n",
       "    </tr>\n",
       "    <tr>\n",
       "      <th>6</th>\n",
       "      <td>0.50</td>\n",
       "      <td>NaN</td>\n",
       "      <td>-0.50</td>\n",
       "    </tr>\n",
       "    <tr>\n",
       "      <th>7</th>\n",
       "      <td>0.30</td>\n",
       "      <td>0.4</td>\n",
       "      <td>-0.30</td>\n",
       "    </tr>\n",
       "    <tr>\n",
       "      <th>8</th>\n",
       "      <td>0.30</td>\n",
       "      <td>0.4</td>\n",
       "      <td>-0.30</td>\n",
       "    </tr>\n",
       "  </tbody>\n",
       "</table>\n",
       "</div>"
      ],
      "text/plain": [
       "      A    B     C\n",
       "0  0.10  0.2  0.70\n",
       "1  0.20 -0.1  0.70\n",
       "2  0.60  NaN  0.10\n",
       "3 -0.30  0.3 -0.40\n",
       "4  0.25  0.5 -0.25\n",
       "5  0.50  NaN -0.50\n",
       "6  0.50  NaN -0.50\n",
       "7  0.30  0.4 -0.30\n",
       "8  0.30  0.4 -0.30"
      ]
     },
     "execution_count": 173,
     "metadata": {},
     "output_type": "execute_result"
    }
   ],
   "source": [
    "df_weight"
   ]
  },
  {
   "cell_type": "code",
   "execution_count": 174,
   "metadata": {
    "collapsed": false
   },
   "outputs": [
    {
     "data": {
      "text/html": [
       "<div>\n",
       "<table border=\"1\" class=\"dataframe\">\n",
       "  <thead>\n",
       "    <tr style=\"text-align: right;\">\n",
       "      <th></th>\n",
       "      <th>A</th>\n",
       "      <th>B</th>\n",
       "      <th>C</th>\n",
       "    </tr>\n",
       "  </thead>\n",
       "  <tbody>\n",
       "    <tr>\n",
       "      <th>0</th>\n",
       "      <td>0.100000</td>\n",
       "      <td>0.200000</td>\n",
       "      <td>0.700000</td>\n",
       "    </tr>\n",
       "    <tr>\n",
       "      <th>1</th>\n",
       "      <td>0.177778</td>\n",
       "      <td>0.200000</td>\n",
       "      <td>0.622222</td>\n",
       "    </tr>\n",
       "    <tr>\n",
       "      <th>2</th>\n",
       "      <td>0.857143</td>\n",
       "      <td>0.000000</td>\n",
       "      <td>0.142857</td>\n",
       "    </tr>\n",
       "    <tr>\n",
       "      <th>3</th>\n",
       "      <td>-0.857143</td>\n",
       "      <td>0.000000</td>\n",
       "      <td>0.142857</td>\n",
       "    </tr>\n",
       "    <tr>\n",
       "      <th>4</th>\n",
       "      <td>0.500000</td>\n",
       "      <td>0.000000</td>\n",
       "      <td>-0.500000</td>\n",
       "    </tr>\n",
       "    <tr>\n",
       "      <th>5</th>\n",
       "      <td>0.500000</td>\n",
       "      <td>0.000000</td>\n",
       "      <td>-0.500000</td>\n",
       "    </tr>\n",
       "    <tr>\n",
       "      <th>6</th>\n",
       "      <td>0.500000</td>\n",
       "      <td>0.000000</td>\n",
       "      <td>-0.500000</td>\n",
       "    </tr>\n",
       "    <tr>\n",
       "      <th>7</th>\n",
       "      <td>0.500000</td>\n",
       "      <td>0.285714</td>\n",
       "      <td>-0.214286</td>\n",
       "    </tr>\n",
       "    <tr>\n",
       "      <th>8</th>\n",
       "      <td>0.300000</td>\n",
       "      <td>0.400000</td>\n",
       "      <td>-0.300000</td>\n",
       "    </tr>\n",
       "  </tbody>\n",
       "</table>\n",
       "</div>"
      ],
      "text/plain": [
       "          A         B         C\n",
       "0  0.100000  0.200000  0.700000\n",
       "1  0.177778  0.200000  0.622222\n",
       "2  0.857143  0.000000  0.142857\n",
       "3 -0.857143  0.000000  0.142857\n",
       "4  0.500000  0.000000 -0.500000\n",
       "5  0.500000  0.000000 -0.500000\n",
       "6  0.500000  0.000000 -0.500000\n",
       "7  0.500000  0.285714 -0.214286\n",
       "8  0.300000  0.400000 -0.300000"
      ]
     },
     "execution_count": 174,
     "metadata": {},
     "output_type": "execute_result"
    }
   ],
   "source": [
    "updownlimit(df_price_pct,df_weight)"
   ]
  },
  {
   "cell_type": "code",
   "execution_count": 154,
   "metadata": {
    "collapsed": false
   },
   "outputs": [
    {
     "data": {
      "text/html": [
       "<div>\n",
       "<table border=\"1\" class=\"dataframe\">\n",
       "  <thead>\n",
       "    <tr style=\"text-align: right;\">\n",
       "      <th></th>\n",
       "      <th>A</th>\n",
       "      <th>B</th>\n",
       "      <th>C</th>\n",
       "    </tr>\n",
       "  </thead>\n",
       "  <tbody>\n",
       "    <tr>\n",
       "      <th>0</th>\n",
       "      <td>NaN</td>\n",
       "      <td>NaN</td>\n",
       "      <td>NaN</td>\n",
       "    </tr>\n",
       "    <tr>\n",
       "      <th>1</th>\n",
       "      <td>NaN</td>\n",
       "      <td>1.0</td>\n",
       "      <td>NaN</td>\n",
       "    </tr>\n",
       "    <tr>\n",
       "      <th>2</th>\n",
       "      <td>NaN</td>\n",
       "      <td>NaN</td>\n",
       "      <td>NaN</td>\n",
       "    </tr>\n",
       "    <tr>\n",
       "      <th>3</th>\n",
       "      <td>NaN</td>\n",
       "      <td>1.0</td>\n",
       "      <td>1.0</td>\n",
       "    </tr>\n",
       "    <tr>\n",
       "      <th>4</th>\n",
       "      <td>1.0</td>\n",
       "      <td>1.0</td>\n",
       "      <td>NaN</td>\n",
       "    </tr>\n",
       "    <tr>\n",
       "      <th>5</th>\n",
       "      <td>1.0</td>\n",
       "      <td>1.0</td>\n",
       "      <td>NaN</td>\n",
       "    </tr>\n",
       "    <tr>\n",
       "      <th>6</th>\n",
       "      <td>NaN</td>\n",
       "      <td>NaN</td>\n",
       "      <td>NaN</td>\n",
       "    </tr>\n",
       "    <tr>\n",
       "      <th>7</th>\n",
       "      <td>NaN</td>\n",
       "      <td>NaN</td>\n",
       "      <td>NaN</td>\n",
       "    </tr>\n",
       "  </tbody>\n",
       "</table>\n",
       "</div>"
      ],
      "text/plain": [
       "     A    B    C\n",
       "0  NaN  NaN  NaN\n",
       "1  NaN  1.0  NaN\n",
       "2  NaN  NaN  NaN\n",
       "3  NaN  1.0  1.0\n",
       "4  1.0  1.0  NaN\n",
       "5  1.0  1.0  NaN\n",
       "6  NaN  NaN  NaN\n",
       "7  NaN  NaN  NaN"
      ]
     },
     "execution_count": 154,
     "metadata": {},
     "output_type": "execute_result"
    }
   ],
   "source": [
    "\n",
    "df_islimit = (~((abs(df_nowprice_pct) > 0.097) | df_nowprice_pct.isnull()) ).astype(\"float32\").replace(0.,np.nan) \n",
    "df_isupdown = df_islimit.isnull().astype(\"float32\").replace(0.,np.nan) # 当天涨跌停为1，其它为nan\n",
    "df_isupdown"
   ]
  },
  {
   "cell_type": "code",
   "execution_count": 143,
   "metadata": {
    "collapsed": false
   },
   "outputs": [],
   "source": [
    "df_nowprice_pct = df_price_pct \n",
    "df_islimit = (~((abs(df_nowprice_pct) > 0.097) | df_nowprice_pct.isnull()) ).astype(\"float32\").replace(0.,np.nan) # 当天涨跌停为nan，其它为1\n",
    "df_isupdown = df_islimit.isnull().astype(\"float32\").replace(0.,np.nan) # 当天涨跌停为1，其它为nan\n",
    "\n",
    "df_limitbefore_weight = (df_isupdown.shift(-1)*df_weight.fillna(0))            # 涨跌停前一天的权值\n",
    "df_weight_outlimit = (df_islimit*df_weight).fillna(0)                                  #原始权值抛去涨跌停的权值\n",
    "df_weight_limitday = ((df_limitbefore_weight*df_islimit).fillna(1)*df_islimit).ffill().replace(1.,np.nan) - (df_limitbefore_weight*df_islimit).fillna(0) # 涨跌停当天的权值,按照前一个交易日的权重进行填充\n",
    "sr_weight_sum_perday = abs(df_weight_outlimit).sum(1)\n",
    "df_weight_outlimit = df_weight_outlimit.div(sr_weight_sum_perday.values,axis=0)\n",
    "df_weight_outlimit = df_weight_outlimit.mul(1-abs(df_weight_limitday).sum(1),axis=0)#重新核算抛弃涨跌停权重后的各只股票的权重\n",
    "df_weight_final_temp = df_weight_outlimit + df_weight_limitday.fillna(0)\n",
    "\n",
    "# 再来一遍\n",
    "df_limitbefore_weight = (df_isupdown.shift(-1)*df_weight_final_temp.fillna(0))            # 涨跌停前一天的权值\n",
    "df_weight_outlimit = (df_islimit*df_weight_final_temp).fillna(0) \n",
    "df_weight_limitday = ((df_limitbefore_weight*df_islimit).fillna(1)*df_islimit).ffill().replace(1.,np.nan) - (df_limitbefore_weight*df_islimit).fillna(0) # 涨跌停当天的权值,按照前一个交易日的权重进行填充\n",
    "sr_weight_sum_perday = abs(df_weight_outlimit).sum(1)\n",
    "df_weight_outlimit = df_weight_outlimit.div(sr_weight_sum_perday.values,axis=0)\n",
    "df_weight_outlimit = df_weight_outlimit.mul(1-abs(df_weight_limitday).sum(1),axis=0)#重新核算抛弃涨跌停权重后的各只股票的权重\n",
    "df_weight_final = df_weight_outlimit + df_weight_limitday.fillna(0)\n",
    "\n"
   ]
  },
  {
   "cell_type": "code",
   "execution_count": 142,
   "metadata": {
    "collapsed": false
   },
   "outputs": [
    {
     "data": {
      "text/html": [
       "<div>\n",
       "<table border=\"1\" class=\"dataframe\">\n",
       "  <thead>\n",
       "    <tr style=\"text-align: right;\">\n",
       "      <th></th>\n",
       "      <th>A</th>\n",
       "      <th>B</th>\n",
       "      <th>C</th>\n",
       "    </tr>\n",
       "  </thead>\n",
       "  <tbody>\n",
       "    <tr>\n",
       "      <th>0</th>\n",
       "      <td>1.0</td>\n",
       "      <td>1.0</td>\n",
       "      <td>1.0</td>\n",
       "    </tr>\n",
       "    <tr>\n",
       "      <th>1</th>\n",
       "      <td>1.0</td>\n",
       "      <td>NaN</td>\n",
       "      <td>1.0</td>\n",
       "    </tr>\n",
       "    <tr>\n",
       "      <th>2</th>\n",
       "      <td>1.0</td>\n",
       "      <td>1.0</td>\n",
       "      <td>1.0</td>\n",
       "    </tr>\n",
       "    <tr>\n",
       "      <th>3</th>\n",
       "      <td>1.0</td>\n",
       "      <td>NaN</td>\n",
       "      <td>NaN</td>\n",
       "    </tr>\n",
       "    <tr>\n",
       "      <th>4</th>\n",
       "      <td>1.0</td>\n",
       "      <td>NaN</td>\n",
       "      <td>1.0</td>\n",
       "    </tr>\n",
       "    <tr>\n",
       "      <th>5</th>\n",
       "      <td>1.0</td>\n",
       "      <td>NaN</td>\n",
       "      <td>1.0</td>\n",
       "    </tr>\n",
       "    <tr>\n",
       "      <th>6</th>\n",
       "      <td>1.0</td>\n",
       "      <td>1.0</td>\n",
       "      <td>1.0</td>\n",
       "    </tr>\n",
       "  </tbody>\n",
       "</table>\n",
       "</div>"
      ],
      "text/plain": [
       "     A    B    C\n",
       "0  1.0  1.0  1.0\n",
       "1  1.0  NaN  1.0\n",
       "2  1.0  1.0  1.0\n",
       "3  1.0  NaN  NaN\n",
       "4  1.0  NaN  1.0\n",
       "5  1.0  NaN  1.0\n",
       "6  1.0  1.0  1.0"
      ]
     },
     "execution_count": 142,
     "metadata": {},
     "output_type": "execute_result"
    }
   ],
   "source": [
    "df_islimit"
   ]
  },
  {
   "cell_type": "code",
   "execution_count": 141,
   "metadata": {
    "collapsed": false
   },
   "outputs": [
    {
     "data": {
      "text/html": [
       "<div>\n",
       "<table border=\"1\" class=\"dataframe\">\n",
       "  <thead>\n",
       "    <tr style=\"text-align: right;\">\n",
       "      <th></th>\n",
       "      <th>A</th>\n",
       "      <th>B</th>\n",
       "      <th>C</th>\n",
       "    </tr>\n",
       "  </thead>\n",
       "  <tbody>\n",
       "    <tr>\n",
       "      <th>0</th>\n",
       "      <td>0.10</td>\n",
       "      <td>0.2</td>\n",
       "      <td>0.70</td>\n",
       "    </tr>\n",
       "    <tr>\n",
       "      <th>1</th>\n",
       "      <td>0.20</td>\n",
       "      <td>NaN</td>\n",
       "      <td>0.70</td>\n",
       "    </tr>\n",
       "    <tr>\n",
       "      <th>2</th>\n",
       "      <td>0.60</td>\n",
       "      <td>NaN</td>\n",
       "      <td>0.10</td>\n",
       "    </tr>\n",
       "    <tr>\n",
       "      <th>3</th>\n",
       "      <td>-0.30</td>\n",
       "      <td>NaN</td>\n",
       "      <td>NaN</td>\n",
       "    </tr>\n",
       "    <tr>\n",
       "      <th>4</th>\n",
       "      <td>0.25</td>\n",
       "      <td>NaN</td>\n",
       "      <td>-0.25</td>\n",
       "    </tr>\n",
       "    <tr>\n",
       "      <th>5</th>\n",
       "      <td>0.50</td>\n",
       "      <td>NaN</td>\n",
       "      <td>-0.50</td>\n",
       "    </tr>\n",
       "    <tr>\n",
       "      <th>6</th>\n",
       "      <td>0.50</td>\n",
       "      <td>NaN</td>\n",
       "      <td>-0.50</td>\n",
       "    </tr>\n",
       "    <tr>\n",
       "      <th>7</th>\n",
       "      <td>NaN</td>\n",
       "      <td>NaN</td>\n",
       "      <td>NaN</td>\n",
       "    </tr>\n",
       "  </tbody>\n",
       "</table>\n",
       "</div>"
      ],
      "text/plain": [
       "      A    B     C\n",
       "0  0.10  0.2  0.70\n",
       "1  0.20  NaN  0.70\n",
       "2  0.60  NaN  0.10\n",
       "3 -0.30  NaN   NaN\n",
       "4  0.25  NaN -0.25\n",
       "5  0.50  NaN -0.50\n",
       "6  0.50  NaN -0.50\n",
       "7   NaN  NaN   NaN"
      ]
     },
     "execution_count": 141,
     "metadata": {},
     "output_type": "execute_result"
    }
   ],
   "source": [
    "(df_islimit*df_weight)"
   ]
  },
  {
   "cell_type": "code",
   "execution_count": 94,
   "metadata": {
    "collapsed": false
   },
   "outputs": [
    {
     "data": {
      "text/html": [
       "<div>\n",
       "<table border=\"1\" class=\"dataframe\">\n",
       "  <thead>\n",
       "    <tr style=\"text-align: right;\">\n",
       "      <th></th>\n",
       "      <th>A</th>\n",
       "      <th>B</th>\n",
       "      <th>C</th>\n",
       "    </tr>\n",
       "  </thead>\n",
       "  <tbody>\n",
       "    <tr>\n",
       "      <th>0</th>\n",
       "      <td>NaN</td>\n",
       "      <td>0.0</td>\n",
       "      <td>NaN</td>\n",
       "    </tr>\n",
       "    <tr>\n",
       "      <th>1</th>\n",
       "      <td>NaN</td>\n",
       "      <td>0.2</td>\n",
       "      <td>NaN</td>\n",
       "    </tr>\n",
       "    <tr>\n",
       "      <th>2</th>\n",
       "      <td>NaN</td>\n",
       "      <td>0.0</td>\n",
       "      <td>0.0</td>\n",
       "    </tr>\n",
       "    <tr>\n",
       "      <th>3</th>\n",
       "      <td>NaN</td>\n",
       "      <td>0.0</td>\n",
       "      <td>0.1</td>\n",
       "    </tr>\n",
       "    <tr>\n",
       "      <th>4</th>\n",
       "      <td>NaN</td>\n",
       "      <td>0.0</td>\n",
       "      <td>NaN</td>\n",
       "    </tr>\n",
       "    <tr>\n",
       "      <th>5</th>\n",
       "      <td>NaN</td>\n",
       "      <td>0.0</td>\n",
       "      <td>NaN</td>\n",
       "    </tr>\n",
       "    <tr>\n",
       "      <th>6</th>\n",
       "      <td>NaN</td>\n",
       "      <td>NaN</td>\n",
       "      <td>NaN</td>\n",
       "    </tr>\n",
       "    <tr>\n",
       "      <th>7</th>\n",
       "      <td>NaN</td>\n",
       "      <td>NaN</td>\n",
       "      <td>NaN</td>\n",
       "    </tr>\n",
       "  </tbody>\n",
       "</table>\n",
       "</div>"
      ],
      "text/plain": [
       "    A    B    C\n",
       "0 NaN  0.0  NaN\n",
       "1 NaN  0.2  NaN\n",
       "2 NaN  0.0  0.0\n",
       "3 NaN  0.0  0.1\n",
       "4 NaN  0.0  NaN\n",
       "5 NaN  0.0  NaN\n",
       "6 NaN  NaN  NaN\n",
       "7 NaN  NaN  NaN"
      ]
     },
     "execution_count": 94,
     "metadata": {},
     "output_type": "execute_result"
    }
   ],
   "source": [
    "df_weight_limitday"
   ]
  },
  {
   "cell_type": "code",
   "execution_count": 44,
   "metadata": {
    "collapsed": false
   },
   "outputs": [
    {
     "data": {
      "text/html": [
       "<div>\n",
       "<table border=\"1\" class=\"dataframe\">\n",
       "  <thead>\n",
       "    <tr style=\"text-align: right;\">\n",
       "      <th></th>\n",
       "      <th>A</th>\n",
       "      <th>B</th>\n",
       "      <th>C</th>\n",
       "    </tr>\n",
       "  </thead>\n",
       "  <tbody>\n",
       "    <tr>\n",
       "      <th>0</th>\n",
       "      <td>1.0</td>\n",
       "      <td>1.0</td>\n",
       "      <td>1.0</td>\n",
       "    </tr>\n",
       "    <tr>\n",
       "      <th>1</th>\n",
       "      <td>1.0</td>\n",
       "      <td>NaN</td>\n",
       "      <td>1.0</td>\n",
       "    </tr>\n",
       "    <tr>\n",
       "      <th>2</th>\n",
       "      <td>1.0</td>\n",
       "      <td>1.0</td>\n",
       "      <td>1.0</td>\n",
       "    </tr>\n",
       "    <tr>\n",
       "      <th>3</th>\n",
       "      <td>1.0</td>\n",
       "      <td>NaN</td>\n",
       "      <td>NaN</td>\n",
       "    </tr>\n",
       "    <tr>\n",
       "      <th>4</th>\n",
       "      <td>1.0</td>\n",
       "      <td>NaN</td>\n",
       "      <td>1.0</td>\n",
       "    </tr>\n",
       "    <tr>\n",
       "      <th>5</th>\n",
       "      <td>1.0</td>\n",
       "      <td>NaN</td>\n",
       "      <td>1.0</td>\n",
       "    </tr>\n",
       "    <tr>\n",
       "      <th>6</th>\n",
       "      <td>1.0</td>\n",
       "      <td>1.0</td>\n",
       "      <td>1.0</td>\n",
       "    </tr>\n",
       "  </tbody>\n",
       "</table>\n",
       "</div>"
      ],
      "text/plain": [
       "     A    B    C\n",
       "0  1.0  1.0  1.0\n",
       "1  1.0  NaN  1.0\n",
       "2  1.0  1.0  1.0\n",
       "3  1.0  NaN  NaN\n",
       "4  1.0  NaN  1.0\n",
       "5  1.0  NaN  1.0\n",
       "6  1.0  1.0  1.0"
      ]
     },
     "execution_count": 44,
     "metadata": {},
     "output_type": "execute_result"
    }
   ],
   "source": [
    "df_islimit"
   ]
  },
  {
   "cell_type": "code",
   "execution_count": 69,
   "metadata": {
    "collapsed": false
   },
   "outputs": [
    {
     "data": {
      "text/html": [
       "<div>\n",
       "<table border=\"1\" class=\"dataframe\">\n",
       "  <thead>\n",
       "    <tr style=\"text-align: right;\">\n",
       "      <th></th>\n",
       "      <th>A</th>\n",
       "      <th>B</th>\n",
       "      <th>C</th>\n",
       "    </tr>\n",
       "  </thead>\n",
       "  <tbody>\n",
       "    <tr>\n",
       "      <th>0</th>\n",
       "      <td>NaN</td>\n",
       "      <td>NaN</td>\n",
       "      <td>NaN</td>\n",
       "    </tr>\n",
       "    <tr>\n",
       "      <th>1</th>\n",
       "      <td>NaN</td>\n",
       "      <td>1.0</td>\n",
       "      <td>NaN</td>\n",
       "    </tr>\n",
       "    <tr>\n",
       "      <th>2</th>\n",
       "      <td>NaN</td>\n",
       "      <td>NaN</td>\n",
       "      <td>NaN</td>\n",
       "    </tr>\n",
       "    <tr>\n",
       "      <th>3</th>\n",
       "      <td>NaN</td>\n",
       "      <td>1.0</td>\n",
       "      <td>1.0</td>\n",
       "    </tr>\n",
       "    <tr>\n",
       "      <th>4</th>\n",
       "      <td>NaN</td>\n",
       "      <td>1.0</td>\n",
       "      <td>NaN</td>\n",
       "    </tr>\n",
       "    <tr>\n",
       "      <th>5</th>\n",
       "      <td>NaN</td>\n",
       "      <td>1.0</td>\n",
       "      <td>NaN</td>\n",
       "    </tr>\n",
       "    <tr>\n",
       "      <th>6</th>\n",
       "      <td>NaN</td>\n",
       "      <td>NaN</td>\n",
       "      <td>NaN</td>\n",
       "    </tr>\n",
       "  </tbody>\n",
       "</table>\n",
       "</div>"
      ],
      "text/plain": [
       "    A    B    C\n",
       "0 NaN  NaN  NaN\n",
       "1 NaN  1.0  NaN\n",
       "2 NaN  NaN  NaN\n",
       "3 NaN  1.0  1.0\n",
       "4 NaN  1.0  NaN\n",
       "5 NaN  1.0  NaN\n",
       "6 NaN  NaN  NaN"
      ]
     },
     "execution_count": 69,
     "metadata": {},
     "output_type": "execute_result"
    }
   ],
   "source": [
    "df_isupdown"
   ]
  },
  {
   "cell_type": "code",
   "execution_count": 68,
   "metadata": {
    "collapsed": false
   },
   "outputs": [
    {
     "data": {
      "text/html": [
       "<div>\n",
       "<table border=\"1\" class=\"dataframe\">\n",
       "  <thead>\n",
       "    <tr style=\"text-align: right;\">\n",
       "      <th></th>\n",
       "      <th>A</th>\n",
       "      <th>B</th>\n",
       "      <th>C</th>\n",
       "    </tr>\n",
       "  </thead>\n",
       "  <tbody>\n",
       "    <tr>\n",
       "      <th>0</th>\n",
       "      <td>0.10</td>\n",
       "      <td>0.2</td>\n",
       "      <td>0.70</td>\n",
       "    </tr>\n",
       "    <tr>\n",
       "      <th>1</th>\n",
       "      <td>0.20</td>\n",
       "      <td>-0.1</td>\n",
       "      <td>0.70</td>\n",
       "    </tr>\n",
       "    <tr>\n",
       "      <th>2</th>\n",
       "      <td>0.60</td>\n",
       "      <td>NaN</td>\n",
       "      <td>0.10</td>\n",
       "    </tr>\n",
       "    <tr>\n",
       "      <th>3</th>\n",
       "      <td>-0.30</td>\n",
       "      <td>0.3</td>\n",
       "      <td>-0.40</td>\n",
       "    </tr>\n",
       "    <tr>\n",
       "      <th>4</th>\n",
       "      <td>0.25</td>\n",
       "      <td>0.5</td>\n",
       "      <td>-0.25</td>\n",
       "    </tr>\n",
       "    <tr>\n",
       "      <th>5</th>\n",
       "      <td>0.50</td>\n",
       "      <td>NaN</td>\n",
       "      <td>-0.50</td>\n",
       "    </tr>\n",
       "    <tr>\n",
       "      <th>6</th>\n",
       "      <td>0.50</td>\n",
       "      <td>NaN</td>\n",
       "      <td>-0.50</td>\n",
       "    </tr>\n",
       "    <tr>\n",
       "      <th>7</th>\n",
       "      <td>0.30</td>\n",
       "      <td>0.4</td>\n",
       "      <td>-0.30</td>\n",
       "    </tr>\n",
       "  </tbody>\n",
       "</table>\n",
       "</div>"
      ],
      "text/plain": [
       "      A    B     C\n",
       "0  0.10  0.2  0.70\n",
       "1  0.20 -0.1  0.70\n",
       "2  0.60  NaN  0.10\n",
       "3 -0.30  0.3 -0.40\n",
       "4  0.25  0.5 -0.25\n",
       "5  0.50  NaN -0.50\n",
       "6  0.50  NaN -0.50\n",
       "7  0.30  0.4 -0.30"
      ]
     },
     "execution_count": 68,
     "metadata": {},
     "output_type": "execute_result"
    }
   ],
   "source": [
    "df_weight"
   ]
  },
  {
   "cell_type": "code",
   "execution_count": 144,
   "metadata": {
    "collapsed": false
   },
   "outputs": [
    {
     "data": {
      "text/html": [
       "<div>\n",
       "<table border=\"1\" class=\"dataframe\">\n",
       "  <thead>\n",
       "    <tr style=\"text-align: right;\">\n",
       "      <th></th>\n",
       "      <th>A</th>\n",
       "      <th>B</th>\n",
       "      <th>C</th>\n",
       "    </tr>\n",
       "  </thead>\n",
       "  <tbody>\n",
       "    <tr>\n",
       "      <th>0</th>\n",
       "      <td>0.100000</td>\n",
       "      <td>0.2</td>\n",
       "      <td>0.700000</td>\n",
       "    </tr>\n",
       "    <tr>\n",
       "      <th>1</th>\n",
       "      <td>0.177778</td>\n",
       "      <td>0.2</td>\n",
       "      <td>0.622222</td>\n",
       "    </tr>\n",
       "    <tr>\n",
       "      <th>2</th>\n",
       "      <td>0.857143</td>\n",
       "      <td>0.0</td>\n",
       "      <td>0.142857</td>\n",
       "    </tr>\n",
       "    <tr>\n",
       "      <th>3</th>\n",
       "      <td>-0.857143</td>\n",
       "      <td>0.0</td>\n",
       "      <td>0.142857</td>\n",
       "    </tr>\n",
       "    <tr>\n",
       "      <th>4</th>\n",
       "      <td>0.500000</td>\n",
       "      <td>0.0</td>\n",
       "      <td>-0.500000</td>\n",
       "    </tr>\n",
       "    <tr>\n",
       "      <th>5</th>\n",
       "      <td>0.500000</td>\n",
       "      <td>0.0</td>\n",
       "      <td>-0.500000</td>\n",
       "    </tr>\n",
       "    <tr>\n",
       "      <th>6</th>\n",
       "      <td>0.500000</td>\n",
       "      <td>0.0</td>\n",
       "      <td>-0.500000</td>\n",
       "    </tr>\n",
       "    <tr>\n",
       "      <th>7</th>\n",
       "      <td>0.300000</td>\n",
       "      <td>0.4</td>\n",
       "      <td>-0.300000</td>\n",
       "    </tr>\n",
       "  </tbody>\n",
       "</table>\n",
       "</div>"
      ],
      "text/plain": [
       "          A    B         C\n",
       "0  0.100000  0.2  0.700000\n",
       "1  0.177778  0.2  0.622222\n",
       "2  0.857143  0.0  0.142857\n",
       "3 -0.857143  0.0  0.142857\n",
       "4  0.500000  0.0 -0.500000\n",
       "5  0.500000  0.0 -0.500000\n",
       "6  0.500000  0.0 -0.500000\n",
       "7  0.300000  0.4 -0.300000"
      ]
     },
     "execution_count": 144,
     "metadata": {},
     "output_type": "execute_result"
    }
   ],
   "source": [
    "df_weight_final"
   ]
  },
  {
   "cell_type": "code",
   "execution_count": 56,
   "metadata": {
    "collapsed": false
   },
   "outputs": [
    {
     "data": {
      "text/html": [
       "<div>\n",
       "<table border=\"1\" class=\"dataframe\">\n",
       "  <thead>\n",
       "    <tr style=\"text-align: right;\">\n",
       "      <th></th>\n",
       "      <th>A</th>\n",
       "      <th>B</th>\n",
       "      <th>C</th>\n",
       "    </tr>\n",
       "  </thead>\n",
       "  <tbody>\n",
       "    <tr>\n",
       "      <th>0</th>\n",
       "      <td>NaN</td>\n",
       "      <td>0.2</td>\n",
       "      <td>NaN</td>\n",
       "    </tr>\n",
       "    <tr>\n",
       "      <th>1</th>\n",
       "      <td>NaN</td>\n",
       "      <td>NaN</td>\n",
       "      <td>NaN</td>\n",
       "    </tr>\n",
       "    <tr>\n",
       "      <th>2</th>\n",
       "      <td>NaN</td>\n",
       "      <td>0.0</td>\n",
       "      <td>0.1</td>\n",
       "    </tr>\n",
       "    <tr>\n",
       "      <th>3</th>\n",
       "      <td>NaN</td>\n",
       "      <td>NaN</td>\n",
       "      <td>NaN</td>\n",
       "    </tr>\n",
       "    <tr>\n",
       "      <th>4</th>\n",
       "      <td>NaN</td>\n",
       "      <td>NaN</td>\n",
       "      <td>NaN</td>\n",
       "    </tr>\n",
       "    <tr>\n",
       "      <th>5</th>\n",
       "      <td>NaN</td>\n",
       "      <td>NaN</td>\n",
       "      <td>NaN</td>\n",
       "    </tr>\n",
       "    <tr>\n",
       "      <th>6</th>\n",
       "      <td>NaN</td>\n",
       "      <td>NaN</td>\n",
       "      <td>NaN</td>\n",
       "    </tr>\n",
       "  </tbody>\n",
       "</table>\n",
       "</div>"
      ],
      "text/plain": [
       "    A    B    C\n",
       "0 NaN  0.2  NaN\n",
       "1 NaN  NaN  NaN\n",
       "2 NaN  0.0  0.1\n",
       "3 NaN  NaN  NaN\n",
       "4 NaN  NaN  NaN\n",
       "5 NaN  NaN  NaN\n",
       "6 NaN  NaN  NaN"
      ]
     },
     "execution_count": 56,
     "metadata": {},
     "output_type": "execute_result"
    }
   ],
   "source": [
    "df_isupdown_weight*df_islimit"
   ]
  },
  {
   "cell_type": "code",
   "execution_count": 58,
   "metadata": {
    "collapsed": false
   },
   "outputs": [
    {
     "data": {
      "text/html": [
       "<div>\n",
       "<table border=\"1\" class=\"dataframe\">\n",
       "  <thead>\n",
       "    <tr style=\"text-align: right;\">\n",
       "      <th></th>\n",
       "      <th>A</th>\n",
       "      <th>B</th>\n",
       "      <th>C</th>\n",
       "    </tr>\n",
       "  </thead>\n",
       "  <tbody>\n",
       "    <tr>\n",
       "      <th>0</th>\n",
       "      <td>NaN</td>\n",
       "      <td>0.0</td>\n",
       "      <td>NaN</td>\n",
       "    </tr>\n",
       "    <tr>\n",
       "      <th>1</th>\n",
       "      <td>NaN</td>\n",
       "      <td>0.2</td>\n",
       "      <td>NaN</td>\n",
       "    </tr>\n",
       "    <tr>\n",
       "      <th>2</th>\n",
       "      <td>NaN</td>\n",
       "      <td>0.0</td>\n",
       "      <td>0.0</td>\n",
       "    </tr>\n",
       "    <tr>\n",
       "      <th>3</th>\n",
       "      <td>NaN</td>\n",
       "      <td>0.0</td>\n",
       "      <td>0.1</td>\n",
       "    </tr>\n",
       "    <tr>\n",
       "      <th>4</th>\n",
       "      <td>NaN</td>\n",
       "      <td>0.0</td>\n",
       "      <td>NaN</td>\n",
       "    </tr>\n",
       "    <tr>\n",
       "      <th>5</th>\n",
       "      <td>NaN</td>\n",
       "      <td>0.0</td>\n",
       "      <td>NaN</td>\n",
       "    </tr>\n",
       "    <tr>\n",
       "      <th>6</th>\n",
       "      <td>NaN</td>\n",
       "      <td>NaN</td>\n",
       "      <td>NaN</td>\n",
       "    </tr>\n",
       "  </tbody>\n",
       "</table>\n",
       "</div>"
      ],
      "text/plain": [
       "    A    B    C\n",
       "0 NaN  0.0  NaN\n",
       "1 NaN  0.2  NaN\n",
       "2 NaN  0.0  0.0\n",
       "3 NaN  0.0  0.1\n",
       "4 NaN  0.0  NaN\n",
       "5 NaN  0.0  NaN\n",
       "6 NaN  NaN  NaN"
      ]
     },
     "execution_count": 58,
     "metadata": {},
     "output_type": "execute_result"
    }
   ],
   "source": [
    "((df_isupdown_weight*df_islimit).fillna(1)*df_islimit).ffill().replace(1.,np.nan) - (df_isupdown_weight*df_islimit).fillna(0)"
   ]
  },
  {
   "cell_type": "code",
   "execution_count": 27,
   "metadata": {
    "collapsed": false
   },
   "outputs": [
    {
     "data": {
      "text/html": [
       "<div>\n",
       "<table border=\"1\" class=\"dataframe\">\n",
       "  <thead>\n",
       "    <tr style=\"text-align: right;\">\n",
       "      <th></th>\n",
       "      <th>A</th>\n",
       "      <th>B</th>\n",
       "      <th>C</th>\n",
       "    </tr>\n",
       "  </thead>\n",
       "  <tbody>\n",
       "    <tr>\n",
       "      <th>0</th>\n",
       "      <td>1.0</td>\n",
       "      <td>1.0</td>\n",
       "      <td>1.0</td>\n",
       "    </tr>\n",
       "    <tr>\n",
       "      <th>1</th>\n",
       "      <td>1.0</td>\n",
       "      <td>NaN</td>\n",
       "      <td>1.0</td>\n",
       "    </tr>\n",
       "    <tr>\n",
       "      <th>2</th>\n",
       "      <td>1.0</td>\n",
       "      <td>1.0</td>\n",
       "      <td>1.0</td>\n",
       "    </tr>\n",
       "    <tr>\n",
       "      <th>3</th>\n",
       "      <td>1.0</td>\n",
       "      <td>NaN</td>\n",
       "      <td>NaN</td>\n",
       "    </tr>\n",
       "    <tr>\n",
       "      <th>4</th>\n",
       "      <td>1.0</td>\n",
       "      <td>NaN</td>\n",
       "      <td>1.0</td>\n",
       "    </tr>\n",
       "    <tr>\n",
       "      <th>5</th>\n",
       "      <td>1.0</td>\n",
       "      <td>NaN</td>\n",
       "      <td>1.0</td>\n",
       "    </tr>\n",
       "    <tr>\n",
       "      <th>6</th>\n",
       "      <td>1.0</td>\n",
       "      <td>1.0</td>\n",
       "      <td>1.0</td>\n",
       "    </tr>\n",
       "  </tbody>\n",
       "</table>\n",
       "</div>"
      ],
      "text/plain": [
       "     A    B    C\n",
       "0  1.0  1.0  1.0\n",
       "1  1.0  NaN  1.0\n",
       "2  1.0  1.0  1.0\n",
       "3  1.0  NaN  NaN\n",
       "4  1.0  NaN  1.0\n",
       "5  1.0  NaN  1.0\n",
       "6  1.0  1.0  1.0"
      ]
     },
     "execution_count": 27,
     "metadata": {},
     "output_type": "execute_result"
    }
   ],
   "source": [
    "df_islimit"
   ]
  },
  {
   "cell_type": "code",
   "execution_count": 25,
   "metadata": {
    "collapsed": false
   },
   "outputs": [
    {
     "data": {
      "text/html": [
       "<div>\n",
       "<table border=\"1\" class=\"dataframe\">\n",
       "  <thead>\n",
       "    <tr style=\"text-align: right;\">\n",
       "      <th></th>\n",
       "      <th>A</th>\n",
       "      <th>B</th>\n",
       "      <th>C</th>\n",
       "    </tr>\n",
       "  </thead>\n",
       "  <tbody>\n",
       "    <tr>\n",
       "      <th>0</th>\n",
       "      <td>NaN</td>\n",
       "      <td>0.0</td>\n",
       "      <td>NaN</td>\n",
       "    </tr>\n",
       "    <tr>\n",
       "      <th>1</th>\n",
       "      <td>NaN</td>\n",
       "      <td>0.2</td>\n",
       "      <td>NaN</td>\n",
       "    </tr>\n",
       "    <tr>\n",
       "      <th>2</th>\n",
       "      <td>NaN</td>\n",
       "      <td>NaN</td>\n",
       "      <td>0.0</td>\n",
       "    </tr>\n",
       "    <tr>\n",
       "      <th>3</th>\n",
       "      <td>NaN</td>\n",
       "      <td>NaN</td>\n",
       "      <td>0.1</td>\n",
       "    </tr>\n",
       "    <tr>\n",
       "      <th>4</th>\n",
       "      <td>NaN</td>\n",
       "      <td>NaN</td>\n",
       "      <td>NaN</td>\n",
       "    </tr>\n",
       "    <tr>\n",
       "      <th>5</th>\n",
       "      <td>NaN</td>\n",
       "      <td>NaN</td>\n",
       "      <td>NaN</td>\n",
       "    </tr>\n",
       "    <tr>\n",
       "      <th>6</th>\n",
       "      <td>NaN</td>\n",
       "      <td>NaN</td>\n",
       "      <td>NaN</td>\n",
       "    </tr>\n",
       "  </tbody>\n",
       "</table>\n",
       "</div>"
      ],
      "text/plain": [
       "    A    B    C\n",
       "0 NaN  0.0  NaN\n",
       "1 NaN  0.2  NaN\n",
       "2 NaN  NaN  0.0\n",
       "3 NaN  NaN  0.1\n",
       "4 NaN  NaN  NaN\n",
       "5 NaN  NaN  NaN\n",
       "6 NaN  NaN  NaN"
      ]
     },
     "execution_count": 25,
     "metadata": {},
     "output_type": "execute_result"
    }
   ],
   "source": [
    "df_weight_limitday"
   ]
  },
  {
   "cell_type": "code",
   "execution_count": 23,
   "metadata": {
    "collapsed": false
   },
   "outputs": [
    {
     "data": {
      "text/html": [
       "<div>\n",
       "<table border=\"1\" class=\"dataframe\">\n",
       "  <thead>\n",
       "    <tr style=\"text-align: right;\">\n",
       "      <th></th>\n",
       "      <th>A</th>\n",
       "      <th>B</th>\n",
       "      <th>C</th>\n",
       "    </tr>\n",
       "  </thead>\n",
       "  <tbody>\n",
       "    <tr>\n",
       "      <th>0</th>\n",
       "      <td>NaN</td>\n",
       "      <td>0.2</td>\n",
       "      <td>NaN</td>\n",
       "    </tr>\n",
       "    <tr>\n",
       "      <th>1</th>\n",
       "      <td>NaN</td>\n",
       "      <td>NaN</td>\n",
       "      <td>NaN</td>\n",
       "    </tr>\n",
       "    <tr>\n",
       "      <th>2</th>\n",
       "      <td>NaN</td>\n",
       "      <td>NaN</td>\n",
       "      <td>0.1</td>\n",
       "    </tr>\n",
       "    <tr>\n",
       "      <th>3</th>\n",
       "      <td>NaN</td>\n",
       "      <td>0.3</td>\n",
       "      <td>NaN</td>\n",
       "    </tr>\n",
       "    <tr>\n",
       "      <th>4</th>\n",
       "      <td>NaN</td>\n",
       "      <td>0.5</td>\n",
       "      <td>NaN</td>\n",
       "    </tr>\n",
       "    <tr>\n",
       "      <th>5</th>\n",
       "      <td>NaN</td>\n",
       "      <td>NaN</td>\n",
       "      <td>NaN</td>\n",
       "    </tr>\n",
       "    <tr>\n",
       "      <th>6</th>\n",
       "      <td>NaN</td>\n",
       "      <td>NaN</td>\n",
       "      <td>NaN</td>\n",
       "    </tr>\n",
       "  </tbody>\n",
       "</table>\n",
       "</div>"
      ],
      "text/plain": [
       "    A    B    C\n",
       "0 NaN  0.2  NaN\n",
       "1 NaN  NaN  NaN\n",
       "2 NaN  NaN  0.1\n",
       "3 NaN  0.3  NaN\n",
       "4 NaN  0.5  NaN\n",
       "5 NaN  NaN  NaN\n",
       "6 NaN  NaN  NaN"
      ]
     },
     "execution_count": 23,
     "metadata": {},
     "output_type": "execute_result"
    }
   ],
   "source": [
    "df_isupdown_weight"
   ]
  },
  {
   "cell_type": "code",
   "execution_count": 60,
   "metadata": {
    "collapsed": false
   },
   "outputs": [
    {
     "data": {
      "text/html": [
       "<div>\n",
       "<table border=\"1\" class=\"dataframe\">\n",
       "  <thead>\n",
       "    <tr style=\"text-align: right;\">\n",
       "      <th></th>\n",
       "      <th>A</th>\n",
       "      <th>B</th>\n",
       "      <th>C</th>\n",
       "    </tr>\n",
       "  </thead>\n",
       "  <tbody>\n",
       "    <tr>\n",
       "      <th>0</th>\n",
       "      <td>0.100000</td>\n",
       "      <td>0.2</td>\n",
       "      <td>0.700000</td>\n",
       "    </tr>\n",
       "    <tr>\n",
       "      <th>1</th>\n",
       "      <td>0.177778</td>\n",
       "      <td>0.2</td>\n",
       "      <td>0.622222</td>\n",
       "    </tr>\n",
       "    <tr>\n",
       "      <th>2</th>\n",
       "      <td>0.857143</td>\n",
       "      <td>0.0</td>\n",
       "      <td>0.142857</td>\n",
       "    </tr>\n",
       "    <tr>\n",
       "      <th>3</th>\n",
       "      <td>-0.900000</td>\n",
       "      <td>0.0</td>\n",
       "      <td>0.100000</td>\n",
       "    </tr>\n",
       "    <tr>\n",
       "      <th>4</th>\n",
       "      <td>0.500000</td>\n",
       "      <td>0.0</td>\n",
       "      <td>-0.500000</td>\n",
       "    </tr>\n",
       "    <tr>\n",
       "      <th>5</th>\n",
       "      <td>0.500000</td>\n",
       "      <td>0.0</td>\n",
       "      <td>-0.500000</td>\n",
       "    </tr>\n",
       "    <tr>\n",
       "      <th>6</th>\n",
       "      <td>0.500000</td>\n",
       "      <td>0.0</td>\n",
       "      <td>-0.500000</td>\n",
       "    </tr>\n",
       "  </tbody>\n",
       "</table>\n",
       "</div>"
      ],
      "text/plain": [
       "          A    B         C\n",
       "0  0.100000  0.2  0.700000\n",
       "1  0.177778  0.2  0.622222\n",
       "2  0.857143  0.0  0.142857\n",
       "3 -0.900000  0.0  0.100000\n",
       "4  0.500000  0.0 -0.500000\n",
       "5  0.500000  0.0 -0.500000\n",
       "6  0.500000  0.0 -0.500000"
      ]
     },
     "execution_count": 60,
     "metadata": {},
     "output_type": "execute_result"
    }
   ],
   "source": [
    "df_weight_final"
   ]
  },
  {
   "cell_type": "code",
   "execution_count": 17,
   "metadata": {
    "collapsed": false
   },
   "outputs": [
    {
     "data": {
      "text/html": [
       "<div>\n",
       "<table border=\"1\" class=\"dataframe\">\n",
       "  <thead>\n",
       "    <tr style=\"text-align: right;\">\n",
       "      <th></th>\n",
       "      <th>A</th>\n",
       "      <th>B</th>\n",
       "      <th>C</th>\n",
       "    </tr>\n",
       "  </thead>\n",
       "  <tbody>\n",
       "    <tr>\n",
       "      <th>0</th>\n",
       "      <td>NaN</td>\n",
       "      <td>0.0</td>\n",
       "      <td>NaN</td>\n",
       "    </tr>\n",
       "    <tr>\n",
       "      <th>1</th>\n",
       "      <td>NaN</td>\n",
       "      <td>0.2</td>\n",
       "      <td>NaN</td>\n",
       "    </tr>\n",
       "    <tr>\n",
       "      <th>2</th>\n",
       "      <td>NaN</td>\n",
       "      <td>NaN</td>\n",
       "      <td>0.0</td>\n",
       "    </tr>\n",
       "    <tr>\n",
       "      <th>3</th>\n",
       "      <td>NaN</td>\n",
       "      <td>NaN</td>\n",
       "      <td>0.1</td>\n",
       "    </tr>\n",
       "    <tr>\n",
       "      <th>4</th>\n",
       "      <td>NaN</td>\n",
       "      <td>NaN</td>\n",
       "      <td>NaN</td>\n",
       "    </tr>\n",
       "    <tr>\n",
       "      <th>5</th>\n",
       "      <td>NaN</td>\n",
       "      <td>NaN</td>\n",
       "      <td>NaN</td>\n",
       "    </tr>\n",
       "    <tr>\n",
       "      <th>6</th>\n",
       "      <td>NaN</td>\n",
       "      <td>NaN</td>\n",
       "      <td>NaN</td>\n",
       "    </tr>\n",
       "  </tbody>\n",
       "</table>\n",
       "</div>"
      ],
      "text/plain": [
       "    A    B    C\n",
       "0 NaN  0.0  NaN\n",
       "1 NaN  0.2  NaN\n",
       "2 NaN  NaN  0.0\n",
       "3 NaN  NaN  0.1\n",
       "4 NaN  NaN  NaN\n",
       "5 NaN  NaN  NaN\n",
       "6 NaN  NaN  NaN"
      ]
     },
     "execution_count": 17,
     "metadata": {},
     "output_type": "execute_result"
    }
   ],
   "source": [
    "df_weight_limitday"
   ]
  },
  {
   "cell_type": "code",
   "execution_count": 7,
   "metadata": {
    "collapsed": false
   },
   "outputs": [
    {
     "ename": "NameError",
     "evalue": "name 'updownlimit' is not defined",
     "output_type": "error",
     "traceback": [
      "\u001b[0;31m\u001b[0m",
      "\u001b[0;31mNameError\u001b[0mTraceback (most recent call last)",
      "\u001b[0;32m<ipython-input-7-5c545a68357c>\u001b[0m in \u001b[0;36m<module>\u001b[0;34m()\u001b[0m\n\u001b[0;32m----> 1\u001b[0;31m \u001b[0mdf\u001b[0m \u001b[0;34m=\u001b[0m \u001b[0mupdownlimit\u001b[0m\u001b[0;34m(\u001b[0m\u001b[0mdf_price_pct\u001b[0m\u001b[0;34m,\u001b[0m\u001b[0mdf_weight\u001b[0m\u001b[0;34m)\u001b[0m\u001b[0;34m\u001b[0m\u001b[0m\n\u001b[0m\u001b[1;32m      2\u001b[0m \u001b[0;32mprint\u001b[0m \u001b[0mabs\u001b[0m\u001b[0;34m(\u001b[0m\u001b[0mdf\u001b[0m\u001b[0;34m)\u001b[0m\u001b[0;34m.\u001b[0m\u001b[0msum\u001b[0m\u001b[0;34m(\u001b[0m\u001b[0;36m1\u001b[0m\u001b[0;34m)\u001b[0m\u001b[0;34m\u001b[0m\u001b[0m\n",
      "\u001b[0;31mNameError\u001b[0m: name 'updownlimit' is not defined"
     ]
    }
   ],
   "source": [
    "df = updownlimit(df_price_pct,df_weight)\n",
    "print abs(df).sum(1)"
   ]
  },
  {
   "cell_type": "code",
   "execution_count": null,
   "metadata": {
    "collapsed": true
   },
   "outputs": [],
   "source": []
  },
  {
   "cell_type": "code",
   "execution_count": 11,
   "metadata": {
    "collapsed": false
   },
   "outputs": [
    {
     "name": "stdout",
     "output_type": "stream",
     "text": [
      "     A    B    C\n",
      "0  1.0  1.0  1.0\n",
      "1  1.0  1.0  1.0\n",
      "2  1.0  NaN  1.0\n",
      "3  1.0  NaN  1.0\n"
     ]
    }
   ],
   "source": [
    "df_isnotlimit = (~(abs(df_price_pct) > 0.097)).astype(\"float32\").replace(0.,np.nan) # 当天涨跌停为nan，其它为1\n",
    "print df_isnotlimit"
   ]
  },
  {
   "cell_type": "code",
   "execution_count": 12,
   "metadata": {
    "collapsed": false
   },
   "outputs": [
    {
     "name": "stdout",
     "output_type": "stream",
     "text": [
      "    A    B   C\n",
      "0 NaN  NaN NaN\n",
      "1 NaN  NaN NaN\n",
      "2 NaN  1.0 NaN\n",
      "3 NaN  1.0 NaN\n"
     ]
    }
   ],
   "source": [
    "df_islimit = ((abs(df_price_pct) > 0.097)).astype(\"float32\").replace(0.,np.nan) # 当天涨跌停为1，其它为nan\n",
    "print df_islimit"
   ]
  },
  {
   "cell_type": "code",
   "execution_count": 13,
   "metadata": {
    "collapsed": false
   },
   "outputs": [
    {
     "name": "stdout",
     "output_type": "stream",
     "text": [
      "    A    B   C\n",
      "0 NaN  NaN NaN\n",
      "1 NaN  0.1 NaN\n",
      "2 NaN  0.3 NaN\n",
      "3 NaN  NaN NaN\n"
     ]
    }
   ],
   "source": [
    "df_isupdown_weight = df_islimit.shift(-1)*df_weight              # 涨跌停前一天的权值\n",
    "print df_isupdown_weight"
   ]
  },
  {
   "cell_type": "code",
   "execution_count": 24,
   "metadata": {
    "collapsed": false
   },
   "outputs": [
    {
     "name": "stdout",
     "output_type": "stream",
     "text": [
      "     A    B    C\n",
      "0  0.1  0.2  0.7\n",
      "1  0.2  0.1  0.7\n",
      "2  0.6  0.0  0.1\n",
      "3  0.3  0.0  0.4\n"
     ]
    }
   ],
   "source": [
    "df_weight_outlimit = (df_isnotlimit*df_weight).fillna(0)                                  #原始权值抛去涨跌停的权值\n",
    "abs(df_weight_outlimit).sum(1)\n",
    "\n",
    "print df_weight_outlimit"
   ]
  },
  {
   "cell_type": "code",
   "execution_count": 15,
   "metadata": {
    "collapsed": false
   },
   "outputs": [
    {
     "name": "stdout",
     "output_type": "stream",
     "text": [
      "    A    B   C\n",
      "0 NaN  NaN NaN\n",
      "1 NaN  0.0 NaN\n",
      "2 NaN  0.1 NaN\n",
      "3 NaN  0.1 NaN\n"
     ]
    }
   ],
   "source": [
    "df_weight_limitday = ((df_isupdown_weight*df_isnotlimit).fillna(1)*df_isnotlimit).ffill().replace(1.,np.nan) - (df_isnotlimit*df_weight).fillna(0)#替换完成，最终的涨跌停当天的权值\n",
    "print df_weight_limitday "
   ]
  },
  {
   "cell_type": "code",
   "execution_count": 19,
   "metadata": {
    "collapsed": false
   },
   "outputs": [
    {
     "data": {
      "text/plain": [
       "0    1.0\n",
       "1    1.0\n",
       "2    0.9\n",
       "3    0.9\n",
       "dtype: float64"
      ]
     },
     "execution_count": 19,
     "metadata": {},
     "output_type": "execute_result"
    }
   ],
   "source": [
    "1-abs(df_weight_limitday).sum(1)"
   ]
  },
  {
   "cell_type": "code",
   "execution_count": 25,
   "metadata": {
    "collapsed": false
   },
   "outputs": [
    {
     "data": {
      "text/plain": [
       "0    1.0\n",
       "1    1.0\n",
       "2    0.7\n",
       "3    0.7\n",
       "dtype: float64"
      ]
     },
     "execution_count": 25,
     "metadata": {},
     "output_type": "execute_result"
    }
   ],
   "source": [
    "abs(df_weight_outlimit).sum(1)"
   ]
  },
  {
   "cell_type": "code",
   "execution_count": 29,
   "metadata": {
    "collapsed": false
   },
   "outputs": [
    {
     "name": "stdout",
     "output_type": "stream",
     "text": [
      "          A    B         C\n",
      "0  0.100000  0.2  0.700000\n",
      "1  0.200000  0.1  0.700000\n",
      "2  0.771429  0.0  0.128571\n",
      "3  0.385714  0.0  0.514286\n"
     ]
    }
   ],
   "source": [
    "# sr_weight_sum_perday = 1-abs(df_weight_limitday).sum(1)\n",
    "sr_weight_sum_perday = abs(df_weight_outlimit).sum(1)\n",
    "df_weight_outlimit = df_weight_outlimit.div(sr_weight_sum_perday.values,axis=0)\n",
    "df_weight_outlimit = df_weight_outlimit.mul(1-abs(df_weight_limitday).sum(1),axis=0)\n",
    "print df_weight_outlimit"
   ]
  },
  {
   "cell_type": "code",
   "execution_count": 30,
   "metadata": {
    "collapsed": false
   },
   "outputs": [
    {
     "name": "stdout",
     "output_type": "stream",
     "text": [
      "          A    B         C\n",
      "0  0.100000  0.2  0.700000\n",
      "1  0.200000  0.1  0.700000\n",
      "2  0.771429  0.1  0.128571\n",
      "3  0.385714  0.1  0.514286\n"
     ]
    }
   ],
   "source": [
    "df_weight_final = df_weight_outlimit + df_weight_limitday.fillna(0)\n",
    "print df_weight_final"
   ]
  },
  {
   "cell_type": "code",
   "execution_count": 31,
   "metadata": {
    "collapsed": false
   },
   "outputs": [
    {
     "data": {
      "text/plain": [
       "0    1.0\n",
       "1    1.0\n",
       "2    1.0\n",
       "3    1.0\n",
       "dtype: float64"
      ]
     },
     "execution_count": 31,
     "metadata": {},
     "output_type": "execute_result"
    }
   ],
   "source": [
    "df_weight_final.sum(1)"
   ]
  },
  {
   "cell_type": "code",
   "execution_count": null,
   "metadata": {
    "collapsed": true
   },
   "outputs": [],
   "source": []
  },
  {
   "cell_type": "code",
   "execution_count": null,
   "metadata": {
    "collapsed": true
   },
   "outputs": [],
   "source": []
  },
  {
   "cell_type": "code",
   "execution_count": 51,
   "metadata": {
    "collapsed": false
   },
   "outputs": [
    {
     "data": {
      "text/html": [
       "<div>\n",
       "<table border=\"1\" class=\"dataframe\">\n",
       "  <thead>\n",
       "    <tr style=\"text-align: right;\">\n",
       "      <th></th>\n",
       "      <th>A</th>\n",
       "      <th>B</th>\n",
       "      <th>C</th>\n",
       "    </tr>\n",
       "  </thead>\n",
       "  <tbody>\n",
       "    <tr>\n",
       "      <th>0</th>\n",
       "      <td>0.1</td>\n",
       "      <td>0.2</td>\n",
       "      <td>0.7</td>\n",
       "    </tr>\n",
       "    <tr>\n",
       "      <th>1</th>\n",
       "      <td>0.2</td>\n",
       "      <td>0.2</td>\n",
       "      <td>0.7</td>\n",
       "    </tr>\n",
       "    <tr>\n",
       "      <th>2</th>\n",
       "      <td>0.6</td>\n",
       "      <td>0.2</td>\n",
       "      <td>0.1</td>\n",
       "    </tr>\n",
       "    <tr>\n",
       "      <th>3</th>\n",
       "      <td>0.3</td>\n",
       "      <td>0.2</td>\n",
       "      <td>0.4</td>\n",
       "    </tr>\n",
       "  </tbody>\n",
       "</table>\n",
       "</div>"
      ],
      "text/plain": [
       "     A    B    C\n",
       "0  0.1  0.2  0.7\n",
       "1  0.2  0.2  0.7\n",
       "2  0.6  0.2  0.1\n",
       "3  0.3  0.2  0.4"
      ]
     },
     "execution_count": 51,
     "metadata": {},
     "output_type": "execute_result"
    }
   ],
   "source": [
    "updownlimit(df_price,df_weight)"
   ]
  },
  {
   "cell_type": "code",
   "execution_count": null,
   "metadata": {
    "collapsed": true
   },
   "outputs": [],
   "source": []
  },
  {
   "cell_type": "code",
   "execution_count": null,
   "metadata": {
    "collapsed": true
   },
   "outputs": [],
   "source": []
  }
 ],
 "metadata": {
  "kernelspec": {
   "display_name": "Python 2",
   "language": "python",
   "name": "python2"
  },
  "language_info": {
   "codemirror_mode": {
    "name": "ipython",
    "version": 2
   },
   "file_extension": ".py",
   "mimetype": "text/x-python",
   "name": "python",
   "nbconvert_exporter": "python",
   "pygments_lexer": "ipython2",
   "version": "2.7.13"
  }
 },
 "nbformat": 4,
 "nbformat_minor": 2
}
