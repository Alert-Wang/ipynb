{
 "cells": [
  {
   "cell_type": "code",
   "execution_count": 19,
   "metadata": {
    "collapsed": true
   },
   "outputs": [],
   "source": [
    "import pandas as pd\n",
    "import numpy as np\n",
    "from scipy.ndimage.interpolation import shift"
   ]
  },
  {
   "cell_type": "code",
   "execution_count": 20,
   "metadata": {
    "collapsed": true
   },
   "outputs": [],
   "source": [
    "def updownlimit(df_nowprice_pct,df_weight):\n",
    "    '''\n",
    "    INPUT:\n",
    "    df_nowprice_pct:为当前时间点的价格相较于昨日收盘价的涨跌幅，如现在为10:30，则为10:30_price - precloseprice\n",
    "    df_weight：当日交易的目标权重，如今日想要半仓买入某只股票，则当日的weight为0.5，做空反之\n",
    "    OUTPUT:\n",
    "    df_weight_final 考虑了当前时间点由于涨跌停限制买不进去情况下的最终权重，其中不能换仓的资产延续上一个交易日的权重\n",
    "    '''\n",
    "    # TODO 写成 numpy\n",
    "    # TODO 类型检验\n",
    "    if df_nowprice_pct.shape != df_weight.shape:\n",
    "        raise TypeError(\"input data must has same dims.\")\n",
    "    df_islimit = (~((abs(df_nowprice_pct) > 0.097) or ppp)).astype(\"float32\").replace(0.,np.nan) # 当天涨跌停为nan，其它为1\n",
    "    df_isupdown = ((abs(df_nowprice_pct) > 0.097)).astype(\"float32\").replace(0.,np.nan) # 当天涨跌停为1，其它为nan\n",
    "    df_isupdown_weight = df_isupdown.shift(-1)*df_weight              # 涨跌停前一天的权值\n",
    "\n",
    "    df_weight_outlimit = (df_islimit*df_weight).fillna(0)                                  #原始权值抛去涨跌停的权值\n",
    "\n",
    "    df_weight_limitday = ((df_isupdown_weight*df_islimit).fillna(1)*df_islimit).ffill().replace(1.,np.nan) - (df_islimit*df_weight).fillna(0)# 涨跌停当天的权值,按照前一个交易日的权重进行填充\n",
    "\n",
    "    sr_weight_sum_perday = abs(df_weight_outlimit).sum(1)\n",
    "    df_weight_outlimit = df_weight_outlimit.div(sr_weight_sum_perday.values,axis=0)\n",
    "    df_weight_outlimit = df_weight_outlimit.mul(1-abs(df_weight_limitday).sum(1),axis=0)#重新核算抛弃涨跌停权重后的各只股票的权重\n",
    "\n",
    "    df_weight_final = df_weight_outlimit + df_weight_limitday.fillna(0)\n",
    "    return df_weight_final"
   ]
  },
  {
   "cell_type": "code",
   "execution_count": 33,
   "metadata": {
    "collapsed": true
   },
   "outputs": [],
   "source": [
    "'''\n",
    "numpy version\n",
    "'''\n",
    "def updownlimit(df_nowprice_pct,df_weight):\n",
    "    '''\n",
    "    INPUT:\n",
    "    df_nowprice_pct:为当前时间点的价格相较于昨日收盘价的涨跌幅，如现在为10:30，则为10:30_price - precloseprice\n",
    "    df_weight：当日交易的目标权重，如今日想要半仓买入某只股票，则当日的weight为0.5，做空反之\n",
    "    OUTPUT:\n",
    "    df_weight_final 考虑了当前时间点由于涨跌停限制买不进去情况下的最终权重，其中不能换仓的资产延续上一个交易日的权重\n",
    "    '''\n",
    "    # TODO 写成 numpy\n",
    "    # TODO 类型检验\n",
    "    if df_nowprice_pct.shape != df_weight.shape:\n",
    "        raise TypeError(\"input data must has same dims.\")\n",
    "    df_islimit = (~(abs(df_nowprice_pct) > 0.097)).astype(\"float32\") # 当天涨跌停为nan，其它为1\n",
    "    df_islimit[df_islimit==0] = np.nan\n",
    "    df_isupdown = ((abs(df_nowprice_pct) > 0.097)).astype(\"float32\") # 当天涨跌停为1，其它为nan\n",
    "    df_isupdown[df_isupdown==0] = np.nan\n",
    "    df_isupdown_weight = df_isupdown.shift(-1)*df_weight              # 涨跌停前一天的权值\n",
    "\n",
    "    df_weight_outlimit = (df_islimit*df_weight).fillna(0)                                  #原始权值抛去涨跌停的权值\n",
    "\n",
    "    df_weight_limitday = ((df_isupdown_weight*df_islimit).fillna(1)*df_islimit).ffill().replace(1.,np.nan) - (df_islimit*df_weight).fillna(0)# 涨跌停当天的权值,按照前一个交易日的权重进行填充\n",
    "\n",
    "    sr_weight_sum_perday = abs(df_weight_outlimit).sum(1)\n",
    "    df_weight_outlimit = df_weight_outlimit.div(sr_weight_sum_perday.values,axis=0)\n",
    "    df_weight_outlimit = df_weight_outlimit.mul(1-abs(df_weight_limitday).sum(1),axis=0)#重新核算抛弃涨跌停权重后的各只股票的权重\n",
    "\n",
    "    df_weight_final = df_weight_outlimit + df_weight_limitday.fillna(0)\n",
    "    return df_weight_final"
   ]
  },
  {
   "cell_type": "code",
   "execution_count": 25,
   "metadata": {},
   "outputs": [
    {
     "name": "stdout",
     "output_type": "stream",
     "text": [
      "      A     B      C\n",
      "0  0.01  0.01  0.010\n",
      "1  0.05  0.10  0.010\n",
      "2  0.01  0.01  0.010\n",
      "3  0.01  0.10 -0.099\n",
      "4   NaN  0.01  0.010\n",
      "5   NaN  0.10  0.010\n",
      "6  0.01  0.01  0.010\n",
      "      A    B     C\n",
      "0  0.10  0.2  0.70\n",
      "1  0.20 -0.1  0.70\n",
      "2  0.60  NaN  0.10\n",
      "3 -0.30  0.3 -0.40\n",
      "4  0.25  0.5 -0.25\n",
      "5  0.50  NaN -0.50\n",
      "6  0.50  NaN -0.50\n"
     ]
    }
   ],
   "source": [
    "df_price_pct = pd.DataFrame([[0.01,0.01,0.01]\n",
    "                             ,[0.05,0.1,0.01]\n",
    "                             ,[0.01,0.01,0.01]\n",
    "                             ,[0.01,0.1,-0.099]\n",
    "                             ,[np.nan,0.01,0.01]\n",
    "                            ,[np.nan,0.1,0.01]\n",
    "                            ,[0.01,0.01,0.01]],columns=['A','B','C'])\n",
    "df_weight = pd.DataFrame([[0.1,0.2,0.7]\n",
    "                          ,[0.2,-0.1,0.7]\n",
    "                          ,[0.6,np.nan,0.1]\n",
    "                          ,[-0.3,0.3,-0.4]\n",
    "                          ,[0.25,0.5,-0.25]\n",
    "                         ,[0.5,np.nan,-0.5]\n",
    "                         ,[0.5,np.nan,-0.5]],columns=['A','B','C'])\n",
    "print df_price_pct\n",
    "print df_weight"
   ]
  },
  {
   "cell_type": "code",
   "execution_count": 26,
   "metadata": {},
   "outputs": [
    {
     "data": {
      "text/html": [
       "<div>\n",
       "<table border=\"1\" class=\"dataframe\">\n",
       "  <thead>\n",
       "    <tr style=\"text-align: right;\">\n",
       "      <th></th>\n",
       "      <th>A</th>\n",
       "      <th>B</th>\n",
       "      <th>C</th>\n",
       "    </tr>\n",
       "  </thead>\n",
       "  <tbody>\n",
       "    <tr>\n",
       "      <th>0</th>\n",
       "      <td>0.100000</td>\n",
       "      <td>0.2</td>\n",
       "      <td>0.700000</td>\n",
       "    </tr>\n",
       "    <tr>\n",
       "      <th>1</th>\n",
       "      <td>0.177778</td>\n",
       "      <td>0.2</td>\n",
       "      <td>0.622222</td>\n",
       "    </tr>\n",
       "    <tr>\n",
       "      <th>2</th>\n",
       "      <td>0.857143</td>\n",
       "      <td>0.0</td>\n",
       "      <td>0.142857</td>\n",
       "    </tr>\n",
       "    <tr>\n",
       "      <th>3</th>\n",
       "      <td>-0.900000</td>\n",
       "      <td>0.0</td>\n",
       "      <td>0.100000</td>\n",
       "    </tr>\n",
       "    <tr>\n",
       "      <th>4</th>\n",
       "      <td>0.250000</td>\n",
       "      <td>0.5</td>\n",
       "      <td>-0.250000</td>\n",
       "    </tr>\n",
       "    <tr>\n",
       "      <th>5</th>\n",
       "      <td>0.250000</td>\n",
       "      <td>0.5</td>\n",
       "      <td>-0.250000</td>\n",
       "    </tr>\n",
       "    <tr>\n",
       "      <th>6</th>\n",
       "      <td>0.500000</td>\n",
       "      <td>0.0</td>\n",
       "      <td>-0.500000</td>\n",
       "    </tr>\n",
       "  </tbody>\n",
       "</table>\n",
       "</div>"
      ],
      "text/plain": [
       "          A    B         C\n",
       "0  0.100000  0.2  0.700000\n",
       "1  0.177778  0.2  0.622222\n",
       "2  0.857143  0.0  0.142857\n",
       "3 -0.900000  0.0  0.100000\n",
       "4  0.250000  0.5 -0.250000\n",
       "5  0.250000  0.5 -0.250000\n",
       "6  0.500000  0.0 -0.500000"
      ]
     },
     "execution_count": 26,
     "metadata": {},
     "output_type": "execute_result"
    }
   ],
   "source": [
    "updownlimit(df_price_pct,df_weight)"
   ]
  },
  {
   "cell_type": "code",
   "execution_count": 7,
   "metadata": {},
   "outputs": [
    {
     "ename": "NameError",
     "evalue": "name 'updownlimit' is not defined",
     "output_type": "error",
     "traceback": [
      "\u001b[0;31m\u001b[0m",
      "\u001b[0;31mNameError\u001b[0mTraceback (most recent call last)",
      "\u001b[0;32m<ipython-input-7-5c545a68357c>\u001b[0m in \u001b[0;36m<module>\u001b[0;34m()\u001b[0m\n\u001b[0;32m----> 1\u001b[0;31m \u001b[0mdf\u001b[0m \u001b[0;34m=\u001b[0m \u001b[0mupdownlimit\u001b[0m\u001b[0;34m(\u001b[0m\u001b[0mdf_price_pct\u001b[0m\u001b[0;34m,\u001b[0m\u001b[0mdf_weight\u001b[0m\u001b[0;34m)\u001b[0m\u001b[0;34m\u001b[0m\u001b[0m\n\u001b[0m\u001b[1;32m      2\u001b[0m \u001b[0;32mprint\u001b[0m \u001b[0mabs\u001b[0m\u001b[0;34m(\u001b[0m\u001b[0mdf\u001b[0m\u001b[0;34m)\u001b[0m\u001b[0;34m.\u001b[0m\u001b[0msum\u001b[0m\u001b[0;34m(\u001b[0m\u001b[0;36m1\u001b[0m\u001b[0;34m)\u001b[0m\u001b[0;34m\u001b[0m\u001b[0m\n",
      "\u001b[0;31mNameError\u001b[0m: name 'updownlimit' is not defined"
     ]
    }
   ],
   "source": [
    "df = updownlimit(df_price_pct,df_weight)\n",
    "print abs(df).sum(1)"
   ]
  },
  {
   "cell_type": "code",
   "execution_count": null,
   "metadata": {
    "collapsed": true
   },
   "outputs": [],
   "source": []
  },
  {
   "cell_type": "code",
   "execution_count": 11,
   "metadata": {},
   "outputs": [
    {
     "name": "stdout",
     "output_type": "stream",
     "text": [
      "     A    B    C\n",
      "0  1.0  1.0  1.0\n",
      "1  1.0  1.0  1.0\n",
      "2  1.0  NaN  1.0\n",
      "3  1.0  NaN  1.0\n"
     ]
    }
   ],
   "source": [
    "df_isnotlimit = (~(abs(df_price_pct) > 0.097)).astype(\"float32\").replace(0.,np.nan) # 当天涨跌停为nan，其它为1\n",
    "print df_isnotlimit"
   ]
  },
  {
   "cell_type": "code",
   "execution_count": 12,
   "metadata": {},
   "outputs": [
    {
     "name": "stdout",
     "output_type": "stream",
     "text": [
      "    A    B   C\n",
      "0 NaN  NaN NaN\n",
      "1 NaN  NaN NaN\n",
      "2 NaN  1.0 NaN\n",
      "3 NaN  1.0 NaN\n"
     ]
    }
   ],
   "source": [
    "df_islimit = ((abs(df_price_pct) > 0.097)).astype(\"float32\").replace(0.,np.nan) # 当天涨跌停为1，其它为nan\n",
    "print df_islimit"
   ]
  },
  {
   "cell_type": "code",
   "execution_count": 13,
   "metadata": {},
   "outputs": [
    {
     "name": "stdout",
     "output_type": "stream",
     "text": [
      "    A    B   C\n",
      "0 NaN  NaN NaN\n",
      "1 NaN  0.1 NaN\n",
      "2 NaN  0.3 NaN\n",
      "3 NaN  NaN NaN\n"
     ]
    }
   ],
   "source": [
    "df_isupdown_weight = df_islimit.shift(-1)*df_weight              # 涨跌停前一天的权值\n",
    "print df_isupdown_weight"
   ]
  },
  {
   "cell_type": "code",
   "execution_count": 24,
   "metadata": {},
   "outputs": [
    {
     "name": "stdout",
     "output_type": "stream",
     "text": [
      "     A    B    C\n",
      "0  0.1  0.2  0.7\n",
      "1  0.2  0.1  0.7\n",
      "2  0.6  0.0  0.1\n",
      "3  0.3  0.0  0.4\n"
     ]
    }
   ],
   "source": [
    "df_weight_outlimit = (df_isnotlimit*df_weight).fillna(0)                                  #原始权值抛去涨跌停的权值\n",
    "abs(df_weight_outlimit).sum(1)\n",
    "\n",
    "print df_weight_outlimit"
   ]
  },
  {
   "cell_type": "code",
   "execution_count": 15,
   "metadata": {},
   "outputs": [
    {
     "name": "stdout",
     "output_type": "stream",
     "text": [
      "    A    B   C\n",
      "0 NaN  NaN NaN\n",
      "1 NaN  0.0 NaN\n",
      "2 NaN  0.1 NaN\n",
      "3 NaN  0.1 NaN\n"
     ]
    }
   ],
   "source": [
    "df_weight_limitday = ((df_isupdown_weight*df_isnotlimit).fillna(1)*df_isnotlimit).ffill().replace(1.,np.nan) - (df_isnotlimit*df_weight).fillna(0)#替换完成，最终的涨跌停当天的权值\n",
    "print df_weight_limitday "
   ]
  },
  {
   "cell_type": "code",
   "execution_count": 19,
   "metadata": {},
   "outputs": [
    {
     "data": {
      "text/plain": [
       "0    1.0\n",
       "1    1.0\n",
       "2    0.9\n",
       "3    0.9\n",
       "dtype: float64"
      ]
     },
     "execution_count": 19,
     "metadata": {},
     "output_type": "execute_result"
    }
   ],
   "source": [
    "1-abs(df_weight_limitday).sum(1)"
   ]
  },
  {
   "cell_type": "code",
   "execution_count": 25,
   "metadata": {},
   "outputs": [
    {
     "data": {
      "text/plain": [
       "0    1.0\n",
       "1    1.0\n",
       "2    0.7\n",
       "3    0.7\n",
       "dtype: float64"
      ]
     },
     "execution_count": 25,
     "metadata": {},
     "output_type": "execute_result"
    }
   ],
   "source": [
    "abs(df_weight_outlimit).sum(1)"
   ]
  },
  {
   "cell_type": "code",
   "execution_count": 29,
   "metadata": {},
   "outputs": [
    {
     "name": "stdout",
     "output_type": "stream",
     "text": [
      "          A    B         C\n",
      "0  0.100000  0.2  0.700000\n",
      "1  0.200000  0.1  0.700000\n",
      "2  0.771429  0.0  0.128571\n",
      "3  0.385714  0.0  0.514286\n"
     ]
    }
   ],
   "source": [
    "# sr_weight_sum_perday = 1-abs(df_weight_limitday).sum(1)\n",
    "sr_weight_sum_perday = abs(df_weight_outlimit).sum(1)\n",
    "df_weight_outlimit = df_weight_outlimit.div(sr_weight_sum_perday.values,axis=0)\n",
    "df_weight_outlimit = df_weight_outlimit.mul(1-abs(df_weight_limitday).sum(1),axis=0)\n",
    "print df_weight_outlimit"
   ]
  },
  {
   "cell_type": "code",
   "execution_count": 30,
   "metadata": {},
   "outputs": [
    {
     "name": "stdout",
     "output_type": "stream",
     "text": [
      "          A    B         C\n",
      "0  0.100000  0.2  0.700000\n",
      "1  0.200000  0.1  0.700000\n",
      "2  0.771429  0.1  0.128571\n",
      "3  0.385714  0.1  0.514286\n"
     ]
    }
   ],
   "source": [
    "df_weight_final = df_weight_outlimit + df_weight_limitday.fillna(0)\n",
    "print df_weight_final"
   ]
  },
  {
   "cell_type": "code",
   "execution_count": 31,
   "metadata": {},
   "outputs": [
    {
     "data": {
      "text/plain": [
       "0    1.0\n",
       "1    1.0\n",
       "2    1.0\n",
       "3    1.0\n",
       "dtype: float64"
      ]
     },
     "execution_count": 31,
     "metadata": {},
     "output_type": "execute_result"
    }
   ],
   "source": [
    "df_weight_final.sum(1)"
   ]
  },
  {
   "cell_type": "code",
   "execution_count": null,
   "metadata": {
    "collapsed": true
   },
   "outputs": [],
   "source": []
  },
  {
   "cell_type": "code",
   "execution_count": null,
   "metadata": {
    "collapsed": true
   },
   "outputs": [],
   "source": []
  },
  {
   "cell_type": "code",
   "execution_count": 51,
   "metadata": {},
   "outputs": [
    {
     "data": {
      "text/html": [
       "<div>\n",
       "<table border=\"1\" class=\"dataframe\">\n",
       "  <thead>\n",
       "    <tr style=\"text-align: right;\">\n",
       "      <th></th>\n",
       "      <th>A</th>\n",
       "      <th>B</th>\n",
       "      <th>C</th>\n",
       "    </tr>\n",
       "  </thead>\n",
       "  <tbody>\n",
       "    <tr>\n",
       "      <th>0</th>\n",
       "      <td>0.1</td>\n",
       "      <td>0.2</td>\n",
       "      <td>0.7</td>\n",
       "    </tr>\n",
       "    <tr>\n",
       "      <th>1</th>\n",
       "      <td>0.2</td>\n",
       "      <td>0.2</td>\n",
       "      <td>0.7</td>\n",
       "    </tr>\n",
       "    <tr>\n",
       "      <th>2</th>\n",
       "      <td>0.6</td>\n",
       "      <td>0.2</td>\n",
       "      <td>0.1</td>\n",
       "    </tr>\n",
       "    <tr>\n",
       "      <th>3</th>\n",
       "      <td>0.3</td>\n",
       "      <td>0.2</td>\n",
       "      <td>0.4</td>\n",
       "    </tr>\n",
       "  </tbody>\n",
       "</table>\n",
       "</div>"
      ],
      "text/plain": [
       "     A    B    C\n",
       "0  0.1  0.2  0.7\n",
       "1  0.2  0.2  0.7\n",
       "2  0.6  0.2  0.1\n",
       "3  0.3  0.2  0.4"
      ]
     },
     "execution_count": 51,
     "metadata": {},
     "output_type": "execute_result"
    }
   ],
   "source": [
    "updownlimit(df_price,df_weight)"
   ]
  },
  {
   "cell_type": "code",
   "execution_count": null,
   "metadata": {
    "collapsed": true
   },
   "outputs": [],
   "source": []
  },
  {
   "cell_type": "code",
   "execution_count": null,
   "metadata": {
    "collapsed": true
   },
   "outputs": [],
   "source": []
  }
 ],
 "metadata": {
  "kernelspec": {
   "display_name": "Python 2",
   "language": "python",
   "name": "python2"
  },
  "language_info": {
   "codemirror_mode": {
    "name": "ipython",
    "version": 2
   },
   "file_extension": ".py",
   "mimetype": "text/x-python",
   "name": "python",
   "nbconvert_exporter": "python",
   "pygments_lexer": "ipython2",
   "version": "2.7.12"
  }
 },
 "nbformat": 4,
 "nbformat_minor": 2
}
