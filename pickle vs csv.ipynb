{
 "cells": [
  {
   "cell_type": "code",
   "execution_count": 1,
   "metadata": {
    "collapsed": true
   },
   "outputs": [],
   "source": [
    "import pandas as pd\n",
    "import numpy as np"
   ]
  },
  {
   "cell_type": "code",
   "execution_count": 2,
   "metadata": {
    "collapsed": true
   },
   "outputs": [],
   "source": [
    "df = pd.DataFrame(np.random.randn(5000,5000))"
   ]
  },
  {
   "cell_type": "code",
   "execution_count": 9,
   "metadata": {
    "collapsed": false
   },
   "outputs": [
    {
     "name": "stdout",
     "output_type": "stream",
     "text": [
      "Wall time: 3.59 s\n"
     ]
    }
   ],
   "source": [
    "%time df.to_hdf('pkl_vs_csv.hdf5',key='df')"
   ]
  },
  {
   "cell_type": "code",
   "execution_count": 11,
   "metadata": {
    "collapsed": false
   },
   "outputs": [
    {
     "name": "stdout",
     "output_type": "stream",
     "text": [
      "Wall time: 249 ms\n"
     ]
    }
   ],
   "source": [
    "%time df = pd.read_hdf('pkl_vs_csv.hdf5',key='df')"
   ]
  },
  {
   "cell_type": "code",
   "execution_count": 5,
   "metadata": {
    "collapsed": false
   },
   "outputs": [
    {
     "name": "stdout",
     "output_type": "stream",
     "text": [
      "Wall time: 6.61 s\n"
     ]
    }
   ],
   "source": [
    "%time np.save('pkl_vs_csv.npy',df.values)"
   ]
  },
  {
   "cell_type": "code",
   "execution_count": 6,
   "metadata": {
    "collapsed": false
   },
   "outputs": [
    {
     "name": "stdout",
     "output_type": "stream",
     "text": [
      "Wall time: 115 ms\n"
     ]
    },
    {
     "data": {
      "text/plain": [
       "array([[ 0.33558246, -0.48603802,  0.13358189, ...,  1.51509044,\n",
       "        -0.30038464,  0.64889171],\n",
       "       [-1.0804816 ,  1.70525232, -0.19231975, ...,  0.28021044,\n",
       "         0.61949792, -0.04818055],\n",
       "       [ 0.67529604, -0.49328625,  1.30134659, ..., -0.66705549,\n",
       "        -0.14104432,  0.68245253],\n",
       "       ..., \n",
       "       [-1.81260199, -0.46784327,  0.19772494, ...,  2.31237942,\n",
       "        -2.38833586, -0.96724548],\n",
       "       [-0.57049908, -2.3592265 , -0.85056726, ...,  1.81521447,\n",
       "        -1.93193547, -1.28995474],\n",
       "       [ 1.69305466, -0.41809368,  0.67854763, ..., -0.53119588,\n",
       "         0.33973498, -0.0432685 ]])"
      ]
     },
     "execution_count": 6,
     "metadata": {},
     "output_type": "execute_result"
    }
   ],
   "source": [
    "%time arr = np.load('pkl_vs_csv.npy')"
   ]
  },
  {
   "cell_type": "code",
   "execution_count": 14,
   "metadata": {
    "collapsed": false
   },
   "outputs": [
    {
     "name": "stdout",
     "output_type": "stream",
     "text": [
      "CPU times: user 39.8 s, sys: 504 ms, total: 40.3 s\n",
      "Wall time: 41.1 s\n"
     ]
    }
   ],
   "source": [
    "%time df.to_csv(\"pkl_vs_csv.csv\")"
   ]
  },
  {
   "cell_type": "code",
   "execution_count": 15,
   "metadata": {
    "collapsed": false
   },
   "outputs": [
    {
     "name": "stdout",
     "output_type": "stream",
     "text": [
      "CPU times: user 56 ms, sys: 468 ms, total: 524 ms\n",
      "Wall time: 666 ms\n"
     ]
    }
   ],
   "source": [
    "%time df.to_pickle(\"pkl_vs_csv.pkl\")"
   ]
  },
  {
   "cell_type": "code",
   "execution_count": 6,
   "metadata": {
    "collapsed": false
   },
   "outputs": [
    {
     "name": "stdout",
     "output_type": "stream",
     "text": [
      "CPU times: user 16 ms, sys: 164 ms, total: 180 ms\n",
      "Wall time: 179 ms\n"
     ]
    }
   ],
   "source": [
    "%time df.to_hdf(\"pkl_vs_csv.h5\",key='df',complevel =1)"
   ]
  },
  {
   "cell_type": "code",
   "execution_count": 5,
   "metadata": {
    "collapsed": false
   },
   "outputs": [
    {
     "name": "stdout",
     "output_type": "stream",
     "text": [
      "CPU times: user 8 ms, sys: 120 ms, total: 128 ms\n",
      "Wall time: 129 ms\n"
     ]
    }
   ],
   "source": [
    "%time df1 = pd.read_hdf(\"pkl_vs_csv.h5\")"
   ]
  },
  {
   "cell_type": "code",
   "execution_count": 17,
   "metadata": {
    "collapsed": false
   },
   "outputs": [
    {
     "name": "stdout",
     "output_type": "stream",
     "text": [
      "CPU times: user 6.13 s, sys: 352 ms, total: 6.48 s\n",
      "Wall time: 6.48 s\n"
     ]
    }
   ],
   "source": [
    "%time df = pd.read_csv(\"pkl_vs_csv.csv\",dtype='float32')"
   ]
  },
  {
   "cell_type": "code",
   "execution_count": 18,
   "metadata": {
    "collapsed": false
   },
   "outputs": [
    {
     "name": "stdout",
     "output_type": "stream",
     "text": [
      "CPU times: user 5.98 s, sys: 400 ms, total: 6.38 s\n",
      "Wall time: 6.38 s\n"
     ]
    }
   ],
   "source": [
    "%time df = pd.read_csv(\"pkl_vs_csv.csv\",engine='c') "
   ]
  },
  {
   "cell_type": "code",
   "execution_count": 19,
   "metadata": {
    "collapsed": false
   },
   "outputs": [
    {
     "name": "stdout",
     "output_type": "stream",
     "text": [
      "CPU times: user 6.09 s, sys: 344 ms, total: 6.44 s\n",
      "Wall time: 6.44 s\n"
     ]
    }
   ],
   "source": [
    "%time df = pd.read_csv(\"pkl_vs_csv.csv\")"
   ]
  },
  {
   "cell_type": "code",
   "execution_count": 20,
   "metadata": {
    "collapsed": false
   },
   "outputs": [
    {
     "name": "stdout",
     "output_type": "stream",
     "text": [
      "CPU times: user 76 ms, sys: 796 ms, total: 872 ms\n",
      "Wall time: 870 ms\n"
     ]
    }
   ],
   "source": [
    "%time df = pd.read_pickle(\"pkl_vs_csv.pkl\")"
   ]
  },
  {
   "cell_type": "code",
   "execution_count": null,
   "metadata": {
    "collapsed": true
   },
   "outputs": [],
   "source": []
  }
 ],
 "metadata": {
  "kernelspec": {
   "display_name": "Python 2",
   "language": "python",
   "name": "python2"
  },
  "language_info": {
   "codemirror_mode": {
    "name": "ipython",
    "version": 2
   },
   "file_extension": ".py",
   "mimetype": "text/x-python",
   "name": "python",
   "nbconvert_exporter": "python",
   "pygments_lexer": "ipython2",
   "version": "2.7.13"
  }
 },
 "nbformat": 4,
 "nbformat_minor": 2
}
