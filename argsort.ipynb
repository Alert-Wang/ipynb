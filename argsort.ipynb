{
 "cells": [
  {
   "cell_type": "code",
   "execution_count": 1,
   "metadata": {
    "collapsed": true
   },
   "outputs": [],
   "source": [
    "import pandas as pd\n",
    "import numpy as np"
   ]
  },
  {
   "cell_type": "code",
   "execution_count": 2,
   "metadata": {},
   "outputs": [
    {
     "name": "stdout",
     "output_type": "stream",
     "text": [
      "         raw\n",
      "0 -12.554665\n",
      "1  -3.545003\n",
      "2   9.418732\n",
      "3  -7.949385\n",
      "4   2.532051\n"
     ]
    }
   ],
   "source": [
    "df = pd.DataFrame(np.random.randn(5,1)*10,columns=['raw'])\n",
    "print df"
   ]
  },
  {
   "cell_type": "code",
   "execution_count": 3,
   "metadata": {},
   "outputs": [
    {
     "name": "stdout",
     "output_type": "stream",
     "text": [
      "raw   -12.554665\n",
      "Name: 0, dtype: float64\n",
      "raw   -7.949385\n",
      "Name: 3, dtype: float64\n"
     ]
    }
   ],
   "source": [
    "print df.loc[df.iloc[:,0].argsort().sort_values().index[0]]\n",
    "print df.loc[df.iloc[:,0].argsort().sort_values().index[-1]]"
   ]
  },
  {
   "cell_type": "code",
   "execution_count": 9,
   "metadata": {},
   "outputs": [
    {
     "name": "stdout",
     "output_type": "stream",
     "text": [
      "2     9.418732\n",
      "4     2.532051\n",
      "1    -3.545003\n",
      "3    -7.949385\n",
      "0   -12.554665\n",
      "Name: raw, dtype: float64\n"
     ]
    }
   ],
   "source": [
    "print df.iloc[:,0].sort_values(ascending=False)"
   ]
  },
  {
   "cell_type": "code",
   "execution_count": 48,
   "metadata": {},
   "outputs": [
    {
     "name": "stdout",
     "output_type": "stream",
     "text": [
      "           A          B          C          D          E\n",
      "0   8.132163 -29.918189  -0.378889 -11.498116 -13.428675\n",
      "1 -16.403172 -11.461713  -1.527803   6.440855   4.375612\n",
      "2 -10.467655   4.810018  13.294243  -9.824861  14.042617\n",
      "3   2.310325 -11.829377  13.328663 -12.997512  10.618587\n",
      "4  -0.431703  -9.203436   2.075351   7.586494   4.470432\n"
     ]
    }
   ],
   "source": [
    "df = pd.DataFrame(np.random.randn(5,5)*10,columns=list('ABCDE'))\n",
    "print df"
   ]
  },
  {
   "cell_type": "code",
   "execution_count": 5,
   "metadata": {},
   "outputs": [
    {
     "data": {
      "text/plain": [
       "raw    0\n",
       "Name: 0, dtype: int64"
      ]
     },
     "execution_count": 5,
     "metadata": {},
     "output_type": "execute_result"
    }
   ],
   "source": [
    "df.iloc[0,:].argsort()"
   ]
  },
  {
   "cell_type": "code",
   "execution_count": 39,
   "metadata": {},
   "outputs": [
    {
     "data": {
      "text/plain": [
       "0    [D]\n",
       "1    [D]\n",
       "2    [B]\n",
       "3    [C]\n",
       "4    [A]\n",
       "dtype: object"
      ]
     },
     "execution_count": 39,
     "metadata": {},
     "output_type": "execute_result"
    }
   ],
   "source": [
    "df.apply(lambda x:x.argsort().sort_values().head(1).index.tolist(),axis=1)"
   ]
  },
  {
   "cell_type": "code",
   "execution_count": null,
   "metadata": {
    "collapsed": true
   },
   "outputs": [],
   "source": []
  }
 ],
 "metadata": {
  "kernelspec": {
   "display_name": "Python 2",
   "language": "python",
   "name": "python2"
  },
  "language_info": {
   "codemirror_mode": {
    "name": "ipython",
    "version": 2
   },
   "file_extension": ".py",
   "mimetype": "text/x-python",
   "name": "python",
   "nbconvert_exporter": "python",
   "pygments_lexer": "ipython2",
   "version": "2.7.12"
  }
 },
 "nbformat": 4,
 "nbformat_minor": 2
}
