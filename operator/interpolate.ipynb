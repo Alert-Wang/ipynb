{
 "cells": [
  {
   "cell_type": "code",
   "execution_count": 1,
   "metadata": {
    "collapsed": false
   },
   "outputs": [],
   "source": [
    "import numpy as np\n",
    "import scipy.interpolate\n",
    "import matplotlib.pyplot as plt\n",
    "import setuptools\n",
    "\n",
    "%matplotlib inline\n",
    "%load_ext cython "
   ]
  },
  {
   "cell_type": "code",
   "execution_count": null,
   "metadata": {
    "collapsed": false
   },
   "outputs": [],
   "source": [
    "x = [0, 1, 2, 3, 4, 5, 6]\n",
    "y = [1, 2, 1.5, 2.5, 3, 2.5, 3]\n",
    "xs = np.linspace(x[0], x[-1], 61)\n",
    "curve = scipy.interpolate.pchip(x, y)\n",
    "ys = curve(xs)\n",
    "dys = curve.derivative(nu=1)(xs)\n",
    "plt.plot(xs, ys, label=u\"pchip\")\n",
    "plt.plot(xs, dys, label=u\"diff1\")\n",
    "plt.plot(x, y, \"o\")\n",
    "plt.legend(loc=\"best\")\n",
    "plt.grid()\n",
    "plt.margins(0.1, 0.1)\n",
    "# plt.show()"
   ]
  },
  {
   "cell_type": "code",
   "execution_count": null,
   "metadata": {
    "collapsed": false
   },
   "outputs": [],
   "source": [
    "x = [0, 1, 2, 3, 4, 5]\n",
    "y = [1, 2, 1.5, 2.5, 3, 2.5]\n",
    "xs = np.linspace(x[0], x[-1], 100)\n",
    "curve = scipy.interpolate.pchip(x, y)\n",
    "ys = curve(xs)\n",
    "dys = curve.derivative(nu=1)(xs)\n",
    "plt.plot(xs, ys, label=u\"pchip\")\n",
    "plt.plot(xs, dys, label=u\"diff1\")\n",
    "plt.plot(x, y, \"o\")\n",
    "plt.legend(loc=\"best\")\n",
    "plt.grid()\n",
    "plt.margins(0.1, 0.1)\n",
    "# plt.show()"
   ]
  },
  {
   "cell_type": "code",
   "execution_count": null,
   "metadata": {
    "collapsed": false
   },
   "outputs": [],
   "source": [
    "x"
   ]
  },
  {
   "cell_type": "code",
   "execution_count": null,
   "metadata": {
    "collapsed": false
   },
   "outputs": [],
   "source": [
    "y"
   ]
  },
  {
   "cell_type": "code",
   "execution_count": null,
   "metadata": {
    "collapsed": false
   },
   "outputs": [],
   "source": [
    "xs"
   ]
  },
  {
   "cell_type": "code",
   "execution_count": null,
   "metadata": {
    "collapsed": false
   },
   "outputs": [],
   "source": [
    "ys"
   ]
  },
  {
   "cell_type": "code",
   "execution_count": null,
   "metadata": {
    "collapsed": false
   },
   "outputs": [],
   "source": [
    "dys"
   ]
  },
  {
   "cell_type": "code",
   "execution_count": null,
   "metadata": {
    "collapsed": false
   },
   "outputs": [],
   "source": [
    "dys.shape"
   ]
  },
  {
   "cell_type": "code",
   "execution_count": null,
   "metadata": {
    "collapsed": false
   },
   "outputs": [],
   "source": [
    "dys[::10]"
   ]
  },
  {
   "cell_type": "code",
   "execution_count": 11,
   "metadata": {
    "collapsed": true
   },
   "outputs": [],
   "source": [
    "def counts_difference_equal_val_py(x,y,val):\n",
    "    lenth = x.shape[0]\n",
    "    xs = np.linspace(x[0], x[-1], (lenth -1)*10 + 1)\n",
    "    curve = scipy.interpolate.pchip(x, y)\n",
    "    ys = curve(xs)\n",
    "    dys = curve.derivative(nu=1)(xs)\n",
    "    return sum(dys[::10] == val)"
   ]
  },
  {
   "cell_type": "code",
   "execution_count": 34,
   "metadata": {
    "collapsed": false
   },
   "outputs": [
    {
     "name": "stderr",
     "output_type": "stream",
     "text": [
      "c:\\users\\administrator\\anaconda2\\lib\\site-packages\\Cython\\Compiler\\Main.py:367: FutureWarning: Cython directive 'language_level' not set, using 2 for now (Py2). This will change in a later release! File: C:\\Users\\Administrator\\.ipython\\cython\\_cython_magic_f69eac4d2a019e44b5c0a8dcb959fbd0.pyx\n",
      "  tree = Parsing.p_module(s, pxd, full_module_name)\n"
     ]
    }
   ],
   "source": [
    "%%cython \n",
    "import scipy.interpolate\n",
    "import numpy as np\n",
    "cimport numpy as np\n",
    "\n",
    "ctypedef fused Dtype_t:\n",
    "    np.float32_t\n",
    "    np.float64_t\n",
    "    np.int32_t\n",
    "    \n",
    "ctypedef fused Dtype_s:\n",
    "    float\n",
    "    double\n",
    "    int\n",
    "\n",
    "cpdef int counts_difference_equal_val_cy(np.ndarray[Dtype_t] x,np.ndarray[Dtype_t] y, Dtype_s val):\n",
    "    cdef np.ndarray[Dtype_t] ys\n",
    "    cdef np.ndarray[Dtype_t] xs\n",
    "    cdef np.ndarray[Dtype_t] dys\n",
    "    \n",
    "    cdef int lenth = x.shape[0]\n",
    "    xs = np.linspace(x[0], x[-1], (lenth -1)*10 + 1)\n",
    "    curve = scipy.interpolate.pchip(x, y)\n",
    "    ys = curve(xs)\n",
    "    dys = curve.derivative(nu=1)(xs)\n",
    "    return np.sum(dys[::10] == val)\n",
    "\n",
    "# def counts_difference_equal_val(x,y,val):\n",
    "#     lenth = x.shape[0]\n",
    "#     xs = np.linspace(x[0], x[-1], (lenth -1)*10 + 1)\n",
    "#     curve = scipy.interpolate.pchip(x, y)\n",
    "#     ys = curve(xs)\n",
    "#     dys = curve.derivative(nu=1)(xs)\n",
    "#     return sum(dys[::10] == val)"
   ]
  },
  {
   "cell_type": "code",
   "execution_count": 29,
   "metadata": {
    "collapsed": false
   },
   "outputs": [],
   "source": [
    "x = np.array([0, 1, 2, 3, 4, 5, 6],dtype=np.float64)\n",
    "y = np.array([1, 2, 1.5, 2.5, 3, 2.5, 3],dtype=np.float64)\n"
   ]
  },
  {
   "cell_type": "code",
   "execution_count": 35,
   "metadata": {
    "collapsed": false
   },
   "outputs": [
    {
     "name": "stdout",
     "output_type": "stream",
     "text": [
      "1000 loops, best of 3: 628 µs per loop\n",
      "1000 loops, best of 3: 643 µs per loop\n"
     ]
    }
   ],
   "source": [
    "%timeit counts_difference_equal_val_py(x,y,0.)\n",
    "%timeit counts_difference_equal_val_cy(x,y,0.)"
   ]
  },
  {
   "cell_type": "code",
   "execution_count": null,
   "metadata": {
    "collapsed": true
   },
   "outputs": [],
   "source": []
  },
  {
   "cell_type": "code",
   "execution_count": null,
   "metadata": {
    "collapsed": true
   },
   "outputs": [],
   "source": []
  }
 ],
 "metadata": {
  "kernelspec": {
   "display_name": "Python 2",
   "language": "python",
   "name": "python2"
  },
  "language_info": {
   "codemirror_mode": {
    "name": "ipython",
    "version": 2
   },
   "file_extension": ".py",
   "mimetype": "text/x-python",
   "name": "python",
   "nbconvert_exporter": "python",
   "pygments_lexer": "ipython2",
   "version": "2.7.13"
  }
 },
 "nbformat": 4,
 "nbformat_minor": 2
}
