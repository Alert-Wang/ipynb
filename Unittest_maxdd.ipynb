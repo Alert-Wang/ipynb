{
 "cells": [
  {
   "cell_type": "code",
   "execution_count": null,
   "metadata": {
    "collapsed": true
   },
   "outputs": [],
   "source": [
    "import pandas\n",
    "import numpy as np"
   ]
  },
  {
   "cell_type": "code",
   "execution_count": null,
   "metadata": {
    "collapsed": true
   },
   "outputs": [],
   "source": [
    "def rolling_max_drawdown(sr):\n",
    "        for i in enumera\n",
    "        j = np.argmax(sr)\n",
    "        val = (sr[-1] - sr[j])\n",
    "        if  val >= 0 :\n",
    "            return 0\n",
    "        else:\n",
    "            return val"
   ]
  },
  {
   "cell_type": "code",
   "execution_count": null,
   "metadata": {
    "collapsed": true
   },
   "outputs": [],
   "source": [
    "def max_drawdown(sr):\n",
    "    maxdds = []\n",
    "    for i in range(len(sr)):\n",
    "        j = np.argmax(sr[:i])\n",
    "        val = (sr[i] - sr[j])\n",
    "        if  val >= 0 :\n",
    "            maxdds.append(0)\n",
    "        else:\n",
    "            maxdds.append(val)\n",
    "    return min(maxdds)"
   ]
  }
 ],
 "metadata": {
  "kernelspec": {
   "display_name": "Python 2",
   "language": "python",
   "name": "python2"
  }
 },
 "nbformat": 4,
 "nbformat_minor": 2
}
