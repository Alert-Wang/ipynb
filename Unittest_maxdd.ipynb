{
 "cells": [
  {
   "cell_type": "code",
   "execution_count": null,
   "metadata": {},
   "outputs": [],
   "source": [
    "import pandas\n",
    "import numpy as np"
   ]
  },
  {
   "cell_type": "code",
   "execution_count": null,
   "metadata": {
    "collapsed": true
   },
   "outputs": [],
   "source": [
    "def rolling_max_drawdown(sr):\n",
    "        for i in enumera\n",
    "        j = np.argmax(sr)\n",
    "        val = (sr[-1] - sr[j])\n",
    "        if  val >= 0 :\n",
    "            return 0\n",
    "        else:\n",
    "            return val"
   ]
  },
  {
   "cell_type": "code",
   "execution_count": null,
   "metadata": {
    "collapsed": true
   },
   "outputs": [],
   "source": [
    "def max_drawdown(sr):\n",
    "    maxdds = []\n",
    "    for i in range(len(sr)):\n",
    "        j = np.argmax(sr[:i])\n",
    "        val = (sr[i] - sr[j])\n",
    "        if  val >= 0 :\n",
    "            maxdds.append(0)\n",
    "        else:\n",
    "            maxdds.append(val)\n",
    "    return min(maxdds)"
   ]
  },
  {
   "cell_type": "code",
   "execution_count": null,
   "metadata": {},
   "outputs": [],
   "source": [
    "def max_drawdown(sr):\n",
    "    if len(sr) <= 1:\n",
    "        return 0\n",
    "    maxdds = []\n",
    "    starts = []\n",
    "    ends = []\n",
    "    for i in range(1,len(sr)):\n",
    "        j = np.argmax(sr[:i])\n",
    "        val = (sr[i] - sr[j])/sr[j]\n",
    "        if  val >= 0 :\n",
    "            maxdds.append(0)\n",
    "            starts.append(j)\n",
    "            ends.append(i)\n",
    "        else:\n",
    "            maxdds.append(val)\n",
    "            starts.append(j)\n",
    "            ends.append(i)\n",
    "    print maxdds\n",
    "    maxdd = min(maxdds)\n",
    "    maxddidx = maxdds.index(maxdd)\n",
    "    return maxdd,starts[maxddidx],ends[maxddidx]"
   ]
  }
 ],
 "metadata": {
  "kernelspec": {
   "display_name": "Python 2",
   "language": "python",
   "name": "python2"
  }
 },
 "nbformat": 4,
 "nbformat_minor": 2
}
