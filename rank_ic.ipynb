{
 "cells": [
  {
   "cell_type": "code",
   "execution_count": 10,
   "metadata": {
    "collapsed": true
   },
   "outputs": [],
   "source": [
    "import pandas as pd\n",
    "import numpy as np\n",
    "import scipy.stats,pdb,time"
   ]
  },
  {
   "cell_type": "code",
   "execution_count": 2,
   "metadata": {
    "collapsed": false
   },
   "outputs": [],
   "source": [
    "\n",
    "def ic(df_factor,df_retpct,days=3,methods ='pearson',return_pvalue=False):\n",
    "    \n",
    "    if not (isinstance(df_factor,pd.DataFrame) and  isinstance(df_retpct,pd.DataFrame)):\n",
    "        raise TypeError(\"Input must be pd.DataFrame.\")\n",
    "        \n",
    "    rownum1 = df_factor.shape[0]\n",
    "    rownum2 = df_retpct.shape[0]\n",
    "    assert rownum1 == rownum2\n",
    "    assert (df_factor.index == df_retpct.index).all()\n",
    "    sr_index = df_factor.index\n",
    "    \n",
    "    arr_factor = df_factor.values\n",
    "    arr_retpct = df_retpct.values\n",
    "    \n",
    "    vec_ic = []\n",
    "    vec_pvalue = []\n",
    "    for ii in range(rownum1):\n",
    "#         pdb.set_trace()\n",
    "        if ii >= rownum1 - days:\n",
    "            jj = rownum1\n",
    "        else:\n",
    "            jj = ii + days\n",
    "        vec1 = arr_factor[ii,:]\n",
    "        vec2 = arr_retpct[ii:jj,:]\n",
    "        \n",
    "        vec2 = np.nanmean(vec2,axis=0)\n",
    "        \n",
    "        vec_notnan = ~np.isnan(vec1)\n",
    "        vec1 = vec1[vec_notnan]\n",
    "        vec2 = vec2[vec_notnan]\n",
    "        \n",
    "        if methods == 'pearson':\n",
    "            tup = scipy.stats.pearsonr(vec1,vec2)\n",
    "        elif methods == 'spearman':\n",
    "            tup = scipy.stats.spearmanr(vec1,vec2)\n",
    "        else:\n",
    "            raise NotImplementedError\n",
    "\n",
    "        vec_ic.append(tup[0])\n",
    "        vec_pvalue.append(tup[0])\n",
    "    #pdb.set_trace()\n",
    "    if return_pvalue:\n",
    "        return pd.Series(vec_ic,index=sr_index),pd.Series(vec_pvalue,index=sr_index)\n",
    "    else:\n",
    "        return pd.Series(vec_ic,index=sr_index)"
   ]
  },
  {
   "cell_type": "code",
   "execution_count": 13,
   "metadata": {
    "collapsed": false
   },
   "outputs": [],
   "source": [
    "dfa = pd.DataFrame(np.random.random_sample((3000,3000)))\n",
    "dfb = pd.DataFrame(np.random.random_sample((3000,3000)))\n",
    "sr = ic(dfa,dfb,methods = 'spearman')"
   ]
  },
  {
   "cell_type": "code",
   "execution_count": 51,
   "metadata": {
    "collapsed": false
   },
   "outputs": [
    {
     "name": "stdout",
     "output_type": "stream",
     "text": [
      "1 loop, best of 3: 4.52 s per loop\n"
     ]
    }
   ],
   "source": [
    "%timeit sr = ic(dfa,dfb,methods = 'spearman')"
   ]
  },
  {
   "cell_type": "code",
   "execution_count": 4,
   "metadata": {
    "collapsed": false
   },
   "outputs": [
    {
     "name": "stdout",
     "output_type": "stream",
     "text": [
      "1 loop, best of 3: 678 ms per loop\n"
     ]
    }
   ],
   "source": [
    "%timeit sr = ic(dfa,dfb,methods = 'pearson')"
   ]
  },
  {
   "cell_type": "code",
   "execution_count": 14,
   "metadata": {
    "collapsed": false
   },
   "outputs": [
    {
     "data": {
      "text/plain": [
       "0       0.011736\n",
       "1      -0.000020\n",
       "2      -0.015653\n",
       "3      -0.018236\n",
       "4      -0.004440\n",
       "5      -0.000689\n",
       "6       0.005790\n",
       "7      -0.020361\n",
       "8       0.024530\n",
       "9      -0.020141\n",
       "10     -0.005840\n",
       "11     -0.033519\n",
       "12     -0.000273\n",
       "13     -0.027759\n",
       "14      0.011309\n",
       "15      0.039405\n",
       "16      0.003205\n",
       "17      0.035117\n",
       "18     -0.000622\n",
       "19     -0.005202\n",
       "20     -0.031152\n",
       "21      0.000101\n",
       "22      0.009407\n",
       "23      0.000981\n",
       "24     -0.007257\n",
       "25      0.006235\n",
       "26      0.037974\n",
       "27      0.011647\n",
       "28     -0.002294\n",
       "29      0.005631\n",
       "          ...   \n",
       "2970    0.000611\n",
       "2971   -0.000381\n",
       "2972    0.009886\n",
       "2973    0.017941\n",
       "2974    0.012698\n",
       "2975   -0.021355\n",
       "2976   -0.023461\n",
       "2977    0.004955\n",
       "2978    0.006543\n",
       "2979    0.014411\n",
       "2980    0.030443\n",
       "2981    0.000056\n",
       "2982    0.035319\n",
       "2983   -0.008035\n",
       "2984   -0.028305\n",
       "2985   -0.006103\n",
       "2986    0.004563\n",
       "2987    0.016395\n",
       "2988   -0.007124\n",
       "2989   -0.027156\n",
       "2990    0.021683\n",
       "2991    0.036508\n",
       "2992    0.020784\n",
       "2993   -0.008160\n",
       "2994   -0.012201\n",
       "2995   -0.002270\n",
       "2996   -0.016041\n",
       "2997    0.013907\n",
       "2998    0.014501\n",
       "2999   -0.029954\n",
       "dtype: float64"
      ]
     },
     "execution_count": 14,
     "metadata": {},
     "output_type": "execute_result"
    }
   ],
   "source": [
    "sr"
   ]
  },
  {
   "cell_type": "code",
   "execution_count": 6,
   "metadata": {
    "collapsed": false
   },
   "outputs": [
    {
     "data": {
      "text/plain": [
       "-0.00036402674195635187"
      ]
     },
     "execution_count": 6,
     "metadata": {},
     "output_type": "execute_result"
    }
   ],
   "source": [
    "sr.mean()"
   ]
  },
  {
   "cell_type": "code",
   "execution_count": 12,
   "metadata": {
    "collapsed": false
   },
   "outputs": [
    {
     "name": "stderr",
     "output_type": "stream",
     "text": [
      "No traceback available to show.\n",
      "test_perfomance (__main__.TestIC) ... "
     ]
    },
    {
     "name": "stdout",
     "output_type": "stream",
     "text": [
      "\n",
      " perfomance in (3000,3000) use: 0.793999910355 s\n"
     ]
    },
    {
     "name": "stderr",
     "output_type": "stream",
     "text": [
      "ok\n",
      "\n",
      "----------------------------------------------------------------------\n",
      "Ran 1 test in 1.092s\n",
      "\n",
      "OK\n"
     ]
    }
   ],
   "source": [
    "%tb\n",
    "import unittest\n",
    "\n",
    "class TestIC(unittest.TestCase):\n",
    "    def setUp(self):\n",
    "        pass\n",
    "\n",
    "    def tearDown(self):\n",
    "        pass\n",
    "\n",
    "    def test_perfomance(self):\n",
    "        dfa = pd.DataFrame(np.random.random_sample((3000,3000)))\n",
    "        dfb = pd.DataFrame(np.random.random_sample((3000,3000)))\n",
    "        \n",
    "        start = time.time()\n",
    "        icval = ic(dfa,dfb)\n",
    "        end = time.time()\n",
    "        print('\\n perfomance in (3000,3000) use: '+str(end -start)+' s')\n",
    "        self.assertLessEqual(end -start,1)\n",
    "\n",
    "obj = unittest.main(argv=['ignored', '-v'], exit=False)"
   ]
  },
  {
   "cell_type": "code",
   "execution_count": null,
   "metadata": {
    "collapsed": true
   },
   "outputs": [],
   "source": []
  }
 ],
 "metadata": {
  "kernelspec": {
   "display_name": "Python 2",
   "language": "python",
   "name": "python2"
  },
  "language_info": {
   "codemirror_mode": {
    "name": "ipython",
    "version": 2
   },
   "file_extension": ".py",
   "mimetype": "text/x-python",
   "name": "python",
   "nbconvert_exporter": "python",
   "pygments_lexer": "ipython2",
   "version": "2.7.13"
  }
 },
 "nbformat": 4,
 "nbformat_minor": 2
}
