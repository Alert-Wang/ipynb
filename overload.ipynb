{
 "cells": [
  {
   "cell_type": "code",
   "execution_count": 2,
   "metadata": {
    "collapsed": false
   },
   "outputs": [],
   "source": [
    "import numpy as np\n",
    "import pandas as pd\n",
    "import pdb\n",
    "import setuptools\n",
    "from multipledispatch import dispatch\n",
    "# from multimethods import multimethod\n",
    "\n",
    "%matplotlib inline \n",
    "%load_ext cython "
   ]
  },
  {
   "cell_type": "code",
   "execution_count": 2,
   "metadata": {
    "collapsed": true
   },
   "outputs": [],
   "source": [
    "def signature(*types):\n",
    "    def func(f):\n",
    "        def inner_func(callingObj, *args, **kwargs):\n",
    "            return f(callingObj, *args, **kwargs)\n",
    "        inner_func.signature = types\n",
    "        return inner_func\n",
    "    return func\n",
    "        \n",
    "class Overload(object):\n",
    "    def __init__(self, func):\n",
    "        self.owner = None\n",
    "        self.signatures = []\n",
    "        self.methods = []\n",
    "        self.methods.append(func)\n",
    "        self.signatures.append(func.signature)\n",
    "        \n",
    "    def __get__(self, owner, ownerType=None):\n",
    "        self.owner = owner or self\n",
    "        return self\n",
    "    \n",
    "    def __call__(self, *args, **kwargs):\n",
    "        signature = []\n",
    "        for arg in args:\n",
    "            signature.append(arg.__class__.__name__)\n",
    "        for _, v in kwargs:# 此处需使用强制签名，否则会产生字典乱序\n",
    "            signature.append(v.__class__.__name__)\n",
    "        signature = tuple(signature)\n",
    "        if signature in self.signatures:\n",
    "            index = self.signatures.index(signature)\n",
    "        else:\n",
    "            raise Exception(\"There is no overload for this method with this signature.\")\n",
    "        return self.methods[index](self.owner, *args, **kwargs)\n",
    "    \n",
    "    def overload(self, func):\n",
    "        self.methods.append(func)\n",
    "        self.signatures.append(func.signature)\n",
    "        return self"
   ]
  },
  {
   "cell_type": "code",
   "execution_count": null,
   "metadata": {
    "collapsed": true
   },
   "outputs": [],
   "source": []
  },
  {
   "cell_type": "code",
   "execution_count": 19,
   "metadata": {
    "collapsed": false
   },
   "outputs": [
    {
     "name": "stderr",
     "output_type": "stream",
     "text": [
      "c:\\users\\administrator\\anaconda2\\lib\\site-packages\\Cython\\Compiler\\Main.py:367: FutureWarning: Cython directive 'language_level' not set, using 2 for now (Py2). This will change in a later release! File: C:\\Users\\Administrator\\.ipython\\cython\\_cython_magic_8186c0851c2d040405e736984d9fe39c.pyx\n",
      "  tree = Parsing.p_module(s, pxd, full_module_name)\n"
     ]
    },
    {
     "name": "stdout",
     "output_type": "stream",
     "text": [
      "1\n",
      "1\n",
      "1\n",
      "1\n"
     ]
    }
   ],
   "source": [
    "%%cython \n",
    "import numpy as np\n",
    "cimport numpy as np\n",
    "# from libcpp cimport bool\n",
    "# from multimethods import multimethod\n",
    "# Dtype_t = np.float32_t\n",
    "\n",
    "# from multipledispatch import dispatch\n",
    "\n",
    "# @multimethod(np.ndarray[np.float32_t])\n",
    "\n",
    "ctypedef fused Dtype_t:\n",
    "    np.float32_t\n",
    "    np.float64_t\n",
    "    np.int32_t\n",
    "\n",
    "cdef hint_value_mean_tj_cy1(np.ndarray[Dtype_t] vec):\n",
    "    res = 0\n",
    "    m = vec.mean()\n",
    "#     print m\n",
    "    if vec[0] - m < 0:\n",
    "        flag_small = True\n",
    "    else:\n",
    "        flag_small = False\n",
    "    for v in vec[1:]:\n",
    "        if v - m < 0:#现在在均线下方\n",
    "            if flag_small :#之前都是在均线下方\n",
    "                continue\n",
    "            else:\n",
    "#                 print v,flag_small\n",
    "                res += 1\n",
    "                flag_small = True\n",
    "        else:#现在在均线上方\n",
    "            if not flag_small:#之前都是在均线上方\n",
    "                continue\n",
    "            else:\n",
    "#                 print v,flag_small\n",
    "                res += 1\n",
    "                flag_small = False\n",
    "    return res\n",
    "\n",
    "cdef int hint_value_mean_tj_cy2(np.ndarray[Dtype_t] vec):\n",
    "    \n",
    "    cdef int res = 0\n",
    "    cdef double m = vec.mean()\n",
    "    cdef double v \n",
    "    \n",
    "#     cdef bool flag_small\n",
    "#     print m\n",
    "    if vec[0] - m < 0:\n",
    "        flag_small = True\n",
    "    else:\n",
    "        flag_small = False\n",
    "    for v in vec[1:]:\n",
    "        if v - m < 0:#现在在均线下方\n",
    "            if flag_small :#之前都是在均线下方\n",
    "                continue\n",
    "            else:\n",
    "#                 print v,flag_small\n",
    "                res += 1\n",
    "                flag_small = True\n",
    "        else:#现在在均线上方\n",
    "            if not flag_small:#之前都是在均线上方\n",
    "                continue\n",
    "            else:\n",
    "#                 print v,flag_small\n",
    "                res += 1\n",
    "                flag_small = False\n",
    "    return res\n",
    "\n",
    "print hint_value_mean_tj_cy1 [np.float32_t] (np.array([-0.47669166 , 0.44250423 , 1.0235505],dtype=np.float32))\n",
    "print hint_value_mean_tj_cy2 [np.float32_t] (np.array([-0.47669166 , 0.44250423 , 1.0235505],dtype=np.float32))\n",
    "print hint_value_mean_tj_cy2 [np.float64_t] (np.array([-0.47669166 , 0.44250423 , 1.0235505],dtype=np.float64))\n",
    "print hint_value_mean_tj_cy2 [np.int32_t] (np.array([2 , 2 , 1],dtype=np.int32))"
   ]
  },
  {
   "cell_type": "code",
   "execution_count": null,
   "metadata": {
    "collapsed": true
   },
   "outputs": [],
   "source": []
  }
 ],
 "metadata": {
  "kernelspec": {
   "display_name": "Python 2",
   "language": "python",
   "name": "python2"
  },
  "language_info": {
   "codemirror_mode": {
    "name": "ipython",
    "version": 2
   },
   "file_extension": ".py",
   "mimetype": "text/x-python",
   "name": "python",
   "nbconvert_exporter": "python",
   "pygments_lexer": "ipython2",
   "version": "2.7.13"
  }
 },
 "nbformat": 4,
 "nbformat_minor": 2
}
