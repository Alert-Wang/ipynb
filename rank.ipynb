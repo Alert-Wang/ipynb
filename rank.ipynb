{
 "cells": [
  {
   "cell_type": "code",
   "execution_count": 17,
   "metadata": {
    "collapsed": true
   },
   "outputs": [],
   "source": [
    "import numpy as np\n",
    "import scipy.stats\n",
    "import pdb\n",
    "import pandas as pd\n",
    "from functools import  partial"
   ]
  },
  {
   "cell_type": "code",
   "execution_count": 105,
   "metadata": {
    "collapsed": false
   },
   "outputs": [],
   "source": [
    "def qcut(arr,quantile = [0,20,40,60,80,100]):\n",
    "    \n",
    "    if len(arr.shape) == 2:\n",
    "        rownum = arr.shape[0]\n",
    "        arr_ret = np.full_like(arr,fill_value=np.nan)\n",
    "        for rn in range(rownum):\n",
    "            vec = arr[rn]\n",
    "            vec_not_nan = ~np.isnan(vec)\n",
    "            if not  vec_not_nan.any():\n",
    "                break\n",
    "#             vec[vec_not_nan] = scipy.stats.rankdata(vec[vec_not_nan] , method='average')\n",
    "            vec_denan = vec[vec_not_nan]\n",
    "            quantiles = np.percentile(vec_denan,quantile)\n",
    "#             arr_ret[rn,vec_not_nan] = np.digitize(vec_denan,quantiles,right = True)\n",
    "#             print vec[vec_not_nan]\n",
    "#             print quantiles\n",
    "            for i,v1 in enumerate(quantiles):\n",
    "                if i >= len(quantile)-1:\n",
    "                    break\n",
    "                \n",
    "                v2 = quantiles[i+1]\n",
    "                if i+1 == len(quantiles) -1:\n",
    "                    vec_bool_one_quantile = (vec >= v1) & (vec <= v2)\n",
    "                else:\n",
    "                    vec_bool_one_quantile = (vec >= v1) & (vec < v2)\n",
    "                \n",
    "                arr_ret[rn,vec_bool_one_quantile] = i+1\n",
    "        return arr_ret\n",
    "            \n",
    "    elif len(arr.shape) == 1:\n",
    "        rownum = arr.shape[0]\n",
    "        arr_ret = np.full_like(arr,fill_value=np.nan)\n",
    "        for rn in range(rownum):\n",
    "            vec = arr \n",
    "            vec_not_nan = ~np.isnan(vec)\n",
    "            if not  vec_not_nan.any():\n",
    "                break\n",
    "            vec_denan = vec[vec_not_nan]\n",
    "            quantiles = np.percentile(vec_denan,quantile)\n",
    "#             arr_ret[rn,vec_not_nan] = np.digitize(vec_denan,quantiles)\n",
    "#             print 'quantiles',quantiles\n",
    "            for i,v1 in enumerate(quantiles):\n",
    "                    if i >= len(quantile)-1:\n",
    "                        break\n",
    "\n",
    "                    v2 = quantiles[i+1]\n",
    "                    if i+1 == len(quantiles) -1:\n",
    "                        vec_bool_one_quantile = (vec >= v1) & (vec <= v2)\n",
    "                    else:\n",
    "                        vec_bool_one_quantile = (vec >= v1) & (vec < v2)\n",
    "\n",
    "                    arr_ret[vec_bool_one_quantile] = i+1\n",
    "            return arr_ret\n",
    "        \n",
    "        \n",
    "    \n",
    "#     np.percentile(arr[~np.isnan(arr)],50)\n",
    "    \n"
   ]
  },
  {
   "cell_type": "code",
   "execution_count": 112,
   "metadata": {
    "collapsed": false
   },
   "outputs": [
    {
     "name": "stdout",
     "output_type": "stream",
     "text": [
      "[[   1.    2.    2.   nan    3.    4.    5.]\n",
      " [   1.    2.    3.   nan    3.    4.    5.]\n",
      " [   1.    2.  999.   nan    3.    4.    5.]\n",
      " [  nan   nan   nan   nan   nan   nan   nan]]\n"
     ]
    },
    {
     "name": "stderr",
     "output_type": "stream",
     "text": [
      "C:\\Users\\Administrator\\Anaconda2\\lib\\site-packages\\ipykernel_launcher.py:25: RuntimeWarning: invalid value encountered in greater_equal\n",
      "C:\\Users\\Administrator\\Anaconda2\\lib\\site-packages\\ipykernel_launcher.py:25: RuntimeWarning: invalid value encountered in less\n",
      "C:\\Users\\Administrator\\Anaconda2\\lib\\site-packages\\ipykernel_launcher.py:23: RuntimeWarning: invalid value encountered in greater_equal\n",
      "C:\\Users\\Administrator\\Anaconda2\\lib\\site-packages\\ipykernel_launcher.py:23: RuntimeWarning: invalid value encountered in less_equal\n"
     ]
    },
    {
     "data": {
      "text/plain": [
       "array([[  1.,   3.,   3.,  nan,   4.,   5.,   5.],\n",
       "       [  1.,   2.,   4.,  nan,   4.,   5.,   5.],\n",
       "       [  1.,   2.,   5.,  nan,   3.,   4.,   5.],\n",
       "       [ nan,  nan,  nan,  nan,  nan,  nan,  nan]])"
      ]
     },
     "execution_count": 112,
     "metadata": {},
     "output_type": "execute_result"
    }
   ],
   "source": [
    "arr = np.array([[1,2,2,np.nan,3,4,5],[1,2,3,np.nan,3,4,5],[1,2,999,np.nan,3,4,5],[np.nan,np.nan,np.nan,np.nan,np.nan,np.nan,np.nan]])\n",
    "print arr\n",
    "qcut(arr)"
   ]
  },
  {
   "cell_type": "code",
   "execution_count": 107,
   "metadata": {
    "collapsed": false
   },
   "outputs": [
    {
     "name": "stdout",
     "output_type": "stream",
     "text": [
      "[[1 5 5 5 5 5 5 5 5 5]]\n"
     ]
    },
    {
     "data": {
      "text/plain": [
       "array([[1, 5, 5, 5, 5, 5, 5, 5, 5, 5]])"
      ]
     },
     "execution_count": 107,
     "metadata": {},
     "output_type": "execute_result"
    }
   ],
   "source": [
    "arr = np.array([[1,5,5,5,5,5,5,5,5,5]])\n",
    "print arr\n",
    "qcut(arr)"
   ]
  },
  {
   "cell_type": "code",
   "execution_count": 108,
   "metadata": {
    "collapsed": false
   },
   "outputs": [
    {
     "name": "stdout",
     "output_type": "stream",
     "text": [
      "[1 1 1 1 1 1 5]\n"
     ]
    },
    {
     "data": {
      "text/plain": [
       "array([5, 5, 5, 5, 5, 5, 5])"
      ]
     },
     "execution_count": 108,
     "metadata": {},
     "output_type": "execute_result"
    }
   ],
   "source": [
    "arr = np.array([1,1,1,1,1,1,5])\n",
    "print arr\n",
    "qcut(arr)"
   ]
  },
  {
   "cell_type": "code",
   "execution_count": 24,
   "metadata": {
    "collapsed": false
   },
   "outputs": [
    {
     "name": "stdout",
     "output_type": "stream",
     "text": [
      "     0    1    2   3    4    5    6\n",
      "0  1.0  2.0  3.0 NaN  4.0  5.0  6.0\n",
      "1  1.0  2.0  3.0 NaN  4.0  5.0  7.0\n"
     ]
    },
    {
     "data": {
      "text/html": [
       "<div>\n",
       "<table border=\"1\" class=\"dataframe\">\n",
       "  <thead>\n",
       "    <tr style=\"text-align: right;\">\n",
       "      <th></th>\n",
       "      <th>0</th>\n",
       "      <th>1</th>\n",
       "      <th>2</th>\n",
       "      <th>3</th>\n",
       "      <th>4</th>\n",
       "      <th>5</th>\n",
       "      <th>6</th>\n",
       "    </tr>\n",
       "  </thead>\n",
       "  <tbody>\n",
       "    <tr>\n",
       "      <th>0</th>\n",
       "      <td>[1, 2]</td>\n",
       "      <td>[1, 2]</td>\n",
       "      <td>(2, 3]</td>\n",
       "      <td>NaN</td>\n",
       "      <td>(3, 4]</td>\n",
       "      <td>(4, 5]</td>\n",
       "      <td>(5, 6]</td>\n",
       "    </tr>\n",
       "    <tr>\n",
       "      <th>1</th>\n",
       "      <td>[1, 2]</td>\n",
       "      <td>[1, 2]</td>\n",
       "      <td>(2, 3]</td>\n",
       "      <td>NaN</td>\n",
       "      <td>(3, 4]</td>\n",
       "      <td>(4, 5]</td>\n",
       "      <td>(5, 7]</td>\n",
       "    </tr>\n",
       "  </tbody>\n",
       "</table>\n",
       "</div>"
      ],
      "text/plain": [
       "        0       1       2   3       4       5       6\n",
       "0  [1, 2]  [1, 2]  (2, 3] NaN  (3, 4]  (4, 5]  (5, 6]\n",
       "1  [1, 2]  [1, 2]  (2, 3] NaN  (3, 4]  (4, 5]  (5, 7]"
      ]
     },
     "execution_count": 24,
     "metadata": {},
     "output_type": "execute_result"
    }
   ],
   "source": [
    "arr = np.array([[1,2,3,np.nan,4,5,6],[1,2,3,np.nan,4,5,7]])\n",
    "df = pd.DataFrame(arr)\n",
    "print df\n",
    "func = partial(pd.qcut,q= 5  ,retbins =False)\n",
    "df.apply(func,axis=1)"
   ]
  },
  {
   "cell_type": "code",
   "execution_count": 34,
   "metadata": {
    "collapsed": false
   },
   "outputs": [
    {
     "data": {
      "text/plain": [
       "array([ 1.  ,  2.  ,  2.5 ,  3.75,  5.  ])"
      ]
     },
     "execution_count": 34,
     "metadata": {},
     "output_type": "execute_result"
    }
   ],
   "source": [
    "np.percentile(arr[~np.isnan(arr)],[0,20,50,75,100])"
   ]
  },
  {
   "cell_type": "code",
   "execution_count": 38,
   "metadata": {
    "collapsed": false
   },
   "outputs": [
    {
     "data": {
      "text/plain": [
       "array([1, 2, 3, 7, 4, 5, 6], dtype=int64)"
      ]
     },
     "execution_count": 38,
     "metadata": {},
     "output_type": "execute_result"
    }
   ],
   "source": [
    "ar = np.array([1,2,2,np.nan,3,4,5])\n",
    "scipy.stats.rankdata(ar, method='ordinal')"
   ]
  },
  {
   "cell_type": "code",
   "execution_count": null,
   "metadata": {
    "collapsed": true
   },
   "outputs": [],
   "source": []
  }
 ],
 "metadata": {
  "kernelspec": {
   "display_name": "Python 2",
   "language": "python",
   "name": "python2"
  },
  "language_info": {
   "codemirror_mode": {
    "name": "ipython",
    "version": 2
   },
   "file_extension": ".py",
   "mimetype": "text/x-python",
   "name": "python",
   "nbconvert_exporter": "python",
   "pygments_lexer": "ipython2",
   "version": "2.7.13"
  }
 },
 "nbformat": 4,
 "nbformat_minor": 2
}
