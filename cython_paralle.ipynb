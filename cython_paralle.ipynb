{
 "cells": [
  {
   "cell_type": "code",
   "execution_count": null,
   "metadata": {},
   "outputs": [],
   "source": [
    "from cython.parallel import prange\n",
    "\n",
    "\n",
    "cdef int i\n",
    "cdef int n = 300000\n",
    "cdef int sum = 0\n",
    "\n",
    "for i in prange(n, nogil=True):\n",
    "    sum += i\n",
    "\n",
    "print(sum)"
   ]
  }
 ],
 "metadata": {
  "kernelspec": {
   "display_name": "Python 2",
   "language": "python",
   "name": "python2"
  }
 },
 "nbformat": 4,
 "nbformat_minor": 2
}
