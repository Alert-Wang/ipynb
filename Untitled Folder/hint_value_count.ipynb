{
 "cells": [
  {
   "cell_type": "code",
   "execution_count": 41,
   "metadata": {
    "collapsed": false
   },
   "outputs": [
    {
     "name": "stdout",
     "output_type": "stream",
     "text": [
      "The cython extension is already loaded. To reload it, use:\n",
      "  %reload_ext cython\n"
     ]
    }
   ],
   "source": [
    "import numpy as np\n",
    "import pandas as pd\n",
    "import pdb\n",
    "\n",
    "%matplotlib inline\n",
    "%load_ext  cython"
   ]
  },
  {
   "cell_type": "code",
   "execution_count": 44,
   "metadata": {
    "collapsed": false
   },
   "outputs": [],
   "source": [
    "arr = np.random.normal(loc=1,scale=2,size=(25,1))"
   ]
  },
  {
   "cell_type": "code",
   "execution_count": 3,
   "metadata": {
    "collapsed": false
   },
   "outputs": [
    {
     "data": {
      "text/plain": [
       "<matplotlib.axes._subplots.AxesSubplot at 0x97740f0>"
      ]
     },
     "execution_count": 3,
     "metadata": {},
     "output_type": "execute_result"
    },
    {
     "data": {
      "image/png": "[encoded data removed]",
      "text/plain": [
       "<matplotlib.figure.Figure at 0x90b4d30>"
      ]
     },
     "metadata": {},
     "output_type": "display_data"
    }
   ],
   "source": [
    "df = pd.DataFrame(arr)\n",
    "df['mean'] = df.iloc[:,0].mean()\n",
    "df.plot()"
   ]
  },
  {
   "cell_type": "code",
   "execution_count": 4,
   "metadata": {
    "collapsed": false
   },
   "outputs": [
    {
     "name": "stdout",
     "output_type": "stream",
     "text": [
      "[-0.47669166  0.44250423  1.0235505  -0.17435179  0.20374418  1.10609406\n",
      "  1.9272145  -0.29221452  1.54302712  2.73083613  2.25519686 -1.00868019\n",
      " -1.04170201 -2.25622641  1.34507115  2.3369955   3.04845752  2.09807164\n",
      "  3.07627961  0.12589722  1.39549719  2.04904437  3.31160252  2.37681115\n",
      " -0.43697606]\n"
     ]
    }
   ],
   "source": [
    "vec = df.iloc[:,0].values\n",
    "print vec"
   ]
  },
  {
   "cell_type": "code",
   "execution_count": 15,
   "metadata": {
    "collapsed": false
   },
   "outputs": [],
   "source": [
    "\n",
    "def hint_value_count(vec,val):\n",
    "    '''\n",
    "    INPUT:\n",
    "        vec : iterable containor\n",
    "        val : value to bench line \n",
    "    OUPUT:\n",
    "        the count bench line been hint\n",
    "    WARNING:\n",
    "    static series input will return 0, like:\n",
    "    [1,1,1,1,1] , 1 -> return 0\n",
    "    [1] , 1         -> return 0  \n",
    "    '''\n",
    "    count = 0\n",
    "    for i,v in enumerate(vec):\n",
    "        if len(vec) == 1:\n",
    "            return 0\n",
    "        if i > 0:\n",
    "            xor = ((prev - val) > 0) ^ ((v - val) > 0)\n",
    "            if xor:\n",
    "                count += 1\n",
    "            prev = v\n",
    "        else:\n",
    "            prev = v\n",
    "    return count\n",
    "\n",
    "def hint_value_mean(vec):\n",
    "    return hint_value_count(vec,np.nanmean(vec))\n",
    "    "
   ]
  },
  {
   "cell_type": "code",
   "execution_count": 29,
   "metadata": {
    "collapsed": false
   },
   "outputs": [
    {
     "name": "stdout",
     "output_type": "stream",
     "text": [
      "8\n",
      "8\n"
     ]
    }
   ],
   "source": [
    "print hint_value_count(vec,np.nanmean(vec))\n",
    "print hint_value_mean(vec)"
   ]
  },
  {
   "cell_type": "code",
   "execution_count": 31,
   "metadata": {
    "collapsed": false
   },
   "outputs": [
    {
     "name": "stderr",
     "output_type": "stream",
     "text": [
      "No traceback available to show.\n",
      "test_core_logic1 (__main__.TestHintValueMean) ... ok\n",
      "test_core_logic2 (__main__.TestHintValueMean) ... ok\n",
      "test_core_logic3 (__main__.TestHintValueMean) ... ok\n",
      "test_core_logic4 (__main__.TestHintValueMean) ... ok\n",
      "test_input_type_list (__main__.TestHintValueMean) ... ok\n",
      "test_input_type_numpy_array_int (__main__.TestHintValueMean) ... ok\n",
      "test_input_type_pandas_series (__main__.TestHintValueMean) ... ok\n",
      "test_performance (__main__.TestHintValueMean) ... ok\n",
      "\n",
      "----------------------------------------------------------------------\n",
      "Ran 8 tests in 0.531s\n",
      "\n",
      "OK\n"
     ]
    }
   ],
   "source": [
    "%tb\n",
    "import unittest\n",
    "import time\n",
    "\n",
    "class TestHintValueMean(unittest.TestCase):\n",
    "    def setUp(self):\n",
    "        pass\n",
    "\n",
    "    def tearDown(self):\n",
    "        pass\n",
    "\n",
    "    def test_core_logic1(self):\n",
    "        vec = np.array([-0.99065953, 3.7386871 ,  2.50618797 , 2.11198829 , 1.21186976 , 2.09338828\n",
    "                          ,1.58153956, -0.10506563 , 1.53332777 , 2.94602832 , 3.9844553  , 2.90796741\n",
    "                          ,0.5843126 ,  2.09426637 , 2.57197391 , 5.29092433 , 1.30601905 , 0.23224612\n",
    "                          ,2.63888202 ,-2.9009299  ,-0.76876908  ,2.23563598 , 3.70116308 ,-2.22792873\n",
    "                          ,0.94923266])\n",
    "        self.assertEqual(12,hint_value_mean(vec) ) \n",
    "        \n",
    "    def test_core_logic2(self):\n",
    "        vec = np.array([-0.47669166 , 0.44250423 , 1.0235505 , -0.17435179 , 0.20374418 , 1.10609406\n",
    "                          ,1.9272145 , -0.29221452 , 1.54302712 , 2.73083613 , 2.25519686 , -1.00868019\n",
    "                         ,-1.04170201 ,-2.25622641 , 1.34507115 , 2.3369955  , 3.04845752 , 2.09807164\n",
    "                         , 3.07627961 , 0.12589722 , 1.39549719 , 2.04904437 , 3.31160252 , 2.37681115\n",
    "                         ,-0.43697606])\n",
    "        self.assertEqual(8,hint_value_mean(vec) ) \n",
    "        \n",
    "    def test_core_logic3(self):\n",
    "        vec = np.array([1.,2.,3.,4.,5.,6.])\n",
    "        self.assertEqual(1,hint_value_mean(vec) ) \n",
    "        \n",
    "    def test_core_logic4(self):\n",
    "        vec = np.array([1.,1.,1.,1.,1.,1.])\n",
    "        self.assertEqual(0,hint_value_mean(vec) ) \n",
    "        \n",
    "    def test_core_logic5(self):\n",
    "        vec = np.array([1.])\n",
    "        self.assertEqual(0,hint_value_mean(vec) )\n",
    "        \n",
    "    def test_input_type_pandas_series(self):\n",
    "        vec = pd.Series(np.array([1.,2.,3.,4.,5.,6.]))\n",
    "        self.assertEqual(1,hint_value_mean(vec) )     \n",
    "        \n",
    "    def test_input_type_list(self):\n",
    "        vec = [1.,2.,3.,4.,5.,6.]\n",
    "        self.assertEqual(1,hint_value_mean(vec) )\n",
    "        \n",
    "    def test_input_type_numpy_array_int(self):\n",
    "        vec = [1,2,3,4,5,6]\n",
    "        self.assertEqual(1,hint_value_mean(vec) )  \n",
    "        \n",
    "    def test_performance(self):\n",
    "        vec = np.random.normal(size=(100000,1))\n",
    "        \n",
    "        start = time.time()\n",
    "        hint_value_mean(vec)\n",
    "        end = time.time()\n",
    "        self.assertLessEqual(end - start ,0.7) \n",
    "        \n",
    "    \n",
    "    \n",
    "obj = unittest.main(argv=['ignored', '-v'], exit=False)"
   ]
  },
  {
   "cell_type": "code",
   "execution_count": null,
   "metadata": {
    "collapsed": true
   },
   "outputs": [],
   "source": []
  }
 ],
 "metadata": {
  "kernelspec": {
   "display_name": "Python 2",
   "language": "python",
   "name": "python2"
  },
  "language_info": {
   "codemirror_mode": {
    "name": "ipython",
    "version": 2
   },
   "file_extension": ".py",
   "mimetype": "text/x-python",
   "name": "python",
   "nbconvert_exporter": "python",
   "pygments_lexer": "ipython2",
   "version": "2.7.13"
  }
 },
 "nbformat": 4,
 "nbformat_minor": 2
}
